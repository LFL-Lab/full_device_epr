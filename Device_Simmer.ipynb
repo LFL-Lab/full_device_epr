{
 "cells": [
  {
   "cell_type": "code",
   "execution_count": 1,
   "id": "fd4cf058-7f22-4cd7-af40-ca5ea0d2a5f7",
   "metadata": {},
   "outputs": [],
   "source": [
    "%load_ext autoreload\n",
    "%autoreload 2"
   ]
  },
  {
   "cell_type": "code",
   "execution_count": 2,
   "id": "d2ce2877-eafb-4b9d-82bc-81ba94e8c118",
   "metadata": {},
   "outputs": [],
   "source": [
    "from qiskit_metal import draw, Dict, designs, MetalGUI\n",
    "from qiskit_metal.toolbox_metal import math_and_overrides\n",
    "from qiskit_metal.qlibrary.core import QComponent\n",
    "import qiskit_metal as metal\n",
    "from qiskit_metal.qlibrary.terminations.launchpad_wb import LaunchpadWirebond\n",
    "from qiskit_metal.qlibrary.terminations.short_to_ground import ShortToGround\n",
    "from qiskit_metal.qlibrary.tlines.straight_path import RouteStraight\n",
    "from qiskit_metal.qlibrary.tlines.anchored_path import RouteAnchors\n",
    "from qiskit_metal.qlibrary.tlines.mixed_path import RouteMixed\n",
    "from qiskit_metal.qlibrary.qubits.transmon_cross import TransmonCross\n",
    "from qiskit_metal.qlibrary.tlines.meandered import RouteMeander\n",
    "from qiskit_metal.qlibrary.terminations.open_to_ground import OpenToGround\n",
    "from qiskit_metal.qlibrary.couplers.cap_n_interdigital_tee import CapNInterdigitalTee\n",
    "from qiskit_metal.qlibrary.couplers.line_tee import LineTee\n",
    "from qiskit_metal.analyses.quantization import EPRanalysis\n",
    "\n",
    "from collections import OrderedDict\n",
    "import numpy as np\n",
    "from pyaedt import Hfss\n",
    "import json\n",
    "import pickle\n",
    "from utils import *"
   ]
  },
  {
   "cell_type": "code",
   "execution_count": 3,
   "id": "63afe5bd-188e-4722-99ec-a68952cbb8d7",
   "metadata": {},
   "outputs": [],
   "source": [
    "from qiskit_metal import draw, Dict\n",
    "from qiskit_metal.qlibrary.core import QComponent\n",
    "import numpy as np\n",
    "\n",
    "\n",
    "class CoupledLineTee(QComponent):\n",
    "    \"\"\"Generates a three pin (+) structure comprised of a primary two pin CPW\n",
    "    transmission line, and a secondary one pin neighboring CPW transmission\n",
    "    line that is capacitively/inductively coupled to the primary. Such a\n",
    "    structure can be used, as an example, for generating CPW resonator hangars\n",
    "    off of a transmission line.\n",
    "\n",
    "    Inherits QComponent class.\n",
    "\n",
    "    ::\n",
    "\n",
    "        +----------------------------+\n",
    "        ------------------------------\n",
    "        |\n",
    "        |\n",
    "        |\n",
    "        |\n",
    "        +\n",
    "\n",
    "    .. image::\n",
    "        CoupledLineTee.png\n",
    "\n",
    "    .. meta::\n",
    "        Coupled Line Tee\n",
    "\n",
    "    Default Options:\n",
    "        * prime_width: '10um' -- The width of the trace of the two pin CPW transmission line\n",
    "        * prime_gap: '6um' -- The dielectric gap of the two pin CPW transmission line\n",
    "        * second_width: '10um' -- The width of the trace of the one pin CPW transmission line\n",
    "        * second_gap: '6um' -- The dielectric gap of the one pin CPW transmission line\n",
    "        * coupling_space: '3um' -- The amount of ground plane between the two transmission lines\n",
    "        * coupling_length: '100um' -- The length of parallel between the two transmission lines\n",
    "          note: this includes the distance of the curved second of the second line\n",
    "        * down_length: '100um' -- The length of the hanging part of the resonator, including the curved region\n",
    "        * fillet: '25um'\n",
    "        * mirror: False -- Flips the hanger around the y-axis\n",
    "        * open_termination: True -- sets if the termination of the second line at the coupling side\n",
    "          is an open to ground or short to ground\n",
    "    \"\"\"\n",
    "    component_metadata = Dict(short_name='cpw', _qgeometry_table_path='True')\n",
    "    \"\"\"Component metadata\"\"\"\n",
    "\n",
    "    #Currently setting the primary CPW length based on the coupling_length\n",
    "    #May want it to be it's own value that the user can control?\n",
    "    default_options = Dict(prime_width='10um',\n",
    "                           prime_gap='6um',\n",
    "                           second_width='10um',\n",
    "                           second_gap='6um',\n",
    "                           coupling_space='3um',\n",
    "                           coupling_length='100um',\n",
    "                           down_length='100um',\n",
    "                           fillet='25um',\n",
    "                           mirror=False,\n",
    "                           open_termination=True)\n",
    "    \"\"\"Default connector options\"\"\"\n",
    "\n",
    "    TOOLTIP = \"\"\"Generates a three pin (+) \n",
    "    structure comprised of a primary two \n",
    "    pin CPW transmission line, and a \n",
    "    secondary one pin neighboring CPW \n",
    "    transmission line that is \n",
    "    capacitively/inductively coupled \n",
    "    to the primary.\"\"\"\n",
    "\n",
    "    def make(self):\n",
    "        \"\"\"Build the component.\"\"\"\n",
    "        p = self.p\n",
    "\n",
    "        prime_cpw_length = p.coupling_length * 2 * 1.5\n",
    "        second_flip = 1\n",
    "        if p.mirror:\n",
    "            second_flip = -1\n",
    "\n",
    "        #Primary CPW\n",
    "        prime_cpw = draw.LineString([[-prime_cpw_length / 2, 0],\n",
    "                                     [prime_cpw_length / 2, 0]])\n",
    "\n",
    "        #Secondary CPW\n",
    "        second_down_length = p.down_length\n",
    "        second_y = -p.prime_width / 2 - p.prime_gap - p.coupling_space - p.second_gap - p.second_width / 2\n",
    "        second_cpw = draw.LineString(\n",
    "            [[second_flip * (-p.coupling_length / 2), second_y],\n",
    "             [second_flip * (p.coupling_length / 2), second_y],\n",
    "             [\n",
    "                 second_flip * (p.coupling_length / 2),\n",
    "                 second_y - second_down_length\n",
    "             ]])\n",
    "\n",
    "        second_termination = 0\n",
    "        if p.open_termination:\n",
    "            second_termination = p.second_gap\n",
    "\n",
    "        second_cpw_etch = draw.LineString(\n",
    "            [[\n",
    "                second_flip * (-p.coupling_length / 2 - second_termination),\n",
    "                second_y\n",
    "            ], [second_flip * (p.coupling_length / 2), second_y],\n",
    "             [\n",
    "                 second_flip * (p.coupling_length / 2),\n",
    "                 second_y - second_down_length\n",
    "             ]])\n",
    "\n",
    "        #Rotate and Translate\n",
    "        c_items = [prime_cpw, second_cpw, second_cpw_etch]\n",
    "        c_items = draw.rotate(c_items, p.orientation, origin=(0, 0))\n",
    "        c_items = draw.translate(c_items, p.pos_x, p.pos_y)\n",
    "        [prime_cpw, second_cpw, second_cpw_etch] = c_items\n",
    "\n",
    "        #Add to qgeometry tables\n",
    "        self.add_qgeometry('path', {'prime_cpw': prime_cpw},\n",
    "                           width=p.prime_width)\n",
    "        self.add_qgeometry('path', {'prime_cpw_sub': prime_cpw},\n",
    "                           width=p.prime_width + 2 * p.prime_gap,\n",
    "                           subtract=True)\n",
    "        self.add_qgeometry('path', {'second_cpw': second_cpw},\n",
    "                           width=p.second_width,\n",
    "                           fillet=p.fillet)\n",
    "        self.add_qgeometry('path', {'second_cpw_sub': second_cpw_etch},\n",
    "                           width=p.second_width + 2 * p.second_gap,\n",
    "                           subtract=True,\n",
    "                           fillet=p.fillet)\n",
    "\n",
    "        #Add pins\n",
    "        prime_pin_list = prime_cpw.coords\n",
    "        second_pin_list = second_cpw.coords\n",
    "\n",
    "        self.add_pin('prime_start',\n",
    "                     points=np.array(prime_pin_list[::-1]),\n",
    "                     width=p.prime_width,\n",
    "                     input_as_norm=True)\n",
    "        self.add_pin('prime_end',\n",
    "                     points=np.array(prime_pin_list),\n",
    "                     width=p.prime_width,\n",
    "                     input_as_norm=True)\n",
    "        self.add_pin('second_end',\n",
    "                     points=np.array(second_pin_list[1:]),\n",
    "                     width=p.second_width,\n",
    "                     input_as_norm=True)\n"
   ]
  },
  {
   "cell_type": "code",
   "execution_count": 4,
   "id": "817d9f07-5492-4536-9c16-8b725c2185bb",
   "metadata": {},
   "outputs": [],
   "source": [
    "def setup_metal_design():\n",
    "    design = designs.design_planar.DesignPlanar()\n",
    "    gui = MetalGUI(design)\n",
    "    design.overwrite_enabled = True\n",
    "    return design, gui\n",
    "\n",
    "def set_chip_size(design, size_x='5mm', size_y='5mm'):\n",
    "    design._chips.main.size.size_x = size_x\n",
    "    design._chips.main.size.size_y = size_y\n",
    "\n",
    "def create_qubit(design, qubit_name, claw_length, cross_length, inductance):\n",
    "    xmon1_options = dict(\n",
    "        connection_pads={\n",
    "            connection_pad_name: dict(\n",
    "                connector_location='90',\n",
    "                connector_type='0',\n",
    "                claw_length=claw_length,\n",
    "                ground_spacing='4.1um',\n",
    "                claw_gap='5.1um',\n",
    "                claw_width='15um',\n",
    "                claw_cpw_length=0\n",
    "            ),\n",
    "        },\n",
    "        cross_width='30um',\n",
    "        cross_length=cross_length,\n",
    "        cross_gap='30um',\n",
    "        orientation='-90',\n",
    "        pos_x='-1500um',\n",
    "        pos_y='1200um',\n",
    "        aedt_hfss_inductance=inductance,\n",
    "        hfss_inductance=inductance, \n",
    "        q3d_inductance=inductance,\n",
    "        aedt_q3d_inductance=inductance\n",
    "    )\n",
    "    q1 = TransmonCross(design, qubit_name, options=xmon1_options)\n",
    "    # design.components[qubit_name].options['hfss_inductance'] = f\"{inductance}nH\"\n",
    "\n",
    "def create_feedline(design, feedline_name):\n",
    "    clt1_opts = Dict(prime_width=cpw_width,\n",
    "                     prime_gap='5.1um',\n",
    "                     second_width=cpw_width,\n",
    "                     second_gap='5.1um',\n",
    "                     coupling_space='7.9um',\n",
    "                     coupling_length='225um',\n",
    "                     open_termination=False,\n",
    "                     orientation='-90',\n",
    "                     pos_y='1200um',\n",
    "                     down_length='50um')\n",
    "    clt1 = CoupledLineTee(design, feedline_name, clt1_opts)\n",
    "    return clt1\n",
    "\n",
    "def create_cavity(design, cavity_name, feedline_name, qubit_name):\n",
    "    cpw1_opts = Dict(\n",
    "        pin_inputs=Dict(\n",
    "            start_pin=Dict(component=feedline_name,\n",
    "                           pin='second_end'),\n",
    "            end_pin=Dict(component=qubit_name,\n",
    "                         pin=connection_pad_name)\n",
    "        ),\n",
    "        lead=Dict(end_straight='70um'),\n",
    "        fillet='49.9um',\n",
    "        total_length='3900um',\n",
    "        trace_width=cpw_width,\n",
    "        meander=Dict(spacing='100um', asymmetry='-150um'),\n",
    "        trace_gap='5.1um'\n",
    "    )\n",
    "    cpw1 = RouteMeander(design, cavity_name, options = cpw1_opts)\n"
   ]
  },
  {
   "cell_type": "code",
   "execution_count": 5,
   "id": "019f9861-bae6-4978-956d-c77959fe8c4a",
   "metadata": {},
   "outputs": [],
   "source": [
    "def run_custom_eigenmodal_simulation(design, qubit_name, feedline_name, coupler, cavity_name, setup_name='Setup', index=0):\n",
    "    eig_qres = EPRanalysis(design, \"hfss\")\n",
    "    hfss = eig_qres.sim.renderer\n",
    "    hfss.start()\n",
    "\n",
    "    # Activate Ansys design\n",
    "    hfss.new_ansys_design(f\"TransmonCavity_{index}\", 'eigenmode')\n",
    "    hfss.render_design([qubit_name, feedline_name, cavity_name])  # List of components to include in the simulation\n",
    "    # Customize simulation settings\n",
    "    setup = hfss.pinfo.setup\n",
    "    setup.n_modes = 2\n",
    "    #setup.reuse_selected_design = True,\n",
    "    #setup.reuse_setup =True,\n",
    "    setup.passes = 15 #15\n",
    "    setup.max_delta_f = 0.05 #0.02\n",
    "    setup.min_freq = '2GHz'\n",
    "    setup.max_passes = 50\n",
    "    setup.min_coverged = 1\n",
    "    #setup.basis_order = \"Mixed Order\"\n",
    "\n",
    "    # Custom functionality to change material properties\n",
    "    aedt = Hfss(projectname=hfss.pinfo.project_name, \n",
    "                designname=hfss.pinfo.design.name, \n",
    "                solution_type='eigenmode',\n",
    "                new_desktop_session=False, \n",
    "                close_on_exit=False)\n",
    "                \n",
    "    materials = aedt.materials\n",
    "    silicon = materials.checkifmaterialexists('silicon')\n",
    "    silicon.permittivity = 11.45\n",
    "    silicon.dielectric_loss_tangent = 1E-7\n",
    "\n",
    "    Lj = design.components[qubit_name].options.aedt_hfss_inductance\n",
    "    # hfss.options.Lj = Lj\n",
    "    \n",
    "    pinfo = hfss.pinfo\n",
    "    pinfo.design.set_variable('Lj', f'{Lj} nH')\n",
    "    pinfo.design.set_variable('Cj', '0 fF')\n",
    "\n",
    "    pinfo = hfss.pinfo\n",
    "    pinfo.junctions['jj'] = {'Lj_variable': 'Lj', 'rect': f'JJ_rect_Lj_{qubit_name}_rect_jj',\n",
    "                                 'line': f'JJ_Lj_{qubit_name}_rect_jj_',  'Cj_variable': 'Cj'}\n",
    "    pinfo.validate_junction_info() # Check that valid names of variables and objects have been supplied\n",
    "    pinfo.dissipative['dielectrics_bulk'] = ['main'] # Dissipative elements: specify\n",
    "\n",
    "    modeler = hfss.pinfo.design.modeler\n",
    "\n",
    "    mesh_lengths = {'mesh1': {\"objects\": [f\"cross_{qubit_name}\",f\"readout_connector_arm_{qubit_name}\",f\"prime_cpw_{feedline_name}\", f\"second_cpw_{feedline_name}\", f\"trace_{cavity_name}\", f\"readout_connector_arm_{feedline_name}\"], \"MaxLength\": '4um'},\n",
    "                    'mesh2': {'objects': [f\"JJ_rect_Lj_{qubit_name}_rect_jj\"], \"MaxLength\": '2um'}\n",
    "                    }\n",
    "    \n",
    "    # for mesh_name, mesh_info in mesh_lengths.items():\n",
    "    #     modeler.mesh_length(mesh_name, mesh_info['objects'], MaxLength=mesh_info['MaxLength'])      \n",
    "\n",
    "    add_ground_strip_and_mesh(modeler, coupler, mesh_lengths)\n",
    "    \n",
    "    setup.analyze()\n",
    "\n",
    "    # Store printouts or any other information\n",
    "    output_data = {\n",
    "        'n_modes': setup.n_modes,\n",
    "        'passes': setup.passes,\n",
    "        'ansys_file_path': hfss.pinfo.project_path\n",
    "    }\n",
    "\n",
    "    return hfss, setup, output_data\n"
   ]
  },
  {
   "cell_type": "code",
   "execution_count": 6,
   "id": "83690758-8d55-4d34-b3a7-a7cb0e2de7d9",
   "metadata": {
    "scrolled": true
   },
   "outputs": [
    {
     "data": {
      "image/png": "[encoded data removed]",
      "text/plain": [
       "<IPython.core.display.Image object>"
      ]
     },
     "metadata": {
      "image/png": {
       "width": 500
      }
     },
     "output_type": "display_data"
    },
    {
     "name": "stderr",
     "output_type": "stream",
     "text": [
      "INFO 12:08PM [connect_project]: Connecting to Ansys Desktop API...\n",
      "INFO 12:08PM [load_ansys_project]: \tOpened Ansys App\n",
      "INFO 12:08PM [load_ansys_project]: \tOpened Ansys Desktop v2021.1.0\n",
      "INFO 12:08PM [load_ansys_project]: \tOpened Ansys Project\n",
      "\tFolder:    D:/lfl/Documents/Ansoft/\n",
      "\tProject:   Project39\n",
      "INFO 12:08PM [connect_design]: \tOpened active design\n",
      "\tDesign:    TransmonCavity_06 [Solution type: Eigenmode]\n",
      "INFO 12:08PM [get_setup]: \tOpened setup `Setup`  (<class 'pyEPR.ansys.HfssEMSetup'>)\n",
      "INFO 12:08PM [connect]: \tConnected to project \"Project39\" and design \"TransmonCavity_06\" 😀 \n",
      "\n",
      "INFO 12:08PM [connect_design]: \tOpened active design\n",
      "\tDesign:    TransmonCavity_41 [Solution type: Eigenmode]\n",
      "WARNING 12:08PM [connect_setup]: \tNo design setup detected.\n",
      "WARNING 12:08PM [connect_setup]: \tCreating eigenmode default setup.\n",
      "INFO 12:08PM [get_setup]: \tOpened setup `Setup`  (<class 'pyEPR.ansys.HfssEMSetup'>)\n"
     ]
    },
    {
     "name": "stdout",
     "output_type": "stream",
     "text": [
      "pyaedt INFO: using existing logger.\n"
     ]
    },
    {
     "name": "stderr",
     "output_type": "stream",
     "text": [
      "INFO:Global:using existing logger.\n"
     ]
    },
    {
     "name": "stdout",
     "output_type": "stream",
     "text": [
      "pyaedt INFO: Launching PyAEDT outside AEDT with CPython and PythonNET.\n"
     ]
    },
    {
     "name": "stderr",
     "output_type": "stream",
     "text": [
      "INFO:Global:Launching PyAEDT outside AEDT with CPython and PythonNET.\n"
     ]
    },
    {
     "name": "stdout",
     "output_type": "stream",
     "text": [
      "pyaedt INFO: AEDT installation Path D:\\Program Files\\AnsysEM\\AnsysEM21.1\\Win64.\n"
     ]
    },
    {
     "name": "stderr",
     "output_type": "stream",
     "text": [
      "INFO:Global:AEDT installation Path D:\\Program Files\\AnsysEM\\AnsysEM21.1\\Win64.\n"
     ]
    },
    {
     "name": "stdout",
     "output_type": "stream",
     "text": [
      "pyaedt INFO: Launching AEDT with module PythonNET.\n"
     ]
    },
    {
     "name": "stderr",
     "output_type": "stream",
     "text": [
      "INFO:Global:Launching AEDT with module PythonNET.\n"
     ]
    },
    {
     "name": "stdout",
     "output_type": "stream",
     "text": [
      "pyaedt WARNING: PyAEDT is not supported in AEDT versions earlier than 2021 R2. Trying to launch PyAEDT with PyWin32.\n"
     ]
    },
    {
     "name": "stderr",
     "output_type": "stream",
     "text": [
      "WARNING:Global:PyAEDT is not supported in AEDT versions earlier than 2021 R2. Trying to launch PyAEDT with PyWin32.\n"
     ]
    },
    {
     "name": "stdout",
     "output_type": "stream",
     "text": [
      "pyaedt INFO: pyaedt v0.6.46\n"
     ]
    },
    {
     "name": "stderr",
     "output_type": "stream",
     "text": [
      "INFO:Global:pyaedt v0.6.46\n"
     ]
    },
    {
     "name": "stdout",
     "output_type": "stream",
     "text": [
      "pyaedt INFO: Python version 3.11.4 | packaged by conda-forge | (main, Jun 10 2023, 17:59:51) [MSC v.1935 64 bit (AMD64)]\n"
     ]
    },
    {
     "name": "stderr",
     "output_type": "stream",
     "text": [
      "INFO:Global:Python version 3.11.4 | packaged by conda-forge | (main, Jun 10 2023, 17:59:51) [MSC v.1935 64 bit (AMD64)]\n"
     ]
    },
    {
     "name": "stdout",
     "output_type": "stream",
     "text": [
      "pyaedt INFO: Project Project39 set to active.\n"
     ]
    },
    {
     "name": "stderr",
     "output_type": "stream",
     "text": [
      "INFO:Global:Project Project39 set to active.\n"
     ]
    },
    {
     "name": "stdout",
     "output_type": "stream",
     "text": [
      "pyaedt ERROR: Error in :   File \"c:\\Users\\lfl\\.conda\\envs\\qiskit_metal\\Lib\\site-packages\\pyaedt\\application\\design_solutions.py\", line 634, in solution_type\n"
     ]
    },
    {
     "name": "stderr",
     "output_type": "stream",
     "text": [
      "ERROR:Global:Error in :   File \"c:\\Users\\lfl\\.conda\\envs\\qiskit_metal\\Lib\\site-packages\\pyaedt\\application\\design_solutions.py\", line 634, in solution_type\n"
     ]
    },
    {
     "name": "stdout",
     "output_type": "stream",
     "text": [
      "pyaedt ERROR: 'eigenmode' - solution_type -  KEY ERROR.\n"
     ]
    },
    {
     "name": "stderr",
     "output_type": "stream",
     "text": [
      "ERROR:Global:'eigenmode' - solution_type -  KEY ERROR.\n"
     ]
    },
    {
     "name": "stdout",
     "output_type": "stream",
     "text": [
      "pyaedt ERROR: Project: Project39, Design: TransmonCavity_06 (Eigenmode), [error] Script macro error: The simulation for Project39 : TransmonCavity_06 : Setup has been stopped on user request (12:08:37 PM  Nov 03, 2023)\n",
      "\n"
     ]
    },
    {
     "name": "stderr",
     "output_type": "stream",
     "text": [
      "ERROR:Global:Project: Project39, Design: TransmonCavity_06 (Eigenmode), [error] Script macro error: The simulation for Project39 : TransmonCavity_06 : Setup has been stopped on user request (12:08:37 PM  Nov 03, 2023)\n",
      "\n"
     ]
    },
    {
     "name": "stdout",
     "output_type": "stream",
     "text": [
      "pyaedt ERROR: Arguments with values: \n"
     ]
    },
    {
     "name": "stderr",
     "output_type": "stream",
     "text": [
      "ERROR:Global:Arguments with values: \n"
     ]
    },
    {
     "name": "stdout",
     "output_type": "stream",
     "text": [
      "pyaedt ERROR:     value = eigenmode \n"
     ]
    },
    {
     "name": "stderr",
     "output_type": "stream",
     "text": [
      "ERROR:Global:    value = eigenmode \n"
     ]
    },
    {
     "name": "stdout",
     "output_type": "stream",
     "text": [
      "pyaedt ERROR: Check Online documentation on: https://aedt.docs.pyansys.com/search.html?q=solution_type\n"
     ]
    },
    {
     "name": "stderr",
     "output_type": "stream",
     "text": [
      "ERROR:Global:Check Online documentation on: https://aedt.docs.pyansys.com/search.html?q=solution_type\n"
     ]
    },
    {
     "name": "stdout",
     "output_type": "stream",
     "text": [
      "pyaedt INFO: Aedt Objects initialized\n"
     ]
    },
    {
     "name": "stderr",
     "output_type": "stream",
     "text": [
      "INFO:Global:Aedt Objects initialized\n"
     ]
    },
    {
     "name": "stdout",
     "output_type": "stream",
     "text": [
      "pyaedt INFO: Variable Manager initialized\n"
     ]
    },
    {
     "name": "stderr",
     "output_type": "stream",
     "text": [
      "INFO:Global:Variable Manager initialized\n"
     ]
    },
    {
     "name": "stdout",
     "output_type": "stream",
     "text": [
      "pyaedt INFO: Design Loaded\n"
     ]
    },
    {
     "name": "stderr",
     "output_type": "stream",
     "text": [
      "INFO:Global:Design Loaded\n"
     ]
    },
    {
     "name": "stdout",
     "output_type": "stream",
     "text": [
      "pyaedt INFO: Successfully loaded project materials !\n"
     ]
    },
    {
     "name": "stderr",
     "output_type": "stream",
     "text": [
      "INFO:Global:Successfully loaded project materials !\n"
     ]
    },
    {
     "name": "stdout",
     "output_type": "stream",
     "text": [
      "pyaedt INFO: Materials Loaded\n"
     ]
    },
    {
     "name": "stderr",
     "output_type": "stream",
     "text": [
      "INFO:Global:Materials Loaded\n"
     ]
    },
    {
     "name": "stdout",
     "output_type": "stream",
     "text": [
      "pyaedt ERROR: Error in :   File \"c:\\Users\\lfl\\.conda\\envs\\qiskit_metal\\Lib\\site-packages\\pyaedt\\modeler\\cad\\Primitives.py\", line 2775, in _refresh_planes\n"
     ]
    },
    {
     "name": "stderr",
     "output_type": "stream",
     "text": [
      "ERROR:Global:Error in :   File \"c:\\Users\\lfl\\.conda\\envs\\qiskit_metal\\Lib\\site-packages\\pyaedt\\modeler\\cad\\Primitives.py\", line 2775, in _refresh_planes\n"
     ]
    },
    {
     "name": "stdout",
     "output_type": "stream",
     "text": [
      "pyaedt ERROR: (-2147352567, 'Exception occurred.', (0, None, None, None, 0, -2147024383), None) - _refresh_planes -  GENERAL OR AEDT ERROR.\n"
     ]
    },
    {
     "name": "stderr",
     "output_type": "stream",
     "text": [
      "ERROR:Global:(-2147352567, 'Exception occurred.', (0, None, None, None, 0, -2147024383), None) - _refresh_planes -  GENERAL OR AEDT ERROR.\n"
     ]
    },
    {
     "name": "stdout",
     "output_type": "stream",
     "text": [
      "pyaedt ERROR: Project: Project39, Design: TransmonCavity_41 (Eigenmode), [error] Script macro error: testing feature is NOT enabled. (12:09:14 PM  Nov 03, 2023)\n",
      "\n"
     ]
    },
    {
     "name": "stderr",
     "output_type": "stream",
     "text": [
      "ERROR:Global:Project: Project39, Design: TransmonCavity_41 (Eigenmode), [error] Script macro error: testing feature is NOT enabled. (12:09:14 PM  Nov 03, 2023)\n",
      "\n"
     ]
    },
    {
     "name": "stdout",
     "output_type": "stream",
     "text": [
      "pyaedt ERROR: Arguments with values: \n"
     ]
    },
    {
     "name": "stderr",
     "output_type": "stream",
     "text": [
      "ERROR:Global:Arguments with values: \n"
     ]
    },
    {
     "name": "stdout",
     "output_type": "stream",
     "text": [
      "pyaedt ERROR: Check Online documentation on: https://aedt.docs.pyansys.com/search.html?q=_refresh_planes\n"
     ]
    },
    {
     "name": "stderr",
     "output_type": "stream",
     "text": [
      "ERROR:Global:Check Online documentation on: https://aedt.docs.pyansys.com/search.html?q=_refresh_planes\n"
     ]
    },
    {
     "name": "stdout",
     "output_type": "stream",
     "text": [
      "pyaedt ERROR: Error in :   File \"c:\\Users\\lfl\\.conda\\envs\\qiskit_metal\\Lib\\site-packages\\pyaedt\\modeler\\cad\\Primitives.py\", line 2775, in _refresh_planes\n"
     ]
    },
    {
     "name": "stderr",
     "output_type": "stream",
     "text": [
      "ERROR:Global:Error in :   File \"c:\\Users\\lfl\\.conda\\envs\\qiskit_metal\\Lib\\site-packages\\pyaedt\\modeler\\cad\\Primitives.py\", line 2775, in _refresh_planes\n"
     ]
    },
    {
     "name": "stdout",
     "output_type": "stream",
     "text": [
      "pyaedt ERROR: (-2147352567, 'Exception occurred.', (0, None, None, None, 0, -2147024383), None) - _refresh_planes -  GENERAL OR AEDT ERROR.\n"
     ]
    },
    {
     "name": "stderr",
     "output_type": "stream",
     "text": [
      "ERROR:Global:(-2147352567, 'Exception occurred.', (0, None, None, None, 0, -2147024383), None) - _refresh_planes -  GENERAL OR AEDT ERROR.\n"
     ]
    },
    {
     "name": "stdout",
     "output_type": "stream",
     "text": [
      "pyaedt ERROR: Project: Project39, Design: TransmonCavity_41 (Eigenmode), [error] Script macro error: testing feature is NOT enabled. (12:09:14 PM  Nov 03, 2023)\n",
      "\n"
     ]
    },
    {
     "name": "stderr",
     "output_type": "stream",
     "text": [
      "ERROR:Global:Project: Project39, Design: TransmonCavity_41 (Eigenmode), [error] Script macro error: testing feature is NOT enabled. (12:09:14 PM  Nov 03, 2023)\n",
      "\n"
     ]
    },
    {
     "name": "stdout",
     "output_type": "stream",
     "text": [
      "pyaedt ERROR: Arguments with values: \n"
     ]
    },
    {
     "name": "stderr",
     "output_type": "stream",
     "text": [
      "ERROR:Global:Arguments with values: \n"
     ]
    },
    {
     "name": "stdout",
     "output_type": "stream",
     "text": [
      "pyaedt ERROR: Check Online documentation on: https://aedt.docs.pyansys.com/search.html?q=_refresh_planes\n"
     ]
    },
    {
     "name": "stderr",
     "output_type": "stream",
     "text": [
      "ERROR:Global:Check Online documentation on: https://aedt.docs.pyansys.com/search.html?q=_refresh_planes\n"
     ]
    },
    {
     "name": "stdout",
     "output_type": "stream",
     "text": [
      "pyaedt ERROR: Error in :   File \"c:\\Users\\lfl\\.conda\\envs\\qiskit_metal\\Lib\\site-packages\\pyaedt\\modeler\\cad\\Primitives.py\", line 2807, in _create_object\n"
     ]
    },
    {
     "name": "stderr",
     "output_type": "stream",
     "text": [
      "ERROR:Global:Error in :   File \"c:\\Users\\lfl\\.conda\\envs\\qiskit_metal\\Lib\\site-packages\\pyaedt\\modeler\\cad\\Primitives.py\", line 2807, in _create_object\n"
     ]
    },
    {
     "name": "stdout",
     "output_type": "stream",
     "text": [
      "pyaedt ERROR: (-2147352567, 'Exception occurred.', (0, None, None, None, 0, -2147024383), None) - _create_object -  GENERAL OR AEDT ERROR.\n"
     ]
    },
    {
     "name": "stderr",
     "output_type": "stream",
     "text": [
      "ERROR:Global:(-2147352567, 'Exception occurred.', (0, None, None, None, 0, -2147024383), None) - _create_object -  GENERAL OR AEDT ERROR.\n"
     ]
    },
    {
     "name": "stdout",
     "output_type": "stream",
     "text": [
      "pyaedt ERROR: Project: Project39, Design: TransmonCavity_41 (Eigenmode), [error] Script macro error: testing feature is NOT enabled. (12:09:14 PM  Nov 03, 2023)\n",
      "\n"
     ]
    },
    {
     "name": "stderr",
     "output_type": "stream",
     "text": [
      "ERROR:Global:Project: Project39, Design: TransmonCavity_41 (Eigenmode), [error] Script macro error: testing feature is NOT enabled. (12:09:14 PM  Nov 03, 2023)\n",
      "\n"
     ]
    },
    {
     "name": "stdout",
     "output_type": "stream",
     "text": [
      "pyaedt ERROR: Arguments with values: \n"
     ]
    },
    {
     "name": "stderr",
     "output_type": "stream",
     "text": [
      "ERROR:Global:Arguments with values: \n"
     ]
    },
    {
     "name": "stdout",
     "output_type": "stream",
     "text": [
      "pyaedt ERROR:     name = main \n"
     ]
    },
    {
     "name": "stderr",
     "output_type": "stream",
     "text": [
      "ERROR:Global:    name = main \n"
     ]
    },
    {
     "name": "stdout",
     "output_type": "stream",
     "text": [
      "pyaedt ERROR:     pid = None \n"
     ]
    },
    {
     "name": "stderr",
     "output_type": "stream",
     "text": [
      "ERROR:Global:    pid = None \n"
     ]
    },
    {
     "name": "stdout",
     "output_type": "stream",
     "text": [
      "pyaedt ERROR: Check Online documentation on: https://aedt.docs.pyansys.com/search.html?q=_create_object\n"
     ]
    },
    {
     "name": "stderr",
     "output_type": "stream",
     "text": [
      "ERROR:Global:Check Online documentation on: https://aedt.docs.pyansys.com/search.html?q=_create_object\n"
     ]
    },
    {
     "name": "stdout",
     "output_type": "stream",
     "text": [
      "pyaedt ERROR: Error in :   File \"c:\\Users\\lfl\\.conda\\envs\\qiskit_metal\\Lib\\site-packages\\pyaedt\\modeler\\cad\\Primitives.py\", line 2807, in _create_object\n"
     ]
    },
    {
     "name": "stderr",
     "output_type": "stream",
     "text": [
      "ERROR:Global:Error in :   File \"c:\\Users\\lfl\\.conda\\envs\\qiskit_metal\\Lib\\site-packages\\pyaedt\\modeler\\cad\\Primitives.py\", line 2807, in _create_object\n"
     ]
    },
    {
     "name": "stdout",
     "output_type": "stream",
     "text": [
      "pyaedt ERROR: (-2147352567, 'Exception occurred.', (0, None, None, None, 0, -2147024383), None) - _create_object -  GENERAL OR AEDT ERROR.\n"
     ]
    },
    {
     "name": "stderr",
     "output_type": "stream",
     "text": [
      "ERROR:Global:(-2147352567, 'Exception occurred.', (0, None, None, None, 0, -2147024383), None) - _create_object -  GENERAL OR AEDT ERROR.\n"
     ]
    },
    {
     "name": "stdout",
     "output_type": "stream",
     "text": [
      "pyaedt ERROR: Project: Project39, Design: TransmonCavity_41 (Eigenmode), [error] Script macro error: testing feature is NOT enabled. (12:09:14 PM  Nov 03, 2023)\n",
      "\n"
     ]
    },
    {
     "name": "stderr",
     "output_type": "stream",
     "text": [
      "ERROR:Global:Project: Project39, Design: TransmonCavity_41 (Eigenmode), [error] Script macro error: testing feature is NOT enabled. (12:09:14 PM  Nov 03, 2023)\n",
      "\n"
     ]
    },
    {
     "name": "stdout",
     "output_type": "stream",
     "text": [
      "pyaedt ERROR: Arguments with values: \n"
     ]
    },
    {
     "name": "stderr",
     "output_type": "stream",
     "text": [
      "ERROR:Global:Arguments with values: \n"
     ]
    },
    {
     "name": "stdout",
     "output_type": "stream",
     "text": [
      "pyaedt ERROR:     name = sample_holder \n"
     ]
    },
    {
     "name": "stderr",
     "output_type": "stream",
     "text": [
      "ERROR:Global:    name = sample_holder \n"
     ]
    },
    {
     "name": "stdout",
     "output_type": "stream",
     "text": [
      "pyaedt ERROR:     pid = None \n"
     ]
    },
    {
     "name": "stderr",
     "output_type": "stream",
     "text": [
      "ERROR:Global:    pid = None \n"
     ]
    },
    {
     "name": "stdout",
     "output_type": "stream",
     "text": [
      "pyaedt ERROR: Check Online documentation on: https://aedt.docs.pyansys.com/search.html?q=_create_object\n"
     ]
    },
    {
     "name": "stderr",
     "output_type": "stream",
     "text": [
      "ERROR:Global:Check Online documentation on: https://aedt.docs.pyansys.com/search.html?q=_create_object\n"
     ]
    },
    {
     "name": "stdout",
     "output_type": "stream",
     "text": [
      "pyaedt ERROR: Error in :   File \"c:\\Users\\lfl\\.conda\\envs\\qiskit_metal\\Lib\\site-packages\\pyaedt\\modeler\\cad\\Primitives.py\", line 2807, in _create_object\n"
     ]
    },
    {
     "name": "stderr",
     "output_type": "stream",
     "text": [
      "ERROR:Global:Error in :   File \"c:\\Users\\lfl\\.conda\\envs\\qiskit_metal\\Lib\\site-packages\\pyaedt\\modeler\\cad\\Primitives.py\", line 2807, in _create_object\n"
     ]
    },
    {
     "name": "stdout",
     "output_type": "stream",
     "text": [
      "pyaedt ERROR: (-2147352567, 'Exception occurred.', (0, None, None, None, 0, -2147024383), None) - _create_object -  GENERAL OR AEDT ERROR.\n"
     ]
    },
    {
     "name": "stderr",
     "output_type": "stream",
     "text": [
      "ERROR:Global:(-2147352567, 'Exception occurred.', (0, None, None, None, 0, -2147024383), None) - _create_object -  GENERAL OR AEDT ERROR.\n"
     ]
    },
    {
     "name": "stdout",
     "output_type": "stream",
     "text": [
      "pyaedt ERROR: Project: Project39, Design: TransmonCavity_41 (Eigenmode), [error] Script macro error: testing feature is NOT enabled. (12:09:14 PM  Nov 03, 2023)\n",
      "\n"
     ]
    },
    {
     "name": "stderr",
     "output_type": "stream",
     "text": [
      "ERROR:Global:Project: Project39, Design: TransmonCavity_41 (Eigenmode), [error] Script macro error: testing feature is NOT enabled. (12:09:14 PM  Nov 03, 2023)\n",
      "\n"
     ]
    },
    {
     "name": "stdout",
     "output_type": "stream",
     "text": [
      "pyaedt ERROR: Arguments with values: \n"
     ]
    },
    {
     "name": "stderr",
     "output_type": "stream",
     "text": [
      "ERROR:Global:Arguments with values: \n"
     ]
    },
    {
     "name": "stdout",
     "output_type": "stream",
     "text": [
      "pyaedt ERROR:     name = prime_cpw_clt \n"
     ]
    },
    {
     "name": "stderr",
     "output_type": "stream",
     "text": [
      "ERROR:Global:    name = prime_cpw_clt \n"
     ]
    },
    {
     "name": "stdout",
     "output_type": "stream",
     "text": [
      "pyaedt ERROR:     pid = None \n"
     ]
    },
    {
     "name": "stderr",
     "output_type": "stream",
     "text": [
      "ERROR:Global:    pid = None \n"
     ]
    },
    {
     "name": "stdout",
     "output_type": "stream",
     "text": [
      "pyaedt ERROR: Check Online documentation on: https://aedt.docs.pyansys.com/search.html?q=_create_object\n"
     ]
    },
    {
     "name": "stderr",
     "output_type": "stream",
     "text": [
      "ERROR:Global:Check Online documentation on: https://aedt.docs.pyansys.com/search.html?q=_create_object\n"
     ]
    },
    {
     "name": "stdout",
     "output_type": "stream",
     "text": [
      "pyaedt ERROR: Error in :   File \"c:\\Users\\lfl\\.conda\\envs\\qiskit_metal\\Lib\\site-packages\\pyaedt\\modeler\\cad\\Primitives.py\", line 2807, in _create_object\n"
     ]
    },
    {
     "name": "stderr",
     "output_type": "stream",
     "text": [
      "ERROR:Global:Error in :   File \"c:\\Users\\lfl\\.conda\\envs\\qiskit_metal\\Lib\\site-packages\\pyaedt\\modeler\\cad\\Primitives.py\", line 2807, in _create_object\n"
     ]
    },
    {
     "name": "stdout",
     "output_type": "stream",
     "text": [
      "pyaedt ERROR: (-2147352567, 'Exception occurred.', (0, None, None, None, 0, -2147024383), None) - _create_object -  GENERAL OR AEDT ERROR.\n"
     ]
    },
    {
     "name": "stderr",
     "output_type": "stream",
     "text": [
      "ERROR:Global:(-2147352567, 'Exception occurred.', (0, None, None, None, 0, -2147024383), None) - _create_object -  GENERAL OR AEDT ERROR.\n"
     ]
    },
    {
     "name": "stdout",
     "output_type": "stream",
     "text": [
      "pyaedt ERROR: Project: Project39, Design: TransmonCavity_41 (Eigenmode), [error] Script macro error: testing feature is NOT enabled. (12:09:14 PM  Nov 03, 2023)\n",
      "\n"
     ]
    },
    {
     "name": "stderr",
     "output_type": "stream",
     "text": [
      "ERROR:Global:Project: Project39, Design: TransmonCavity_41 (Eigenmode), [error] Script macro error: testing feature is NOT enabled. (12:09:14 PM  Nov 03, 2023)\n",
      "\n"
     ]
    },
    {
     "name": "stdout",
     "output_type": "stream",
     "text": [
      "pyaedt ERROR: Arguments with values: \n"
     ]
    },
    {
     "name": "stderr",
     "output_type": "stream",
     "text": [
      "ERROR:Global:Arguments with values: \n"
     ]
    },
    {
     "name": "stdout",
     "output_type": "stream",
     "text": [
      "pyaedt ERROR:     name = second_cpw_clt \n"
     ]
    },
    {
     "name": "stderr",
     "output_type": "stream",
     "text": [
      "ERROR:Global:    name = second_cpw_clt \n"
     ]
    },
    {
     "name": "stdout",
     "output_type": "stream",
     "text": [
      "pyaedt ERROR:     pid = None \n"
     ]
    },
    {
     "name": "stderr",
     "output_type": "stream",
     "text": [
      "ERROR:Global:    pid = None \n"
     ]
    },
    {
     "name": "stdout",
     "output_type": "stream",
     "text": [
      "pyaedt ERROR: Check Online documentation on: https://aedt.docs.pyansys.com/search.html?q=_create_object\n"
     ]
    },
    {
     "name": "stderr",
     "output_type": "stream",
     "text": [
      "ERROR:Global:Check Online documentation on: https://aedt.docs.pyansys.com/search.html?q=_create_object\n"
     ]
    },
    {
     "name": "stdout",
     "output_type": "stream",
     "text": [
      "pyaedt ERROR: Error in :   File \"c:\\Users\\lfl\\.conda\\envs\\qiskit_metal\\Lib\\site-packages\\pyaedt\\modeler\\cad\\Primitives.py\", line 2807, in _create_object\n"
     ]
    },
    {
     "name": "stderr",
     "output_type": "stream",
     "text": [
      "ERROR:Global:Error in :   File \"c:\\Users\\lfl\\.conda\\envs\\qiskit_metal\\Lib\\site-packages\\pyaedt\\modeler\\cad\\Primitives.py\", line 2807, in _create_object\n"
     ]
    },
    {
     "name": "stdout",
     "output_type": "stream",
     "text": [
      "pyaedt ERROR: (-2147352567, 'Exception occurred.', (0, None, None, None, 0, -2147024383), None) - _create_object -  GENERAL OR AEDT ERROR.\n"
     ]
    },
    {
     "name": "stderr",
     "output_type": "stream",
     "text": [
      "ERROR:Global:(-2147352567, 'Exception occurred.', (0, None, None, None, 0, -2147024383), None) - _create_object -  GENERAL OR AEDT ERROR.\n"
     ]
    },
    {
     "name": "stdout",
     "output_type": "stream",
     "text": [
      "pyaedt ERROR: Project: Project39, Design: TransmonCavity_41 (Eigenmode), [error] Script macro error: testing feature is NOT enabled. (12:09:14 PM  Nov 03, 2023)\n",
      "\n"
     ]
    },
    {
     "name": "stderr",
     "output_type": "stream",
     "text": [
      "ERROR:Global:Project: Project39, Design: TransmonCavity_41 (Eigenmode), [error] Script macro error: testing feature is NOT enabled. (12:09:14 PM  Nov 03, 2023)\n",
      "\n"
     ]
    },
    {
     "name": "stdout",
     "output_type": "stream",
     "text": [
      "pyaedt ERROR: Arguments with values: \n"
     ]
    },
    {
     "name": "stderr",
     "output_type": "stream",
     "text": [
      "ERROR:Global:Arguments with values: \n"
     ]
    },
    {
     "name": "stdout",
     "output_type": "stream",
     "text": [
      "pyaedt ERROR:     name = trace_cavity \n"
     ]
    },
    {
     "name": "stderr",
     "output_type": "stream",
     "text": [
      "ERROR:Global:    name = trace_cavity \n"
     ]
    },
    {
     "name": "stdout",
     "output_type": "stream",
     "text": [
      "pyaedt ERROR:     pid = None \n"
     ]
    },
    {
     "name": "stderr",
     "output_type": "stream",
     "text": [
      "ERROR:Global:    pid = None \n"
     ]
    },
    {
     "name": "stdout",
     "output_type": "stream",
     "text": [
      "pyaedt ERROR: Check Online documentation on: https://aedt.docs.pyansys.com/search.html?q=_create_object\n"
     ]
    },
    {
     "name": "stderr",
     "output_type": "stream",
     "text": [
      "ERROR:Global:Check Online documentation on: https://aedt.docs.pyansys.com/search.html?q=_create_object\n"
     ]
    },
    {
     "name": "stdout",
     "output_type": "stream",
     "text": [
      "pyaedt ERROR: Error in :   File \"c:\\Users\\lfl\\.conda\\envs\\qiskit_metal\\Lib\\site-packages\\pyaedt\\modeler\\cad\\Primitives.py\", line 2807, in _create_object\n"
     ]
    },
    {
     "name": "stderr",
     "output_type": "stream",
     "text": [
      "ERROR:Global:Error in :   File \"c:\\Users\\lfl\\.conda\\envs\\qiskit_metal\\Lib\\site-packages\\pyaedt\\modeler\\cad\\Primitives.py\", line 2807, in _create_object\n"
     ]
    },
    {
     "name": "stdout",
     "output_type": "stream",
     "text": [
      "pyaedt ERROR: (-2147352567, 'Exception occurred.', (0, None, None, None, 0, -2147024383), None) - _create_object -  GENERAL OR AEDT ERROR.\n"
     ]
    },
    {
     "name": "stderr",
     "output_type": "stream",
     "text": [
      "ERROR:Global:(-2147352567, 'Exception occurred.', (0, None, None, None, 0, -2147024383), None) - _create_object -  GENERAL OR AEDT ERROR.\n"
     ]
    },
    {
     "name": "stdout",
     "output_type": "stream",
     "text": [
      "pyaedt ERROR: Project: Project39, Design: TransmonCavity_41 (Eigenmode), [error] Script macro error: testing feature is NOT enabled. (12:09:14 PM  Nov 03, 2023)\n",
      "\n"
     ]
    },
    {
     "name": "stderr",
     "output_type": "stream",
     "text": [
      "ERROR:Global:Project: Project39, Design: TransmonCavity_41 (Eigenmode), [error] Script macro error: testing feature is NOT enabled. (12:09:14 PM  Nov 03, 2023)\n",
      "\n"
     ]
    },
    {
     "name": "stdout",
     "output_type": "stream",
     "text": [
      "pyaedt ERROR: Arguments with values: \n"
     ]
    },
    {
     "name": "stderr",
     "output_type": "stream",
     "text": [
      "ERROR:Global:Arguments with values: \n"
     ]
    },
    {
     "name": "stdout",
     "output_type": "stream",
     "text": [
      "pyaedt ERROR:     name = cross_qubit_4 \n"
     ]
    },
    {
     "name": "stderr",
     "output_type": "stream",
     "text": [
      "ERROR:Global:    name = cross_qubit_4 \n"
     ]
    },
    {
     "name": "stdout",
     "output_type": "stream",
     "text": [
      "pyaedt ERROR:     pid = None \n"
     ]
    },
    {
     "name": "stderr",
     "output_type": "stream",
     "text": [
      "ERROR:Global:    pid = None \n"
     ]
    },
    {
     "name": "stdout",
     "output_type": "stream",
     "text": [
      "pyaedt ERROR: Check Online documentation on: https://aedt.docs.pyansys.com/search.html?q=_create_object\n"
     ]
    },
    {
     "name": "stderr",
     "output_type": "stream",
     "text": [
      "ERROR:Global:Check Online documentation on: https://aedt.docs.pyansys.com/search.html?q=_create_object\n"
     ]
    },
    {
     "name": "stdout",
     "output_type": "stream",
     "text": [
      "pyaedt ERROR: Error in :   File \"c:\\Users\\lfl\\.conda\\envs\\qiskit_metal\\Lib\\site-packages\\pyaedt\\modeler\\cad\\Primitives.py\", line 2807, in _create_object\n"
     ]
    },
    {
     "name": "stderr",
     "output_type": "stream",
     "text": [
      "ERROR:Global:Error in :   File \"c:\\Users\\lfl\\.conda\\envs\\qiskit_metal\\Lib\\site-packages\\pyaedt\\modeler\\cad\\Primitives.py\", line 2807, in _create_object\n"
     ]
    },
    {
     "name": "stdout",
     "output_type": "stream",
     "text": [
      "pyaedt ERROR: (-2147352567, 'Exception occurred.', (0, None, None, None, 0, -2147024383), None) - _create_object -  GENERAL OR AEDT ERROR.\n"
     ]
    },
    {
     "name": "stderr",
     "output_type": "stream",
     "text": [
      "ERROR:Global:(-2147352567, 'Exception occurred.', (0, None, None, None, 0, -2147024383), None) - _create_object -  GENERAL OR AEDT ERROR.\n"
     ]
    },
    {
     "name": "stdout",
     "output_type": "stream",
     "text": [
      "pyaedt ERROR: Project: Project39, Design: TransmonCavity_41 (Eigenmode), [error] Script macro error: testing feature is NOT enabled. (12:09:14 PM  Nov 03, 2023)\n",
      "\n"
     ]
    },
    {
     "name": "stderr",
     "output_type": "stream",
     "text": [
      "ERROR:Global:Project: Project39, Design: TransmonCavity_41 (Eigenmode), [error] Script macro error: testing feature is NOT enabled. (12:09:14 PM  Nov 03, 2023)\n",
      "\n"
     ]
    },
    {
     "name": "stdout",
     "output_type": "stream",
     "text": [
      "pyaedt ERROR: Arguments with values: \n"
     ]
    },
    {
     "name": "stderr",
     "output_type": "stream",
     "text": [
      "ERROR:Global:Arguments with values: \n"
     ]
    },
    {
     "name": "stdout",
     "output_type": "stream",
     "text": [
      "pyaedt ERROR:     name = readout_connector_arm_qubit_4 \n"
     ]
    },
    {
     "name": "stderr",
     "output_type": "stream",
     "text": [
      "ERROR:Global:    name = readout_connector_arm_qubit_4 \n"
     ]
    },
    {
     "name": "stdout",
     "output_type": "stream",
     "text": [
      "pyaedt ERROR:     pid = None \n"
     ]
    },
    {
     "name": "stderr",
     "output_type": "stream",
     "text": [
      "ERROR:Global:    pid = None \n"
     ]
    },
    {
     "name": "stdout",
     "output_type": "stream",
     "text": [
      "pyaedt ERROR: Check Online documentation on: https://aedt.docs.pyansys.com/search.html?q=_create_object\n"
     ]
    },
    {
     "name": "stderr",
     "output_type": "stream",
     "text": [
      "ERROR:Global:Check Online documentation on: https://aedt.docs.pyansys.com/search.html?q=_create_object\n"
     ]
    },
    {
     "name": "stdout",
     "output_type": "stream",
     "text": [
      "pyaedt ERROR: Error in :   File \"c:\\Users\\lfl\\.conda\\envs\\qiskit_metal\\Lib\\site-packages\\pyaedt\\modeler\\cad\\Primitives.py\", line 2807, in _create_object\n"
     ]
    },
    {
     "name": "stderr",
     "output_type": "stream",
     "text": [
      "ERROR:Global:Error in :   File \"c:\\Users\\lfl\\.conda\\envs\\qiskit_metal\\Lib\\site-packages\\pyaedt\\modeler\\cad\\Primitives.py\", line 2807, in _create_object\n"
     ]
    },
    {
     "name": "stdout",
     "output_type": "stream",
     "text": [
      "pyaedt ERROR: (-2147352567, 'Exception occurred.', (0, None, None, None, 0, -2147024383), None) - _create_object -  GENERAL OR AEDT ERROR.\n"
     ]
    },
    {
     "name": "stderr",
     "output_type": "stream",
     "text": [
      "ERROR:Global:(-2147352567, 'Exception occurred.', (0, None, None, None, 0, -2147024383), None) - _create_object -  GENERAL OR AEDT ERROR.\n"
     ]
    },
    {
     "name": "stdout",
     "output_type": "stream",
     "text": [
      "pyaedt ERROR: Project: Project39, Design: TransmonCavity_41 (Eigenmode), [error] Script macro error: testing feature is NOT enabled. (12:09:14 PM  Nov 03, 2023)\n",
      "\n"
     ]
    },
    {
     "name": "stderr",
     "output_type": "stream",
     "text": [
      "ERROR:Global:Project: Project39, Design: TransmonCavity_41 (Eigenmode), [error] Script macro error: testing feature is NOT enabled. (12:09:14 PM  Nov 03, 2023)\n",
      "\n"
     ]
    },
    {
     "name": "stdout",
     "output_type": "stream",
     "text": [
      "pyaedt ERROR: Arguments with values: \n"
     ]
    },
    {
     "name": "stderr",
     "output_type": "stream",
     "text": [
      "ERROR:Global:Arguments with values: \n"
     ]
    },
    {
     "name": "stdout",
     "output_type": "stream",
     "text": [
      "pyaedt ERROR:     name = JJ_rect_Lj_qubit_4_rect_jj \n"
     ]
    },
    {
     "name": "stderr",
     "output_type": "stream",
     "text": [
      "ERROR:Global:    name = JJ_rect_Lj_qubit_4_rect_jj \n"
     ]
    },
    {
     "name": "stdout",
     "output_type": "stream",
     "text": [
      "pyaedt ERROR:     pid = None \n"
     ]
    },
    {
     "name": "stderr",
     "output_type": "stream",
     "text": [
      "ERROR:Global:    pid = None \n"
     ]
    },
    {
     "name": "stdout",
     "output_type": "stream",
     "text": [
      "pyaedt ERROR: Check Online documentation on: https://aedt.docs.pyansys.com/search.html?q=_create_object\n"
     ]
    },
    {
     "name": "stderr",
     "output_type": "stream",
     "text": [
      "ERROR:Global:Check Online documentation on: https://aedt.docs.pyansys.com/search.html?q=_create_object\n"
     ]
    },
    {
     "name": "stdout",
     "output_type": "stream",
     "text": [
      "pyaedt ERROR: Error in :   File \"c:\\Users\\lfl\\.conda\\envs\\qiskit_metal\\Lib\\site-packages\\pyaedt\\modeler\\cad\\Primitives.py\", line 2807, in _create_object\n"
     ]
    },
    {
     "name": "stderr",
     "output_type": "stream",
     "text": [
      "ERROR:Global:Error in :   File \"c:\\Users\\lfl\\.conda\\envs\\qiskit_metal\\Lib\\site-packages\\pyaedt\\modeler\\cad\\Primitives.py\", line 2807, in _create_object\n"
     ]
    },
    {
     "name": "stdout",
     "output_type": "stream",
     "text": [
      "pyaedt ERROR: (-2147352567, 'Exception occurred.', (0, None, None, None, 0, -2147024383), None) - _create_object -  GENERAL OR AEDT ERROR.\n"
     ]
    },
    {
     "name": "stderr",
     "output_type": "stream",
     "text": [
      "ERROR:Global:(-2147352567, 'Exception occurred.', (0, None, None, None, 0, -2147024383), None) - _create_object -  GENERAL OR AEDT ERROR.\n"
     ]
    },
    {
     "name": "stdout",
     "output_type": "stream",
     "text": [
      "pyaedt ERROR: Project: Project39, Design: TransmonCavity_41 (Eigenmode), [error] Script macro error: testing feature is NOT enabled. (12:09:14 PM  Nov 03, 2023)\n",
      "\n"
     ]
    },
    {
     "name": "stderr",
     "output_type": "stream",
     "text": [
      "ERROR:Global:Project: Project39, Design: TransmonCavity_41 (Eigenmode), [error] Script macro error: testing feature is NOT enabled. (12:09:14 PM  Nov 03, 2023)\n",
      "\n"
     ]
    },
    {
     "name": "stdout",
     "output_type": "stream",
     "text": [
      "pyaedt ERROR: Arguments with values: \n"
     ]
    },
    {
     "name": "stderr",
     "output_type": "stream",
     "text": [
      "ERROR:Global:Arguments with values: \n"
     ]
    },
    {
     "name": "stdout",
     "output_type": "stream",
     "text": [
      "pyaedt ERROR:     name = ground_main_plane \n"
     ]
    },
    {
     "name": "stderr",
     "output_type": "stream",
     "text": [
      "ERROR:Global:    name = ground_main_plane \n"
     ]
    },
    {
     "name": "stdout",
     "output_type": "stream",
     "text": [
      "pyaedt ERROR:     pid = None \n"
     ]
    },
    {
     "name": "stderr",
     "output_type": "stream",
     "text": [
      "ERROR:Global:    pid = None \n"
     ]
    },
    {
     "name": "stdout",
     "output_type": "stream",
     "text": [
      "pyaedt ERROR: Check Online documentation on: https://aedt.docs.pyansys.com/search.html?q=_create_object\n"
     ]
    },
    {
     "name": "stderr",
     "output_type": "stream",
     "text": [
      "ERROR:Global:Check Online documentation on: https://aedt.docs.pyansys.com/search.html?q=_create_object\n"
     ]
    },
    {
     "name": "stdout",
     "output_type": "stream",
     "text": [
      "pyaedt ERROR: Error in :   File \"c:\\Users\\lfl\\.conda\\envs\\qiskit_metal\\Lib\\site-packages\\pyaedt\\modeler\\cad\\Primitives.py\", line 2807, in _create_object\n"
     ]
    },
    {
     "name": "stderr",
     "output_type": "stream",
     "text": [
      "ERROR:Global:Error in :   File \"c:\\Users\\lfl\\.conda\\envs\\qiskit_metal\\Lib\\site-packages\\pyaedt\\modeler\\cad\\Primitives.py\", line 2807, in _create_object\n"
     ]
    },
    {
     "name": "stdout",
     "output_type": "stream",
     "text": [
      "pyaedt ERROR: (-2147352567, 'Exception occurred.', (0, None, None, None, 0, -2147024383), None) - _create_object -  GENERAL OR AEDT ERROR.\n"
     ]
    },
    {
     "name": "stderr",
     "output_type": "stream",
     "text": [
      "ERROR:Global:(-2147352567, 'Exception occurred.', (0, None, None, None, 0, -2147024383), None) - _create_object -  GENERAL OR AEDT ERROR.\n"
     ]
    },
    {
     "name": "stdout",
     "output_type": "stream",
     "text": [
      "pyaedt ERROR: Project: Project39, Design: TransmonCavity_41 (Eigenmode), [error] Script macro error: testing feature is NOT enabled. (12:09:14 PM  Nov 03, 2023)\n",
      "\n"
     ]
    },
    {
     "name": "stderr",
     "output_type": "stream",
     "text": [
      "ERROR:Global:Project: Project39, Design: TransmonCavity_41 (Eigenmode), [error] Script macro error: testing feature is NOT enabled. (12:09:14 PM  Nov 03, 2023)\n",
      "\n"
     ]
    },
    {
     "name": "stdout",
     "output_type": "stream",
     "text": [
      "pyaedt ERROR: Arguments with values: \n"
     ]
    },
    {
     "name": "stderr",
     "output_type": "stream",
     "text": [
      "ERROR:Global:Arguments with values: \n"
     ]
    },
    {
     "name": "stdout",
     "output_type": "stream",
     "text": [
      "pyaedt ERROR:     name = JJ_Lj_qubit_4_rect_jj_ \n"
     ]
    },
    {
     "name": "stderr",
     "output_type": "stream",
     "text": [
      "ERROR:Global:    name = JJ_Lj_qubit_4_rect_jj_ \n"
     ]
    },
    {
     "name": "stdout",
     "output_type": "stream",
     "text": [
      "pyaedt ERROR:     pid = None \n"
     ]
    },
    {
     "name": "stderr",
     "output_type": "stream",
     "text": [
      "ERROR:Global:    pid = None \n"
     ]
    },
    {
     "name": "stdout",
     "output_type": "stream",
     "text": [
      "pyaedt ERROR: Check Online documentation on: https://aedt.docs.pyansys.com/search.html?q=_create_object\n"
     ]
    },
    {
     "name": "stderr",
     "output_type": "stream",
     "text": [
      "ERROR:Global:Check Online documentation on: https://aedt.docs.pyansys.com/search.html?q=_create_object\n"
     ]
    },
    {
     "name": "stdout",
     "output_type": "stream",
     "text": [
      "pyaedt ERROR: Error in :   File \"c:\\Users\\lfl\\.conda\\envs\\qiskit_metal\\Lib\\site-packages\\pyaedt\\modeler\\cad\\Primitives.py\", line 2775, in _refresh_planes\n"
     ]
    },
    {
     "name": "stderr",
     "output_type": "stream",
     "text": [
      "ERROR:Global:Error in :   File \"c:\\Users\\lfl\\.conda\\envs\\qiskit_metal\\Lib\\site-packages\\pyaedt\\modeler\\cad\\Primitives.py\", line 2775, in _refresh_planes\n"
     ]
    },
    {
     "name": "stdout",
     "output_type": "stream",
     "text": [
      "pyaedt ERROR: (-2147352567, 'Exception occurred.', (0, None, None, None, 0, -2147024383), None) - _refresh_planes -  GENERAL OR AEDT ERROR.\n"
     ]
    },
    {
     "name": "stderr",
     "output_type": "stream",
     "text": [
      "ERROR:Global:(-2147352567, 'Exception occurred.', (0, None, None, None, 0, -2147024383), None) - _refresh_planes -  GENERAL OR AEDT ERROR.\n"
     ]
    },
    {
     "name": "stdout",
     "output_type": "stream",
     "text": [
      "pyaedt ERROR: Project: Project39, Design: TransmonCavity_41 (Eigenmode), [error] Script macro error: testing feature is NOT enabled. (12:09:14 PM  Nov 03, 2023)\n",
      "\n"
     ]
    },
    {
     "name": "stderr",
     "output_type": "stream",
     "text": [
      "ERROR:Global:Project: Project39, Design: TransmonCavity_41 (Eigenmode), [error] Script macro error: testing feature is NOT enabled. (12:09:14 PM  Nov 03, 2023)\n",
      "\n"
     ]
    },
    {
     "name": "stdout",
     "output_type": "stream",
     "text": [
      "pyaedt ERROR: Arguments with values: \n"
     ]
    },
    {
     "name": "stderr",
     "output_type": "stream",
     "text": [
      "ERROR:Global:Arguments with values: \n"
     ]
    },
    {
     "name": "stdout",
     "output_type": "stream",
     "text": [
      "pyaedt ERROR: Check Online documentation on: https://aedt.docs.pyansys.com/search.html?q=_refresh_planes\n"
     ]
    },
    {
     "name": "stderr",
     "output_type": "stream",
     "text": [
      "ERROR:Global:Check Online documentation on: https://aedt.docs.pyansys.com/search.html?q=_refresh_planes\n",
      "INFO 12:09PM [analyze]: Analyzing setup Setup\n"
     ]
    },
    {
     "ename": "com_error",
     "evalue": "(-2147023170, 'The remote procedure call failed.', None, None)",
     "output_type": "error",
     "traceback": [
      "\u001b[1;31m---------------------------------------------------------------------------\u001b[0m",
      "\u001b[1;31mcom_error\u001b[0m                                 Traceback (most recent call last)",
      "\u001b[1;32md:\\andre\\full device epr\\Device_Simmer.ipynb Cell 6\u001b[0m line \u001b[0;36m3\n\u001b[0;32m     <a href='vscode-notebook-cell:/d%3A/andre/full%20device%20epr/Device_Simmer.ipynb#W5sZmlsZQ%3D%3D?line=31'>32</a>\u001b[0m ansys_data \u001b[39m=\u001b[39m {}\n\u001b[0;32m     <a href='vscode-notebook-cell:/d%3A/andre/full%20device%20epr/Device_Simmer.ipynb#W5sZmlsZQ%3D%3D?line=33'>34</a>\u001b[0m \u001b[39m# Run custom Eigenmodal Simulation\u001b[39;00m\n\u001b[1;32m---> <a href='vscode-notebook-cell:/d%3A/andre/full%20device%20epr/Device_Simmer.ipynb#W5sZmlsZQ%3D%3D?line=34'>35</a>\u001b[0m hfss, setup, output_data \u001b[39m=\u001b[39m run_custom_eigenmodal_simulation(design, qubit_name, feedline_name, clt, cavity_name, index\u001b[39m=\u001b[39;49mi)\n\u001b[0;32m     <a href='vscode-notebook-cell:/d%3A/andre/full%20device%20epr/Device_Simmer.ipynb#W5sZmlsZQ%3D%3D?line=35'>36</a>\u001b[0m ansys_data[qubit_name] \u001b[39m=\u001b[39m output_data\n\u001b[0;32m     <a href='vscode-notebook-cell:/d%3A/andre/full%20device%20epr/Device_Simmer.ipynb#W5sZmlsZQ%3D%3D?line=36'>37</a>\u001b[0m hfsss\u001b[39m.\u001b[39mappend(hfss)\n",
      "\u001b[1;32md:\\andre\\full device epr\\Device_Simmer.ipynb Cell 6\u001b[0m line \u001b[0;36m5\n\u001b[0;32m     <a href='vscode-notebook-cell:/d%3A/andre/full%20device%20epr/Device_Simmer.ipynb#W5sZmlsZQ%3D%3D?line=51'>52</a>\u001b[0m \u001b[39m# for mesh_name, mesh_info in mesh_lengths.items():\u001b[39;00m\n\u001b[0;32m     <a href='vscode-notebook-cell:/d%3A/andre/full%20device%20epr/Device_Simmer.ipynb#W5sZmlsZQ%3D%3D?line=52'>53</a>\u001b[0m \u001b[39m#     modeler.mesh_length(mesh_name, mesh_info['objects'], MaxLength=mesh_info['MaxLength'])      \u001b[39;00m\n\u001b[0;32m     <a href='vscode-notebook-cell:/d%3A/andre/full%20device%20epr/Device_Simmer.ipynb#W5sZmlsZQ%3D%3D?line=54'>55</a>\u001b[0m add_ground_strip_and_mesh(modeler, coupler, mesh_lengths)\n\u001b[1;32m---> <a href='vscode-notebook-cell:/d%3A/andre/full%20device%20epr/Device_Simmer.ipynb#W5sZmlsZQ%3D%3D?line=56'>57</a>\u001b[0m setup\u001b[39m.\u001b[39;49manalyze()\n\u001b[0;32m     <a href='vscode-notebook-cell:/d%3A/andre/full%20device%20epr/Device_Simmer.ipynb#W5sZmlsZQ%3D%3D?line=58'>59</a>\u001b[0m \u001b[39m# Store printouts or any other information\u001b[39;00m\n\u001b[0;32m     <a href='vscode-notebook-cell:/d%3A/andre/full%20device%20epr/Device_Simmer.ipynb#W5sZmlsZQ%3D%3D?line=59'>60</a>\u001b[0m output_data \u001b[39m=\u001b[39m {\n\u001b[0;32m     <a href='vscode-notebook-cell:/d%3A/andre/full%20device%20epr/Device_Simmer.ipynb#W5sZmlsZQ%3D%3D?line=60'>61</a>\u001b[0m     \u001b[39m'\u001b[39m\u001b[39mn_modes\u001b[39m\u001b[39m'\u001b[39m: setup\u001b[39m.\u001b[39mn_modes,\n\u001b[0;32m     <a href='vscode-notebook-cell:/d%3A/andre/full%20device%20epr/Device_Simmer.ipynb#W5sZmlsZQ%3D%3D?line=61'>62</a>\u001b[0m     \u001b[39m'\u001b[39m\u001b[39mpasses\u001b[39m\u001b[39m'\u001b[39m: setup\u001b[39m.\u001b[39mpasses,\n\u001b[0;32m     <a href='vscode-notebook-cell:/d%3A/andre/full%20device%20epr/Device_Simmer.ipynb#W5sZmlsZQ%3D%3D?line=62'>63</a>\u001b[0m     \u001b[39m'\u001b[39m\u001b[39mansys_file_path\u001b[39m\u001b[39m'\u001b[39m: hfss\u001b[39m.\u001b[39mpinfo\u001b[39m.\u001b[39mproject_path\n\u001b[0;32m     <a href='vscode-notebook-cell:/d%3A/andre/full%20device%20epr/Device_Simmer.ipynb#W5sZmlsZQ%3D%3D?line=63'>64</a>\u001b[0m }\n",
      "File \u001b[1;32mc:\\Users\\lfl\\.conda\\envs\\qiskit_metal\\Lib\\site-packages\\pyEPR\\ansys.py:1065\u001b[0m, in \u001b[0;36mHfssSetup.analyze\u001b[1;34m(self, name)\u001b[0m\n\u001b[0;32m   1063\u001b[0m     name \u001b[39m=\u001b[39m \u001b[39mself\u001b[39m\u001b[39m.\u001b[39mname\n\u001b[0;32m   1064\u001b[0m logger\u001b[39m.\u001b[39minfo(\u001b[39mf\u001b[39m\u001b[39m'\u001b[39m\u001b[39mAnalyzing setup \u001b[39m\u001b[39m{\u001b[39;00mname\u001b[39m}\u001b[39;00m\u001b[39m'\u001b[39m)\n\u001b[1;32m-> 1065\u001b[0m \u001b[39mreturn\u001b[39;00m \u001b[39mself\u001b[39;49m\u001b[39m.\u001b[39;49mparent\u001b[39m.\u001b[39;49m_design\u001b[39m.\u001b[39;49mAnalyze(name)\n",
      "File \u001b[1;32m<COMObject GetDesign>:2\u001b[0m, in \u001b[0;36mAnalyze\u001b[1;34m(self, simulationName)\u001b[0m\n",
      "\u001b[1;31mcom_error\u001b[0m: (-2147023170, 'The remote procedure call failed.', None, None)"
     ]
    },
    {
     "name": "stderr",
     "output_type": "stream",
     "text": [
      "01:09PM 25s CRITICAL [_qt_message_handler]: line: 0, func: None(), file: None  CRITICAL: QEventDispatcherWin32::wakeUp: Failed to post a message (Not enough quota is available to process this command.)\n",
      "\n"
     ]
    },
    {
     "ename": "",
     "evalue": "",
     "output_type": "error",
     "traceback": [
      "\u001b[1;31mThe Kernel crashed while executing code in the the current cell or a previous cell. Please review the code in the cell(s) to identify a possible cause of the failure. Click <a href='https://aka.ms/vscodeJupyterKernelCrash'>here</a> for more info. View Jupyter <a href='command:jupyter.viewOutput'>log</a> for further details."
     ]
    }
   ],
   "source": [
    "cpw_width = '11.7um'\n",
    "connection_pad_name = 'readout'\n",
    "cavity_name = 'cavity'\n",
    "feedline_name = 'clt'\n",
    "\n",
    "# Replace these lists with your ML-predicted values\n",
    "# predicted_cross_length =[ 97.2,  95.6, 150. , 127.6, 210 ]\n",
    "# predicted_claw_length = [ 70 ,  83.5, 126.2, 100.7,  70.6]\n",
    "predicted_cross_length = [211.36686180080213, 239.67001841727927, 199.29546197022296, 272.80405439803087, 166.21118594572997]\n",
    "predicted_claw_length = [62.74561331858793, 238.54614619784087, 166.65135380618355, 49.04728878924247, 122.98283288276569]\n",
    "Lj_vals = [10.130278903289723, 8.837126261668763, 10.545628251119771, 7.934490145874526, 12.130125654474945]\n",
    "setups, hfsss = [], []\n",
    "\n",
    "for i, (cross_length, claw_length, Lj) in enumerate(zip(predicted_cross_length[4:5], predicted_claw_length[4:5], Lj_vals[4:5])):\n",
    "    i+=4\n",
    "    design, gui = setup_metal_design()\n",
    "    set_chip_size(design)\n",
    "    \n",
    "    qubit_name = f'qubit_{i}'\n",
    "    xmon = create_qubit(design, qubit_name, f'{claw_length}um', f'{cross_length}um', Lj)\n",
    "    clt = create_feedline(design, feedline_name)\n",
    "    cavity = create_cavity(design, cavity_name, feedline_name, qubit_name)\n",
    "\n",
    "    gui.rebuild()\n",
    "    gui.zoom_on_components([qubit_name, cavity_name, feedline_name])\n",
    "\n",
    "    # Save screenshot\n",
    "    screenshot_path = f\"screenshot_{i}.png\"  # Change the file path and format as needed\n",
    "    gui.screenshot(screenshot_path)\n",
    "    #gui.main_window.close()\n",
    "    \n",
    "    ansys_data = {}\n",
    "\n",
    "    # Run custom Eigenmodal Simulation\n",
    "    hfss, setup, output_data = run_custom_eigenmodal_simulation(design, qubit_name, feedline_name, clt, cavity_name, index=i)\n",
    "    ansys_data[qubit_name] = output_data\n",
    "    hfsss.append(hfss)\n",
    "    setups.append(setup)\n",
    "    # setup.vars.Lj = Lj\n",
    "\n",
    "    # Update JSON file after each loop\n",
    "    with open('ansys_data.json', 'w') as f:\n",
    "        json.dump(ansys_data, f)\n",
    "\n",
    "    # Clear design for the next iteration\n",
    "    design.delete_all_components()\n"
   ]
  },
  {
   "cell_type": "markdown",
   "id": "cb846f56-8ae4-4f62-9dfd-786a088a40fc",
   "metadata": {},
   "source": [
    "# EPR Analysis"
   ]
  },
  {
   "cell_type": "code",
   "execution_count": null,
   "id": "6eeb6a97",
   "metadata": {},
   "outputs": [
    {
     "name": "stderr",
     "output_type": "stream",
     "text": [
      "INFO 12:29PM [connect_project]: Connecting to Ansys Desktop API...\n",
      "INFO 12:29PM [load_ansys_project]: \tFile path to HFSS project found.\n",
      "INFO 12:29PM [load_ansys_project]: \tOpened Ansys App\n",
      "INFO 12:29PM [load_ansys_project]: \tOpened Ansys Desktop v2021.1.0\n",
      "INFO 12:29PM [load_ansys_project]: \tOpened Ansys Project\n",
      "\tFolder:    D:/lfl/Documents/Ansoft/\n",
      "\tProject:   Project38\n",
      "INFO 12:29PM [connect_design]: \tOpened active design\n",
      "\tDesign:    TransmonCavity_4 [Solution type: Eigenmode]\n",
      "INFO 12:29PM [get_setup]: \tOpened setup `Setup`  (<class 'pyEPR.ansys.HfssEMSetup'>)\n",
      "INFO 12:29PM [connect]: \tConnected to project \"Project38\" and design \"TransmonCavity_4\" 😀 \n",
      "\n"
     ]
    },
    {
     "name": "stdout",
     "output_type": "stream",
     "text": [
      "Eigenmode\n",
      "       Unnamed: 0  Num Tets    Min edge length    Max edge length    \\\n",
      "0           main      2763303           0.000097           0.462885   \n",
      "1  sample_holder      1685303           0.000158           0.498515   \n",
      "\n",
      "   RMS edge length    Min tet vol    Max tet vol    Mean tet vol    \\\n",
      "0           0.011516   6.597590e-14       0.003164    6.243890e-07   \n",
      "1           0.017067   1.298770e-13       0.004961    2.443420e-06   \n",
      "\n",
      "   Std Devn (vol)    \n",
      "0          0.000022  \n",
      "1          0.000068  \n"
     ]
    }
   ],
   "source": [
    "import pyEPR as epr\n",
    "path = r\"D:\\lfl\\Documents\\Ansoft\"\n",
    "\n",
    "# 1. Connect to your Ansys, and load your design\n",
    "pinfo = epr.ProjectInfo(project_path = path, #path to the project file\n",
    "                        project_name = r'Project38',\n",
    "                        design_name  = r'TransmonCavity_4')\n",
    "\n",
    "# check to see if file is okay\n",
    "print(pinfo.design.solution_type)\n",
    "\n",
    "print(pinfo.setup.get_mesh_stats())"
   ]
  },
  {
   "cell_type": "code",
   "execution_count": null,
   "id": "e54f3550",
   "metadata": {},
   "outputs": [],
   "source": [
    "pinfo.dissipative['dielectrics_bulk'] = ['main'] # Dissipative elements: specify"
   ]
  },
  {
   "cell_type": "code",
   "execution_count": null,
   "id": "ed0014e6",
   "metadata": {},
   "outputs": [],
   "source": [
    "qubit_name = \"qubit_4\""
   ]
  },
  {
   "cell_type": "code",
   "execution_count": null,
   "id": "13349ad0",
   "metadata": {},
   "outputs": [],
   "source": [
    "pinfo.junctions['jj'] = {'Lj_variable': 'Lj', 'rect': f'JJ_rect_Lj_{qubit_name}_rect_jj',\n",
    "                            'line': f'JJ_Lj_{qubit_name}_rect_jj_',  'Cj_variable': 'Cj'}\n",
    "pinfo.validate_junction_info() # Check that valid names of variables and objects have been supplied"
   ]
  },
  {
   "cell_type": "code",
   "execution_count": null,
   "id": "1f0d10cc",
   "metadata": {},
   "outputs": [
    {
     "data": {
      "text/plain": [
       "{'jj': {'Lj_variable': 'Lj',\n",
       "  'rect': 'JJ_rect_Lj_qubit_4_rect_jj',\n",
       "  'line': 'JJ_Lj_qubit_4_rect_jj_',\n",
       "  'Cj_variable': 'Cj'}}"
      ]
     },
     "execution_count": 10,
     "metadata": {},
     "output_type": "execute_result"
    }
   ],
   "source": [
    "pinfo.junctions"
   ]
  },
  {
   "cell_type": "code",
   "execution_count": null,
   "id": "68bc3a04",
   "metadata": {},
   "outputs": [
    {
     "name": "stdout",
     "output_type": "stream",
     "text": [
      "Design \"TransmonCavity_4\" info:\n",
      "\t# eigenmodes    2\n",
      "\t# variations    1\n"
     ]
    },
    {
     "data": {
      "text/html": [
       "<div>\n",
       "<style scoped>\n",
       "    .dataframe tbody tr th:only-of-type {\n",
       "        vertical-align: middle;\n",
       "    }\n",
       "\n",
       "    .dataframe tbody tr th {\n",
       "        vertical-align: top;\n",
       "    }\n",
       "\n",
       "    .dataframe thead th {\n",
       "        text-align: right;\n",
       "    }\n",
       "</style>\n",
       "<table border=\"1\" class=\"dataframe\">\n",
       "  <thead>\n",
       "    <tr style=\"text-align: right;\">\n",
       "      <th></th>\n",
       "      <th></th>\n",
       "      <th>Freq. (GHz)</th>\n",
       "      <th>Quality Factor</th>\n",
       "    </tr>\n",
       "    <tr>\n",
       "      <th>variation</th>\n",
       "      <th>mode</th>\n",
       "      <th></th>\n",
       "      <th></th>\n",
       "    </tr>\n",
       "  </thead>\n",
       "  <tbody>\n",
       "    <tr>\n",
       "      <th rowspan=\"2\" valign=\"top\">0</th>\n",
       "      <th>0</th>\n",
       "      <td>4.808487</td>\n",
       "      <td>1.088517e+07</td>\n",
       "    </tr>\n",
       "    <tr>\n",
       "      <th>1</th>\n",
       "      <td>6.825551</td>\n",
       "      <td>1.089208e+07</td>\n",
       "    </tr>\n",
       "  </tbody>\n",
       "</table>\n",
       "</div>"
      ],
      "text/plain": [
       "                Freq. (GHz)  Quality Factor\n",
       "variation mode                             \n",
       "0         0        4.808487    1.088517e+07\n",
       "          1        6.825551    1.089208e+07"
      ]
     },
     "execution_count": 11,
     "metadata": {},
     "output_type": "execute_result"
    }
   ],
   "source": [
    "eprh = epr.DistributedAnalysis(pinfo) # epr hfss analysis \n",
    "eprh.get_ansys_frequencies_all()"
   ]
  },
  {
   "cell_type": "code",
   "execution_count": null,
   "id": "f70c2d37",
   "metadata": {},
   "outputs": [
    {
     "name": "stderr",
     "output_type": "stream",
     "text": [
      "c:\\Users\\lfl\\.conda\\envs\\qiskit_metal\\Lib\\site-packages\\pyEPR\\project_info.py:239: FutureWarning: The default dtype for empty Series will be 'object' instead of 'float64' in a future version. Specify a dtype explicitly to silence this warning.\n",
      "  options=pd.Series(get_instance_vars(self.options)),\n"
     ]
    },
    {
     "name": "stdout",
     "output_type": "stream",
     "text": [
      "\n",
      "Variation 0  [1/1]\n"
     ]
    },
    {
     "name": "stderr",
     "output_type": "stream",
     "text": [
      "c:\\Users\\lfl\\.conda\\envs\\qiskit_metal\\Lib\\site-packages\\pyEPR\\core_distributed_analysis.py:1101: FutureWarning: The default dtype for empty Series will be 'object' instead of 'float64' in a future version. Specify a dtype explicitly to silence this warning.\n",
      "  Ljs = pd.Series({})\n",
      "c:\\Users\\lfl\\.conda\\envs\\qiskit_metal\\Lib\\site-packages\\pyEPR\\core_distributed_analysis.py:1102: FutureWarning: The default dtype for empty Series will be 'object' instead of 'float64' in a future version. Specify a dtype explicitly to silence this warning.\n",
      "  Cjs = pd.Series({})\n",
      "c:\\Users\\lfl\\.conda\\envs\\qiskit_metal\\Lib\\site-packages\\pyEPR\\core_distributed_analysis.py:1245: FutureWarning: The default dtype for empty Series will be 'object' instead of 'float64' in a future version. Specify a dtype explicitly to silence this warning.\n",
      "  _Om = pd.Series({})\n"
     ]
    },
    {
     "name": "stdout",
     "output_type": "stream",
     "text": [
      "\n",
      "  \u001b[1mMode 0 at 4.81 GHz   [1/2]\u001b[0m\n",
      "    Calculating ℰ_magnetic,ℰ_electric\n",
      "       (ℰ_E-ℰ_H)/ℰ_E       ℰ_E       ℰ_H\n",
      "               98.8%  7.556e-27 9.231e-29\n",
      "\n",
      "    Calculating junction energy participation ration (EPR)\n",
      "\tmethod=`line_voltage`. First estimates:\n",
      "\tjunction        EPR p_0j   sign s_0j    (p_capacitive)\n"
     ]
    },
    {
     "name": "stderr",
     "output_type": "stream",
     "text": [
      "c:\\Users\\lfl\\.conda\\envs\\qiskit_metal\\Lib\\site-packages\\pyEPR\\core_distributed_analysis.py:981: FutureWarning: The default dtype for empty Series will be 'object' instead of 'float64' in a future version. Specify a dtype explicitly to silence this warning.\n",
      "  Sj = pd.Series({})\n"
     ]
    },
    {
     "name": "stdout",
     "output_type": "stream",
     "text": [
      "\t\tEnergy fraction (Lj over Lj&Cj)= 98.26%\n",
      "\tjj              0.987253  (+)        0.0174574\n",
      "\t\t(U_tot_cap-U_tot_ind)/mean=0.89%\n",
      "Calculating Qdielectric_main for mode 0 (0/1)\n"
     ]
    },
    {
     "name": "stderr",
     "output_type": "stream",
     "text": [
      "c:\\Users\\lfl\\.conda\\envs\\qiskit_metal\\Lib\\site-packages\\pyEPR\\core_distributed_analysis.py:933: FutureWarning: The default dtype for empty Series will be 'object' instead of 'float64' in a future version. Specify a dtype explicitly to silence this warning.\n",
      "  Qp = pd.Series({})\n"
     ]
    },
    {
     "name": "stdout",
     "output_type": "stream",
     "text": [
      "p_dielectric_main_0 = 0.9186812882025621\n"
     ]
    },
    {
     "name": "stderr",
     "output_type": "stream",
     "text": [
      "c:\\Users\\lfl\\.conda\\envs\\qiskit_metal\\Lib\\site-packages\\pyEPR\\core_distributed_analysis.py:1307: FutureWarning: The series.append method is deprecated and will be removed from pandas in a future version. Use pandas.concat instead.\n",
      "  sol = sol.append(self.get_Qdielectric(\n",
      "c:\\Users\\lfl\\.conda\\envs\\qiskit_metal\\Lib\\site-packages\\pyEPR\\core_distributed_analysis.py:1245: FutureWarning: The default dtype for empty Series will be 'object' instead of 'float64' in a future version. Specify a dtype explicitly to silence this warning.\n",
      "  _Om = pd.Series({})\n"
     ]
    },
    {
     "name": "stdout",
     "output_type": "stream",
     "text": [
      "\n",
      "  \u001b[1mMode 1 at 6.83 GHz   [2/2]\u001b[0m\n",
      "    Calculating ℰ_magnetic,ℰ_electric\n",
      "       (ℰ_E-ℰ_H)/ℰ_E       ℰ_E       ℰ_H\n",
      "                0.0%  6.359e-27 6.357e-27\n",
      "\n",
      "    Calculating junction energy participation ration (EPR)\n",
      "\tmethod=`line_voltage`. First estimates:\n",
      "\tjunction        EPR p_1j   sign s_1j    (p_capacitive)\n"
     ]
    },
    {
     "name": "stderr",
     "output_type": "stream",
     "text": [
      "c:\\Users\\lfl\\.conda\\envs\\qiskit_metal\\Lib\\site-packages\\pyEPR\\core_distributed_analysis.py:981: FutureWarning: The default dtype for empty Series will be 'object' instead of 'float64' in a future version. Specify a dtype explicitly to silence this warning.\n",
      "  Sj = pd.Series({})\n"
     ]
    },
    {
     "name": "stdout",
     "output_type": "stream",
     "text": [
      "\t\tEnergy fraction (Lj over Lj&Cj)= 96.56%\n",
      "\tjj              0.000263733  (+)        9.39667e-06\n",
      "\t\t(U_tot_cap-U_tot_ind)/mean=0.00%\n",
      "Calculating Qdielectric_main for mode 1 (1/1)\n"
     ]
    },
    {
     "name": "stderr",
     "output_type": "stream",
     "text": [
      "c:\\Users\\lfl\\.conda\\envs\\qiskit_metal\\Lib\\site-packages\\pyEPR\\core_distributed_analysis.py:933: FutureWarning: The default dtype for empty Series will be 'object' instead of 'float64' in a future version. Specify a dtype explicitly to silence this warning.\n",
      "  Qp = pd.Series({})\n"
     ]
    },
    {
     "name": "stdout",
     "output_type": "stream",
     "text": [
      "p_dielectric_main_1 = 0.9180983031475287\n"
     ]
    },
    {
     "name": "stderr",
     "output_type": "stream",
     "text": [
      "c:\\Users\\lfl\\.conda\\envs\\qiskit_metal\\Lib\\site-packages\\pyEPR\\core_distributed_analysis.py:1307: FutureWarning: The series.append method is deprecated and will be removed from pandas in a future version. Use pandas.concat instead.\n",
      "  sol = sol.append(self.get_Qdielectric(\n"
     ]
    },
    {
     "name": "stdout",
     "output_type": "stream",
     "text": [
      "\n",
      "ANALYSIS DONE. Data saved to:\n",
      "\n",
      "C:\\data-pyEPR\\Project38\\TransmonCavity_4\\2023-11-02 12-39-23.npz\n",
      "\n",
      "\n"
     ]
    },
    {
     "name": "stderr",
     "output_type": "stream",
     "text": [
      "c:\\Users\\lfl\\.conda\\envs\\qiskit_metal\\Lib\\site-packages\\pyEPR\\project_info.py:239: FutureWarning: The default dtype for empty Series will be 'object' instead of 'float64' in a future version. Specify a dtype explicitly to silence this warning.\n",
      "  options=pd.Series(get_instance_vars(self.options)),\n"
     ]
    },
    {
     "data": {
      "text/plain": [
       "(WindowsPath('C:/data-pyEPR/Project38/TransmonCavity_4/2023-11-02 12-39-23.npz'),\n",
       " ['0'])"
      ]
     },
     "execution_count": 12,
     "metadata": {},
     "output_type": "execute_result"
    }
   ],
   "source": [
    "eprh.do_EPR_analysis()"
   ]
  },
  {
   "cell_type": "code",
   "execution_count": null,
   "id": "b4003572",
   "metadata": {},
   "outputs": [
    {
     "data": {
      "text/plain": [
       "WindowsPath('C:/data-pyEPR/Project38/TransmonCavity_4/2023-11-02 12-39-23.npz')"
      ]
     },
     "execution_count": 15,
     "metadata": {},
     "output_type": "execute_result"
    }
   ],
   "source": [
    "eprh.data_filename"
   ]
  },
  {
   "cell_type": "code",
   "execution_count": null,
   "id": "23cc60d1",
   "metadata": {},
   "outputs": [
    {
     "name": "stderr",
     "output_type": "stream",
     "text": [
      "WARNING 12:44PM [__init__]: <p>Error: <class 'IndexError'></p>\n"
     ]
    },
    {
     "name": "stdout",
     "output_type": "stream",
     "text": [
      "\t Differences in variations:\n",
      "\n",
      "\n",
      "\n",
      " . . . . . . . . . . . . . . . . . . . . . . . . . . . . . . . . . . . . . . . . \n",
      "Variation 0\n",
      "\n",
      "Starting the diagonalization\n",
      "Finished the diagonalization\n",
      "Pm_norm=\n",
      "modes\n",
      "0    1.018110\n",
      "1    1.015255\n",
      "dtype: float64\n",
      "\n",
      "Pm_norm idx =\n",
      "      jj\n",
      "0   True\n",
      "1  False\n",
      "*** P (participation matrix, not normlz.)\n",
      "         jj\n",
      "0  0.970314\n",
      "1  0.000264\n",
      "\n",
      "*** S (sign-bit matrix)\n",
      "   s_jj\n",
      "0     1\n",
      "1     1\n",
      "*** P (participation matrix, normalized.)\n",
      "      0.99\n",
      "   0.00026\n",
      "\n",
      "*** Chi matrix O1 PT (MHz)\n",
      "    Diag is anharmonicity, off diag is full cross-Kerr.\n",
      "       167    0.127\n",
      "     0.127  2.4e-05\n",
      "\n",
      "*** Chi matrix ND (MHz) \n",
      "       183    0.108\n",
      "     0.108 1.79e-05\n",
      "\n",
      "*** Frequencies O1 PT (MHz)\n",
      "0    4641.287629\n",
      "1    6825.487572\n",
      "dtype: float64\n",
      "\n",
      "*** Frequencies ND (MHz)\n",
      "0    4634.941824\n",
      "1    6825.490368\n",
      "dtype: float64\n",
      "\n",
      "*** Q_coupling\n",
      "Empty DataFrame\n",
      "Columns: []\n",
      "Index: [0, 1]\n"
     ]
    },
    {
     "name": "stderr",
     "output_type": "stream",
     "text": [
      "c:\\Users\\lfl\\.conda\\envs\\qiskit_metal\\Lib\\site-packages\\pyEPR\\core_quantum_analysis.py:712: FutureWarning: Support for multi-dimensional indexing (e.g. `obj[:, None]`) is deprecated and will be removed in a future version.  Convert to a numpy array before indexing instead.\n",
      "  result['Q_coupling'] = self.Qm_coupling[variation][self.Qm_coupling[variation].columns[junctions]][modes]#TODO change the columns to junctions\n",
      "c:\\Users\\lfl\\.conda\\envs\\qiskit_metal\\Lib\\site-packages\\pyEPR\\core_quantum_analysis.py:717: FutureWarning: Support for multi-dimensional indexing (e.g. `obj[:, None]`) is deprecated and will be removed in a future version.  Convert to a numpy array before indexing instead.\n",
      "  result['Qs'] = self.Qs[variation][self.PM[variation].columns[junctions]][modes] #TODO change the columns to junctions\n"
     ]
    },
    {
     "data": {
      "text/plain": [
       "OrderedDict([('0',\n",
       "              OrderedDict([('f_0', 0    4808.486886\n",
       "                            1    6825.550932\n",
       "                            Name: 0, dtype: float64),\n",
       "                           ('f_1',\n",
       "                            0    4641.287629\n",
       "                            1    6825.487572\n",
       "                            dtype: float64),\n",
       "                           ('f_ND',\n",
       "                            0    4634.941824\n",
       "                            1    6825.490368\n",
       "                            dtype: float64),\n",
       "                           ('chi_O1',\n",
       "                                        0         1\n",
       "                            0  167.135921  0.126673\n",
       "                            1    0.126673  0.000024),\n",
       "                           ('chi_ND',\n",
       "                                        0         1\n",
       "                            0  182.615698  0.107875\n",
       "                            1    0.107875  0.000018),\n",
       "                           ('ZPF',\n",
       "                            array([[0.37515193],\n",
       "                                   [0.00730295]])),\n",
       "                           ('Pm_normed',\n",
       "                            array([[9.87886343e-01],\n",
       "                                   [2.63730527e-04]])),\n",
       "                           ('Pm_raw',\n",
       "                            0    0.970314\n",
       "                            1    0.000264\n",
       "                            Name: jj, dtype: float64),\n",
       "                           ('_Pm_norm',\n",
       "                            modes\n",
       "                            0    1.018110\n",
       "                            1    1.015255\n",
       "                            dtype: float64),\n",
       "                           ('_Pm_cap_norm',\n",
       "                            modes\n",
       "                            0    0.489121\n",
       "                            1    0.571956\n",
       "                            dtype: float64),\n",
       "                           ('hfss_variables',\n",
       "                            _Cj                     0fF\n",
       "                            _Lj    9.6859999999999999nH\n",
       "                            Name: 0, dtype: object),\n",
       "                           ('Ljs',\n",
       "                            jj    9.686000e-09\n",
       "                            Name: 0, dtype: float64),\n",
       "                           ('Cjs',\n",
       "                            jj    2.000000e-15\n",
       "                            Name: 0, dtype: float64),\n",
       "                           ('Q_coupling',\n",
       "                            Empty DataFrame\n",
       "                            Columns: []\n",
       "                            Index: [0, 1]),\n",
       "                           ('Qs',\n",
       "                            0    1.088517e+07\n",
       "                            1    1.089208e+07\n",
       "                            Name: 0, dtype: float64),\n",
       "                           ('fock_trunc', 15),\n",
       "                           ('cos_trunc', 8)]))])"
      ]
     },
     "execution_count": 17,
     "metadata": {},
     "output_type": "execute_result"
    }
   ],
   "source": [
    "epra = epr.QuantumAnalysis(eprh.data_filename)\n",
    "epra.analyze_all_variations(cos_trunc = 8, fock_trunc = 15)"
   ]
  },
  {
   "cell_type": "code",
   "execution_count": null,
   "id": "24b9610f",
   "metadata": {},
   "outputs": [],
   "source": [
    "import cmath\n",
    "\n",
    "def compute_g_from_EPR(chi, alpha, Delta, Sigma):\n",
    "    \"\"\"\n",
    "    Compute the value of g based on the provided formula.\n",
    "\n",
    "    Parameters:\n",
    "    - chi (float): Full Dispersive Shift (MHz)\n",
    "    - alpha (float): Anharmonicity (MHz)\n",
    "    - Delta (float): w_res - w_q(MHz)\n",
    "    - Sigma (float): w_q + w_res(MHz)\n",
    "\n",
    "    Returns:\n",
    "    - float: The computed value of g (MHz).\n",
    "    \"\"\"\n",
    "    \n",
    "    # Validate the inputs to ensure no mathematical errors during computation\n",
    "    if Delta == alpha:\n",
    "        raise ValueError(\"Denominator will be zero due to Δ - α being zero.\")\n",
    "    if Sigma == -alpha:\n",
    "        raise ValueError(\"Denominator will be zero due to Σ + α being zero.\")\n",
    "\n",
    "    # Compute the individual components of the formula\n",
    "    term1 = alpha / (Delta * (Delta - alpha))\n",
    "    term2 = alpha / (Sigma * (Sigma + alpha))\n",
    "\n",
    "    # Combine the terms to compute g\n",
    "    g = cmath.sqrt(chi) / (cmath.sqrt(2) * cmath.sqrt(term1 + term2))\n",
    "\n",
    "    return g"
   ]
  },
  {
   "cell_type": "code",
   "execution_count": null,
   "id": "d5a6b2a8",
   "metadata": {},
   "outputs": [
    {
     "data": {
      "text/plain": [
       "4634.9418241265175"
      ]
     },
     "execution_count": 31,
     "metadata": {},
     "output_type": "execute_result"
    }
   ],
   "source": [
    "epra.get_frequencies()[\"0\"][0]"
   ]
  },
  {
   "cell_type": "code",
   "execution_count": null,
   "id": "740ea953",
   "metadata": {},
   "outputs": [
    {
     "ename": "NameError",
     "evalue": "name 'epra' is not defined",
     "output_type": "error",
     "traceback": [
      "\u001b[1;31m---------------------------------------------------------------------------\u001b[0m",
      "\u001b[1;31mNameError\u001b[0m                                 Traceback (most recent call last)",
      "\u001b[1;32md:\\andre\\full device epr\\Device_Simmer.ipynb Cell 20\u001b[0m line \u001b[0;36m1\n\u001b[1;32m----> <a href='vscode-notebook-cell:/d%3A/andre/full%20device%20epr/Device_Simmer.ipynb#X44sZmlsZQ%3D%3D?line=0'>1</a>\u001b[0m epra\n",
      "\u001b[1;31mNameError\u001b[0m: name 'epra' is not defined"
     ]
    }
   ],
   "source": [
    "epra"
   ]
  },
  {
   "cell_type": "code",
   "execution_count": null,
   "id": "6897325a",
   "metadata": {},
   "outputs": [
    {
     "ename": "NameError",
     "evalue": "name 'epra' is not defined",
     "output_type": "error",
     "traceback": [
      "\u001b[1;31m---------------------------------------------------------------------------\u001b[0m",
      "\u001b[1;31mNameError\u001b[0m                                 Traceback (most recent call last)",
      "\u001b[1;32md:\\andre\\full device epr\\Device_Simmer.ipynb Cell 20\u001b[0m line \u001b[0;36m2\n\u001b[0;32m      <a href='vscode-notebook-cell:/d%3A/andre/full%20device%20epr/Device_Simmer.ipynb#X21sZmlsZQ%3D%3D?line=0'>1</a>\u001b[0m \u001b[39m# get from epra\u001b[39;00m\n\u001b[1;32m----> <a href='vscode-notebook-cell:/d%3A/andre/full%20device%20epr/Device_Simmer.ipynb#X21sZmlsZQ%3D%3D?line=1'>2</a>\u001b[0m chi \u001b[39m=\u001b[39m  \u001b[39m-\u001b[39m\u001b[39mabs\u001b[39m(epra\u001b[39m.\u001b[39mget_chis()[\u001b[39m0\u001b[39m][\u001b[39m1\u001b[39m]) \u001b[39m# - abs(kerr_matrix[0][1])\u001b[39;00m\n\u001b[0;32m      <a href='vscode-notebook-cell:/d%3A/andre/full%20device%20epr/Device_Simmer.ipynb#X21sZmlsZQ%3D%3D?line=2'>3</a>\u001b[0m alpha \u001b[39m=\u001b[39m \u001b[39m-\u001b[39m\u001b[39mabs\u001b[39m(epra\u001b[39m.\u001b[39mget_chis()[\u001b[39m0\u001b[39m][\u001b[39m0\u001b[39m]) \u001b[39m# - abs(kerr_matrix[0][0])\u001b[39;00m\n\u001b[0;32m      <a href='vscode-notebook-cell:/d%3A/andre/full%20device%20epr/Device_Simmer.ipynb#X21sZmlsZQ%3D%3D?line=3'>4</a>\u001b[0m w_res\u001b[39m=\u001b[39m epra\u001b[39m.\u001b[39mget_frequencies()[\u001b[39m\"\u001b[39m\u001b[39m0\u001b[39m\u001b[39m\"\u001b[39m][\u001b[39m1\u001b[39m] \u001b[39m# MHz\u001b[39;00m\n",
      "\u001b[1;31mNameError\u001b[0m: name 'epra' is not defined"
     ]
    }
   ],
   "source": [
    "# get from epra\n",
    "chi =  -abs(epra.get_chis()[0][1]) # - abs(kerr_matrix[0][1])\n",
    "alpha = -abs(epra.get_chis()[0][0]) # - abs(kerr_matrix[0][0])\n",
    "w_res= epra.get_frequencies()[\"0\"][1] # MHz\n",
    "w_q= epra.get_frequencies()[\"0\"][0] # MHz\n",
    "Delta = w_res - w_q\n",
    "Sigma = w_res + w_q\n",
    "\n",
    "result = compute_g_from_EPR(chi, alpha, Delta, Sigma)\n",
    "print(f\"g = {result.real} MHz; alpha = {alpha} MHz\")"
   ]
  },
  {
   "cell_type": "markdown",
   "id": "152a48ac",
   "metadata": {},
   "source": [
    "1. change code to update cpw_len and coupling_len also\n",
    "2. Do EPR analysis on site, save to disk"
   ]
  }
 ],
 "metadata": {
  "kernelspec": {
   "display_name": "Python 3 (ipykernel)",
   "language": "python",
   "name": "python3"
  },
  "language_info": {
   "codemirror_mode": {
    "name": "ipython",
    "version": 3
   },
   "file_extension": ".py",
   "mimetype": "text/x-python",
   "name": "python",
   "nbconvert_exporter": "python",
   "pygments_lexer": "ipython3",
   "version": "3.11.3"
  }
 },
 "nbformat": 4,
 "nbformat_minor": 5
}
