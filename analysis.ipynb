{
 "cells": [
  {
   "cell_type": "code",
   "execution_count": 66,
   "metadata": {},
   "outputs": [],
   "source": [
    "import json"
   ]
  },
  {
   "cell_type": "code",
   "execution_count": 67,
   "metadata": {},
   "outputs": [],
   "source": [
    "index = 4\n",
    "version_num = \"fig4_v14_shanto\"\n",
    "comp_id = \"Sabrina\"  # Replace with actual computer name"
   ]
  },
  {
   "cell_type": "markdown",
   "metadata": {},
   "source": [
    "## Function to find g, anharmonicity, qubit frequency"
   ]
  },
  {
   "cell_type": "code",
   "execution_count": 68,
   "metadata": {},
   "outputs": [],
   "source": [
    "import numpy as np\n",
    "import scqubits as scq\n",
    "\n",
    "# Constants\n",
    "e = 1.602e-19  # elementary charge in C\n",
    "hbar = 1.054e-34  # reduced Planck constant in Js\n",
    "Z_0 = 50  # in Ohms\n",
    "\n",
    "def find_g_a(C_g, C_B, f_r, Lj, N):\n",
    "    C_Sigma = C_g + C_B # + 1.5e-15\n",
    "    omega_r = 2 * np.pi * f_r\n",
    "    EJ = ((hbar / 2 / e) ** 2) / Lj * (1.5092e24) # 1J = 1.5092e24 GHz\n",
    "    EC = e**2/(2*C_Sigma) * (1.5092e24) # 1J = 1.5092e24 GHz\n",
    "\n",
    "    transmon = scq.Transmon(EJ=EJ,\n",
    "                            EC=EC,\n",
    "                            ng = 0,\n",
    "                            ncut = 30)\n",
    "\n",
    "    a = transmon.anharmonicity() * 1000 # linear MHz\n",
    "    g = ((C_g / C_Sigma) * omega_r * np.sqrt(N * Z_0 * e**2 / (hbar * np.pi) )* (EJ/(8*EC))**(1/4)) / 1E6 / (2 * np.pi) # linear MHz\n",
    "    f_q = transmon.E01() # Linear GHz\n",
    "    \n",
    "    return g, a, f_q"
   ]
  },
  {
   "cell_type": "markdown",
   "metadata": {},
   "source": [
    "### Sanity check with a known qubit (to make sure my code still works)"
   ]
  },
  {
   "cell_type": "code",
   "execution_count": 69,
   "metadata": {},
   "outputs": [
    {
     "name": "stdout",
     "output_type": "stream",
     "text": [
      "Qubit 1\n",
      "Experimental g = 61 Linear MHz\n",
      "Simulated g = 67.84409429174482 Linear MHz\n",
      "Simulated a = -164.35364443213808 Linear MHz\n",
      "Simulated f_q = 4.354936065065626 Linear GHz\n"
     ]
    }
   ],
   "source": [
    "# Qubit Identifier 1\n",
    "\n",
    "C_g = 5.91536e-15\t# in F\n",
    "C_B = 122.44002e-15\t# in F\n",
    "f_r = 6.116e9 # linear frequency in Hz\n",
    "f_q = 4.216 # Linear freq in GHz\n",
    "Lj = 9.686e-9\n",
    "anharmonicity = -0.153 # Linear freq in GHz\n",
    "\n",
    "\n",
    "print('Qubit 1')\n",
    "print(\"Experimental g = 61 Linear MHz\")\n",
    "# print(f\"Simulated g = {g(C_g, C_B, f_r, f_q, anharmonicity, 4) / 1E6 / (2 * np.pi)} Linear MHz\")\n",
    "print(f\"Simulated g = {find_g_a(C_g, C_B, f_r, Lj, 4)[0]} Linear MHz\")\n",
    "print(f\"Simulated a = {find_g_a(C_g, C_B, f_r, Lj, 4)[1]} Linear MHz\")\n",
    "print(f\"Simulated f_q = {find_g_a(C_g, C_B, f_r, Lj, 4)[2]} Linear GHz\")"
   ]
  },
  {
   "cell_type": "markdown",
   "metadata": {},
   "source": [
    "### Load LOM json (worth checking if the filename matches the qubit index)"
   ]
  },
  {
   "cell_type": "code",
   "execution_count": 70,
   "metadata": {},
   "outputs": [
    {
     "name": "stdout",
     "output_type": "stream",
     "text": [
      "qubitonly_num4_vfig4_v14_shanto\n",
      "{'cross_to_ground': -140.93898, 'claw_to_ground': -45.88039, 'cross_to_claw': -1.83687, 'cross_to_cross': 144.99242, 'claw_to_claw': 47.92219, 'ground_to_ground': 244.39501}\n"
     ]
    }
   ],
   "source": [
    "lom_json = open(f\"qubitonly_num{index}_{comp_id}_v{version_num}.json\")\n",
    "print(f\"qubitonly_num{index}_v{version_num}\")\n",
    "      \n",
    "data_lom = json.load(lom_json)\n",
    "\n",
    "print(data_lom[\"data\"])"
   ]
  },
  {
   "cell_type": "markdown",
   "metadata": {},
   "source": [
    "### Load Eigenmode json (unfortunately you're gonna have to paste in the custom filename here)"
   ]
  },
  {
   "cell_type": "code",
   "execution_count": 71,
   "metadata": {},
   "outputs": [],
   "source": [
    "import json"
   ]
  },
  {
   "cell_type": "code",
   "execution_count": 72,
   "metadata": {},
   "outputs": [
    {
     "name": "stdout",
     "output_type": "stream",
     "text": [
      "{'cavity_frequency': 6406539487.07, 'Q': 10881973.129265117, 'kappa': 588.729581572}\n"
     ]
    }
   ],
   "source": [
    "emode_json = open(f\"cavity_claw_num{index}_{comp_id}_v{version_num}.json\") # PASTE IN CUSTOM FILENAME\n",
    "\n",
    "data_emode = json.load(emode_json)\n",
    "\n",
    "# print(data_emode[\"design_options\"][\"geometry_dict\"][\"claw_opts\"][\"hfss_inductance\"][0])\n",
    "print(data_emode[\"sim_results\"])"
   ]
  },
  {
   "cell_type": "markdown",
   "metadata": {},
   "source": [
    "## Generate data (np.dataframe) using above method"
   ]
  },
  {
   "cell_type": "code",
   "execution_count": 73,
   "metadata": {},
   "outputs": [
    {
     "name": "stdout",
     "output_type": "stream",
     "text": [
      "{'qubit_4': {'f_cavity': 6406539487.07, 'Q': 10881973.129265117, 'kappa': 588.729581572, 'g': 20.566238250861083, 'a': -146.76090752045567, 'f_qubit': 4.21815709401853}}\n"
     ]
    }
   ],
   "source": [
    "data = {}\n",
    "\n",
    "cross2cpw = abs(data_lom[\"data\"][\"cross_to_claw\"]) * 1e-15\n",
    "cross2ground = abs(data_lom[\"data\"][\"cross_to_ground\"]) * 1e-15\n",
    "f_r = data_emode[\"sim_results\"][\"cavity_frequency\"]\n",
    "Lj = data_lom[\"design_options\"][\"hfss_inductance\"] * 1e-9\n",
    "# print(Lj)\n",
    "gg, aa, ff_q = find_g_a(cross2cpw, cross2ground, f_r, Lj, N=4)\n",
    "data.update({f\"qubit_{index}\": dict(\n",
    "    f_cavity = f_r,\n",
    "    Q = data_emode[\"sim_results\"][\"Q\"],\n",
    "    kappa = data_emode[\"sim_results\"][\"kappa\"],\n",
    "    g = gg,\n",
    "    a = aa,\n",
    "    f_qubit = ff_q\n",
    ")})\n",
    "\n",
    "print(data)\n"
   ]
  },
  {
   "cell_type": "code",
   "execution_count": 74,
   "metadata": {},
   "outputs": [
    {
     "data": {
      "text/plain": [
       "{'qubit_4': {'f_cavity': 6406539487.07,\n",
       "  'Q': 10881973.129265117,\n",
       "  'kappa': 588.729581572,\n",
       "  'g': 20.566238250861083,\n",
       "  'a': -146.76090752045567,\n",
       "  'f_qubit': 4.21815709401853}}"
      ]
     },
     "execution_count": 74,
     "metadata": {},
     "output_type": "execute_result"
    }
   ],
   "source": [
    "data"
   ]
  },
  {
   "cell_type": "markdown",
   "metadata": {},
   "source": [
    "### Export to json (if desired)"
   ]
  },
  {
   "cell_type": "code",
   "execution_count": 75,
   "metadata": {},
   "outputs": [],
   "source": [
    "from utils import *\n",
    "save_simulation_data_to_json(data, f\"final_q{index}_{comp_id}_v{version_num}\")"
   ]
  },
  {
   "cell_type": "code",
   "execution_count": null,
   "metadata": {},
   "outputs": [],
   "source": []
  }
 ],
 "metadata": {
  "kernelspec": {
   "display_name": "qiskit_metal",
   "language": "python",
   "name": "python3"
  },
  "language_info": {
   "codemirror_mode": {
    "name": "ipython",
    "version": 3
   },
   "file_extension": ".py",
   "mimetype": "text/x-python",
   "name": "python",
   "nbconvert_exporter": "python",
   "pygments_lexer": "ipython3",
   "version": "3.11.4"
  },
  "orig_nbformat": 4
 },
 "nbformat": 4,
 "nbformat_minor": 2
}
