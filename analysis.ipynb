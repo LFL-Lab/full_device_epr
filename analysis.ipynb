{
 "cells": [
  {
   "cell_type": "code",
   "execution_count": null,
   "metadata": {},
   "outputs": [],
   "source": [
    "import json"
   ]
  },
  {
   "cell_type": "markdown",
   "metadata": {},
   "source": [
    "## Function to find g, anharmonicity, qubit frequency"
   ]
  },
  {
   "cell_type": "code",
   "execution_count": 7,
   "metadata": {},
   "outputs": [],
   "source": [
    "import numpy as np\n",
    "import scqubits as scq\n",
    "\n",
    "# Constants\n",
    "e = 1.602e-19  # elementary charge in C\n",
    "hbar = 1.054e-34  # reduced Planck constant in Js\n",
    "Z_0 = 50  # in Ohms\n",
    "\n",
    "def find_g_a(C_g, C_B, f_r, Lj, N):\n",
    "    C_Sigma = C_g + C_B # + 1.5e-15\n",
    "    omega_r = 2 * np.pi * f_r\n",
    "    EJ = ((hbar / 2 / e) ** 2) / Lj * (1.5092e24) # 1J = 1.5092e24 GHz\n",
    "    EC = e**2/(2*C_Sigma) * (1.5092e24) # 1J = 1.5092e24 GHz\n",
    "\n",
    "    transmon = scq.Transmon(EJ=EJ,\n",
    "                            EC=EC,\n",
    "                            ng = 0,\n",
    "                            ncut = 30)\n",
    "\n",
    "    a = transmon.anharmonicity() * 1000 # linear MHz\n",
    "    g = ((C_g / C_Sigma) * omega_r * np.sqrt(N * Z_0 * e**2 / (hbar * np.pi) )* (EJ/(8*EC))**(1/4)) / 1E6 / (2 * np.pi) # linear MHz\n",
    "    f_q = transmon.E01() # Linear GHz\n",
    "    \n",
    "    return g, a, f_q"
   ]
  },
  {
   "cell_type": "code",
   "execution_count": null,
   "metadata": {},
   "outputs": [],
   "source": [
    "# predicted_cross_length = [211.36686180080213, 239.67001841727927, 199.29546197022296, 272.80405439803087, 166.21118594572997]\n",
    "# predicted_claw_length = [62.74561331858793, 238.54614619784087, 166.65135380618355, 49.04728878924247, 122.98283288276569]\n",
    "# Lj_vals = [10.130278903289723, 8.837126261668763, 10.545628251119771, 7.934490145874526, 12.130125654474945]\n",
    "\n",
    "vec1 = (12.101812915800638, 165.60709433301977, 142.67234304675804)\n",
    "vec2 = (10.092518176996967, 210.20946233643153, 201.9365897494747)\n",
    "Lj_vals = []\n",
    "predicted_cross_length = []\n",
    "predicted_claw_length = []\n",
    "\n",
    "for Lj, xlen, clen in [vec1, vec2]:\n",
    "    Lj_vals += [Lj]\n",
    "    predicted_cross_length += [xlen]\n",
    "    predicted_claw_length += [clen]"
   ]
  },
  {
   "cell_type": "markdown",
   "metadata": {},
   "source": [
    "### Sanity check with a known qubit (to make sure my code still works)"
   ]
  },
  {
   "cell_type": "code",
   "execution_count": null,
   "metadata": {},
   "outputs": [],
   "source": [
    "# Qubit Identifier 1\n",
    "\n",
    "C_g = 5.91536e-15\t# in F\n",
    "C_B = 122.44002e-15\t# in F\n",
    "f_r = 6.116e9 # linear frequency in Hz\n",
    "f_q = 4.216 # Linear freq in GHz\n",
    "Lj = 10e-9\n",
    "anharmonicity = -0.153 # Linear freq in GHz\n",
    "\n",
    "\n",
    "print('Qubit 1')\n",
    "print(\"Experimental g = 61 Linear MHz\")\n",
    "# print(f\"Simulated g = {g(C_g, C_B, f_r, f_q, anharmonicity, 4) / 1E6 / (2 * np.pi)} Linear MHz\")\n",
    "print(f\"Simulated g = {find_g_a(C_g, C_B, f_r, Lj, 4)[0]} Linear MHz\")\n",
    "print(f\"Simulated a = {find_g_a(C_g, C_B, f_r, Lj, 4)[1]} Linear MHz\")\n",
    "print(f\"Simulated f_q = {find_g_a(C_g, C_B, f_r, Lj, 4)[2]} Linear GHz\")"
   ]
  },
  {
   "cell_type": "markdown",
   "metadata": {},
   "source": [
    "### Load LOM json (worth checking if the filename matches the qubit index)"
   ]
  },
  {
   "cell_type": "code",
   "execution_count": 5,
   "metadata": {},
   "outputs": [
    {
     "name": "stdout",
     "output_type": "stream",
     "text": [
      "{'cross_to_ground': -87.58722, 'claw_to_ground': -82.61627, 'cross_to_claw': -6.66396, 'cross_to_cross': -87.58722, 'claw_to_claw': 89.8086, 'ground_to_ground': 219.24125}\n"
     ]
    }
   ],
   "source": [
    "lom_json = open(\"qubitonly_num0_v4.json\")\n",
    "\n",
    "data_lom = json.load(lom_json)\n",
    "\n",
    "print(data_lom[\"data\"])"
   ]
  },
  {
   "cell_type": "markdown",
   "metadata": {},
   "source": [
    "### Load Eigenmode json (unfortunately you're gonna have to paste in the custom filename here)"
   ]
  },
  {
   "cell_type": "code",
   "execution_count": 2,
   "metadata": {},
   "outputs": [],
   "source": [
    "import json"
   ]
  },
  {
   "cell_type": "code",
   "execution_count": 3,
   "metadata": {},
   "outputs": [
    {
     "name": "stdout",
     "output_type": "stream",
     "text": [
      "{'cavity_frequency': 6564252053.42, 'Q': 49033.44231315777, 'kappa': 133872.9598362}\n"
     ]
    }
   ],
   "source": [
    "emode_json = open(\"cavity_claw_num0_v4.json\") # PASTE IN CUSTOM FILENAME\n",
    "\n",
    "data_emode = json.load(emode_json)\n",
    "\n",
    "# print(data_emode[\"design_options\"][\"geometry_dict\"][\"claw_opts\"][\"hfss_inductance\"][0])\n",
    "print(data_emode[\"sim_results\"])"
   ]
  },
  {
   "cell_type": "markdown",
   "metadata": {},
   "source": [
    "## Generate data (np.dataframe) using above method"
   ]
  },
  {
   "cell_type": "code",
   "execution_count": 8,
   "metadata": {},
   "outputs": [
    {
     "name": "stdout",
     "output_type": "stream",
     "text": [
      "{'qubit_4': {'f_cavity': 6564252053.42, 'Q': 49033.44231315777, 'kappa': 133872.9598362, 'g': 95.19983659315545, 'a': -232.86593549546632, 'f_qubit': 4.245285970952046}}\n"
     ]
    }
   ],
   "source": [
    "data = {}\n",
    "\n",
    "ind = 4 ### UPDATE INDEX (this is for bookkeeping purposes only though)\n",
    "\n",
    "cross2cpw = abs(data_lom[\"data\"][\"cross_to_claw\"]) * 1e-15\n",
    "cross2ground = abs(data_lom[\"data\"][\"cross_to_ground\"]) * 1e-15\n",
    "f_r = data_emode[\"sim_results\"][\"cavity_frequency\"]\n",
    "Lj = data_lom[\"design_options\"][\"hfss_inductance\"] * 1e-9 #if data_emode[\"design_options\"][\"geometry_dict\"][\"claw_opts\"][\"hfss_inductance\"][0] == data_lom[\"design_options\"][\"hfss_inductance\"] else -1\n",
    "gg, aa, ff_q = find_g_a(cross2cpw, cross2ground, f_r, Lj, N=4)\n",
    "data.update({f\"qubit_{ind}\": dict(\n",
    "    f_cavity = f_r,\n",
    "    Q = data_emode[\"sim_results\"][\"Q\"],\n",
    "    kappa = data_emode[\"sim_results\"][\"kappa\"],\n",
    "    g = gg,\n",
    "    a = aa,\n",
    "    f_qubit = ff_q\n",
    ")})\n",
    "\n",
    "print(data)\n"
   ]
  },
  {
   "cell_type": "code",
   "execution_count": 9,
   "metadata": {},
   "outputs": [
    {
     "data": {
      "text/plain": [
       "{'qubit_4': {'f_cavity': 6564252053.42,\n",
       "  'Q': 49033.44231315777,\n",
       "  'kappa': 133872.9598362,\n",
       "  'g': 95.19983659315545,\n",
       "  'a': -232.86593549546632,\n",
       "  'f_qubit': 4.245285970952046}}"
      ]
     },
     "execution_count": 9,
     "metadata": {},
     "output_type": "execute_result"
    }
   ],
   "source": [
    "data"
   ]
  },
  {
   "cell_type": "markdown",
   "metadata": {},
   "source": [
    "### Export to json (if desired)"
   ]
  },
  {
   "cell_type": "code",
   "execution_count": 10,
   "metadata": {},
   "outputs": [],
   "source": [
    "from utils import *\n",
    "save_simulation_data_to_json(data, \"final_q4_v2.json\")"
   ]
  },
  {
   "cell_type": "code",
   "execution_count": null,
   "metadata": {},
   "outputs": [],
   "source": []
  }
 ],
 "metadata": {
  "kernelspec": {
   "display_name": "qiskit_metal",
   "language": "python",
   "name": "python3"
  },
  "language_info": {
   "codemirror_mode": {
    "name": "ipython",
    "version": 3
   },
   "file_extension": ".py",
   "mimetype": "text/x-python",
   "name": "python",
   "nbconvert_exporter": "python",
   "pygments_lexer": "ipython3",
   "version": "3.11.3"
  },
  "orig_nbformat": 4
 },
 "nbformat": 4,
 "nbformat_minor": 2
}
