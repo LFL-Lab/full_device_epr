{
 "cells": [
  {
   "cell_type": "code",
   "execution_count": 1,
   "metadata": {},
   "outputs": [],
   "source": [
    "import json"
   ]
  },
  {
   "cell_type": "code",
   "execution_count": 10,
   "metadata": {},
   "outputs": [],
   "source": [
    "import numpy as np\n",
    "import scqubits as scq\n",
    "\n",
    "# Constants\n",
    "e = 1.602e-19  # elementary charge in C\n",
    "hbar = 1.054e-34  # reduced Planck constant in Js\n",
    "Z_0 = 50  # in Ohms\n",
    "\n",
    "def find_g_a(C_g, C_B, f_r, Lj, N):\n",
    "    C_Sigma = C_g + C_B # + 1.5e-15\n",
    "    omega_r = 2 * np.pi * f_r\n",
    "    EJ = ((hbar / 2 / e) ** 2) / Lj * (1.5092e24) # 1J = 1.5092e24 GHz\n",
    "    EC = e**2/(2*C_Sigma) * (1.5092e24) # 1J = 1.5092e24 GHz\n",
    "\n",
    "    transmon = scq.Transmon(EJ=EJ,\n",
    "                            EC=EC,\n",
    "                            ng = 0,\n",
    "                            ncut = 30)\n",
    "\n",
    "    a = transmon.anharmonicity() * 1000 # linear MHz\n",
    "    g = ((C_g / C_Sigma) * omega_r * np.sqrt(N * Z_0 * e**2 / (hbar * np.pi) )* (EJ/(8*EC))**(1/4)) / 1E6 / (2 * np.pi) # linear MHz\n",
    "    f_q = transmon.E01()\n",
    "    \n",
    "    return g, a, f_q"
   ]
  },
  {
   "cell_type": "code",
   "execution_count": 11,
   "metadata": {},
   "outputs": [],
   "source": [
    "# predicted_cross_length = [211.36686180080213, 239.67001841727927, 199.29546197022296, 272.80405439803087, 166.21118594572997]\n",
    "# predicted_claw_length = [62.74561331858793, 238.54614619784087, 166.65135380618355, 49.04728878924247, 122.98283288276569]\n",
    "# Lj_vals = [10.130278903289723, 8.837126261668763, 10.545628251119771, 7.934490145874526, 12.130125654474945]\n",
    "\n",
    "vec1 = (12.101812915800638, 165.60709433301977, 142.67234304675804)\n",
    "vec2 = (10.092518176996967, 210.20946233643153, 201.9365897494747)\n",
    "Lj_vals = []\n",
    "predicted_cross_length = []\n",
    "predicted_claw_length = []\n",
    "\n",
    "for Lj, xlen, clen in [vec1, vec2]:\n",
    "    Lj_vals += [Lj]\n",
    "    predicted_cross_length += [xlen]\n",
    "    predicted_claw_length += [clen]"
   ]
  },
  {
   "cell_type": "code",
   "execution_count": 12,
   "metadata": {},
   "outputs": [
    {
     "name": "stdout",
     "output_type": "stream",
     "text": [
      "Qubit 1\n",
      "Experimental g = 61 Linear MHz\n",
      "Simulated g = 67.30512966260582 Linear MHz\n",
      "Simulated a = -164.61390750785299 Linear MHz\n",
      "Simulated f_q = 4.283443913871817 Linear GHz\n"
     ]
    }
   ],
   "source": [
    "# Qubit Identifier 1\n",
    "\n",
    "C_g = 5.91536e-15\t# in F\n",
    "C_B = 122.44002e-15\t# in F\n",
    "f_r = 6.116e9 # linear frequency in Hz\n",
    "f_q = 4.216 # Linear freq in GHz\n",
    "Lj = 10e-9\n",
    "anharmonicity = -0.153 # Linear freq in GHz\n",
    "\n",
    "\n",
    "print('Qubit 1')\n",
    "print(\"Experimental g = 61 Linear MHz\")\n",
    "# print(f\"Simulated g = {g(C_g, C_B, f_r, f_q, anharmonicity, 4) / 1E6 / (2 * np.pi)} Linear MHz\")\n",
    "print(f\"Simulated g = {find_g_a(C_g, C_B, f_r, Lj, 4)[0]} Linear MHz\")\n",
    "print(f\"Simulated a = {find_g_a(C_g, C_B, f_r, Lj, 4)[1]} Linear MHz\")\n",
    "print(f\"Simulated f_q = {find_g_a(C_g, C_B, f_r, Lj, 4)[2]} Linear GHz\")"
   ]
  },
  {
   "cell_type": "code",
   "execution_count": 18,
   "metadata": {},
   "outputs": [
    {
     "name": "stdout",
     "output_type": "stream",
     "text": [
      "{'cross_to_ground': -77.99951, 'claw_to_ground': -73.91245, 'cross_to_claw': -5.39135, 'cross_to_cross': 85.29643, 'claw_to_claw': 79.85653, 'ground_to_ground': 199.00772}\n"
     ]
    }
   ],
   "source": [
    "g = open(f'qubitonly_{0}_v2.json')\n",
    "\n",
    "data_g = json.load(g)\n",
    "\n",
    "print(data_g[\"data\"])"
   ]
  },
  {
   "cell_type": "code",
   "execution_count": 22,
   "metadata": {},
   "outputs": [
    {
     "name": "stdout",
     "output_type": "stream",
     "text": [
      "1.0092518176996967e-08\n",
      "{'qubit_1': {'f_cavity': 6412448932.31, 'Q': 48631.25307883098, 'kappa': 131858.5996934, 'g': 778.7079581498427, 'a': -6926.280344357792, 'f_qubit': 14.938126313107318}}\n"
     ]
    }
   ],
   "source": [
    "data = {}\n",
    "\n",
    "for ind in range(2):\n",
    "    if ind != 1:\n",
    "        continue\n",
    "    f = open(f'cavity_claw_{ind}_v2.json')\n",
    "\n",
    "    data_f = json.load(f)\n",
    "\n",
    "    # for i in data_f:\n",
    "    #     print(data_f[i])\n",
    "\n",
    "    g = open(f'qubitonly_{ind}_v2.json')\n",
    "\n",
    "    data_g = json.load(g)\n",
    "\n",
    "    # for i in data_g[\"data\"]:\n",
    "    #     print(data_g['data'][i])\n",
    "    cross2cpw = abs(data_g[\"data\"][\"cross_to_claw\"]) * 1e-15\n",
    "    cross2ground = 0 #abs(data_g[\"data\"][\"cross_to_ground\"]) * 1e-15\n",
    "    f_r = data_f[\"sim_results\"][\"cavity_frequency\"]\n",
    "    Lj = Lj_vals[ind]*(10**-9)\n",
    "    print(Lj)\n",
    "    gg, aa, ff_q = find_g_a(cross2cpw, cross2ground, f_r, Lj, N=4)\n",
    "    data.update({f\"qubit_{ind}\": dict(\n",
    "        f_cavity = f_r,\n",
    "        Q = data_f[\"sim_results\"][\"Q\"],\n",
    "        kappa = data_f[\"sim_results\"][\"kappa\"],\n",
    "        g = gg,\n",
    "        a = aa,\n",
    "        f_qubit = ff_q\n",
    "    )})\n",
    "    # print(g)\n",
    "    # print(a)\n",
    "print(data)\n"
   ]
  },
  {
   "cell_type": "code",
   "execution_count": 20,
   "metadata": {},
   "outputs": [
    {
     "data": {
      "text/plain": [
       "{'qubit_0': {'f_cavity': 6587470711.18,\n",
       "  'Q': 45720.814341292695,\n",
       "  'kappa': 144080.3451576,\n",
       "  'g': 87.05121589046766,\n",
       "  'a': -263.485074814815,\n",
       "  'f_qubit': 4.76270018690812}}"
      ]
     },
     "execution_count": 20,
     "metadata": {},
     "output_type": "execute_result"
    }
   ],
   "source": [
    "data"
   ]
  },
  {
   "cell_type": "code",
   "execution_count": 78,
   "metadata": {},
   "outputs": [],
   "source": [
    "from utils import *\n",
    "save_simulation_data_to_json(data, \"final_results_without_q1.json\")"
   ]
  }
 ],
 "metadata": {
  "kernelspec": {
   "display_name": "qiskit_metal",
   "language": "python",
   "name": "python3"
  },
  "language_info": {
   "codemirror_mode": {
    "name": "ipython",
    "version": 3
   },
   "file_extension": ".py",
   "mimetype": "text/x-python",
   "name": "python",
   "nbconvert_exporter": "python",
   "pygments_lexer": "ipython3",
   "version": "3.11.4"
  },
  "orig_nbformat": 4
 },
 "nbformat": 4,
 "nbformat_minor": 2
}
