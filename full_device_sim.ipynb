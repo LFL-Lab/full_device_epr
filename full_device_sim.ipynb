{
 "cells": [
  {
   "cell_type": "code",
   "execution_count": 1,
   "metadata": {},
   "outputs": [],
   "source": [
    "%load_ext autoreload\n",
    "%autoreload 2\n",
    "from qiskit_metal import draw, Dict, designs, MetalGUI\n",
    "from qiskit_metal.toolbox_metal import math_and_overrides\n",
    "from qiskit_metal.qlibrary.core import QComponent\n",
    "import qiskit_metal as metal\n",
    "from just_claw import TransmonClaw\n",
    "# ?metal.qlibrary.core.QComponent.add_qgeometry\n",
    "\n",
    "design = metal.designs.design_planar.DesignPlanar()\n",
    "gui = metal.MetalGUI(design)\n",
    "design.overwrite_enabled = True\n",
    "\n",
    "# dir(QComponent)\n",
    "cpw_width = '11.7um'\n",
    "\n",
    "design._chips.main.size.size_x = '5mm'\n",
    "design._chips.main.size.size_y = '5mm'\n",
    "from qiskit_metal.qlibrary.terminations.launchpad_wb import LaunchpadWirebond\n",
    "from qiskit_metal.qlibrary.terminations.short_to_ground import ShortToGround\n",
    "from qiskit_metal.qlibrary.tlines.straight_path import RouteStraight\n",
    "from qiskit_metal.qlibrary.tlines.anchored_path import RouteAnchors\n",
    "from qiskit_metal.qlibrary.tlines.mixed_path import RouteMixed\n",
    "from qiskit_metal.qlibrary.qubits.transmon_cross import TransmonCross\n",
    "from qiskit_metal.qlibrary.tlines.meandered import RouteMeander\n",
    "from qiskit_metal.qlibrary.terminations.open_to_ground import OpenToGround\n",
    "from qiskit_metal.qlibrary.couplers.coupled_line_tee import CoupledLineTee\n",
    "from qiskit_metal.qlibrary.couplers.cap_n_interdigital_tee import CapNInterdigitalTee\n",
    "from qiskit_metal.qlibrary.couplers.line_tee import LineTee\n",
    "\n",
    "from collections import OrderedDict\n",
    "\n",
    "import numpy as np\n",
    "\n",
    "xmon1_options = dict(\n",
    "    connection_pads = dict(\n",
    "        readout = dict(\n",
    "            connector_location='90',\n",
    "            connector_type='0',\n",
    "            claw_length=\"150um\",\n",
    "            ground_spacing='4.1um',\n",
    "            claw_gap='5.1um',\n",
    "            claw_width='15um',\n",
    "            claw_cpw_length=0\n",
    "        ),\n",
    "    ),\n",
    "    cross_width='30um',\n",
    "    cross_length=\"100um\",\n",
    "    cross_gap='30um',\n",
    "    orientation='-90',\n",
    "    pos_x='-1500um',\n",
    "    pos_y='1200um',\n",
    "    # aedt_hfss_inductance=inductance,\n",
    "    # hfss_inductance=inductance, \n",
    "    # q3d_inductance=inductance,\n",
    "    # aedt_q3d_inductance=inductance\n",
    ")\n",
    "\n",
    "# Create a new Transmon Cross object with name 'Q1'\n",
    "q = TransmonClaw(design, 'Q', options=xmon1_options)\n",
    "\n",
    "clt1_opts = Dict(prime_width = cpw_width,\n",
    "                prime_gap = '5.1um',\n",
    "                second_width = cpw_width,\n",
    "                second_gap = '5.1um',\n",
    "                coupling_space = '7.9um',\n",
    "                coupling_length = '223.5um',\n",
    "                open_termination = False,\n",
    "                orientation = '-90',\n",
    "                pos_y = '1200um',\n",
    "                down_length = '50um')\n",
    "\n",
    "clt = CoupledLineTee(design, 'clt', clt1_opts)\n",
    "\n",
    "cpw_total_length = 5160 + 716 + 300 + 1881.18568\n",
    "cpw_total_length = str(cpw_total_length) + 'um'\n",
    "cpw1_opts = Dict(pin_inputs = Dict(start_pin = Dict(component = 'clt',\n",
    "                                                    pin = 'second_end'),\n",
    "                                   end_pin = Dict(component = 'Q',\n",
    "                                                  pin = 'readout')),\n",
    "                lead = Dict(end_straight = '70um',\n",
    "                            # start_jogged_extension = jogsS),\n",
    "                ),\n",
    "                fillet = '49.9um',\n",
    "                total_length = '3885.5930858724796um',#'3893.8166um', # '6776um',\n",
    "                trace_width = cpw_width,\n",
    "                meander = Dict(spacing = '100um',\n",
    "                               asymmetry = '-150um'),\n",
    "                trace_gap = '5.1um',)\n",
    "cpw = RouteMeander(design, 'cpw', options = cpw1_opts)\n",
    "\n",
    "gui.rebuild()\n",
    "gui.autoscale()\n",
    "# gui.zoom_on_components(['clt5', 'Q5'])\n",
    "# gui.screenshot()"
   ]
  },
  {
   "cell_type": "code",
   "execution_count": 2,
   "metadata": {},
   "outputs": [],
   "source": [
    "predicted_cross_length = [334.2132054053733, 184.22335346133133, 246.93411358962248, 245.543257860049, 185.85846413905253]\n",
    "predicted_claw_length = [150.0, 160.0, 230.0, 180.0, 170.0]\n",
    "Lj_vals = [7.787523742211472, 13.718572219699162, 10.60479253401587, 10.239078841902765, 13.486696492020988]\n",
    "cpw_lengths = [3885.5930858724796, 3729.2684730129495, 4262.170190739973, 3726.340253625585, 3860.5768979267004]\n",
    "cplr_lengths = [223.99034604652442, 211.31821443396487, 218.27779609919682, 225.65194847225646, 225.28882915922742]"
   ]
  },
  {
   "attachments": {},
   "cell_type": "markdown",
   "metadata": {},
   "source": [
    "# Eigenmode Sim (CLT + CPW + Claw)"
   ]
  },
  {
   "cell_type": "code",
   "execution_count": 3,
   "metadata": {},
   "outputs": [],
   "source": [
    "from qiskit_metal.analyses.quantization import EPRanalysis\n",
    "import pyEPR as epr\n",
    "from pyaedt import Hfss\n",
    "from utils import *\n",
    "from objects import *\n",
    "from datetime import datetime\n",
    "import pprint"
   ]
  },
  {
   "cell_type": "code",
   "execution_count": 4,
   "metadata": {},
   "outputs": [],
   "source": [
    "eig_q12bus = EPRanalysis(design, \"hfss\")"
   ]
  },
  {
   "cell_type": "code",
   "execution_count": 5,
   "metadata": {},
   "outputs": [],
   "source": [
    "def do_eigenmode(claw_length, Lj, index):                \n",
    "    design.components['Q'].options['connection_pads']['readout']['claw_length'] = f'{claw_length}um'\n",
    "    design.components['Q'].options['hfss_inductance'] = Lj\n",
    "    design.components['Q'].options['aedt_hfss_inductance'] = Lj\n",
    "    design.components['Q'].options['q3d_inductance'] = Lj\n",
    "    design.components['Q'].options['aedt_q3d_inductance'] = Lj\n",
    "    design.rebuild()\n",
    "\n",
    "    eig_q12bus = EPRanalysis(design, \"hfss\")\n",
    "    hfss = eig_q12bus.sim.renderer\n",
    "    hfss.start()\n",
    "\n",
    "    hfss.new_ansys_design(f\"Cavity_Claw{index}\", 'eigenmode')\n",
    "    hfss.render_design([qubit_name, feedline_name, cavity_name])  # List of components to include in the simulation\n",
    "\n",
    "    eig_q12bus.sim.setup.max_passes = 50\n",
    "    eig_q12bus.sim.setup.max_delta_f = 0.1\n",
    "    eig_q12bus.sim.setup.n_modes = 2\n",
    "\n",
    "    sim_setup_var_dict = dict()\n",
    "\n",
    "    key_Lj = 'Lj'\n",
    "    key_Cj = 'Cj'\n",
    "    sim_setup_var_dict[key_Lj] = str(design.components['Q'].options['hfss_inductance']) + ' H'\n",
    "    sim_setup_var_dict[key_Cj] = str(design.components['Q'].options['hfss_capacitance']) + ' F'\n",
    "    eig_q12bus.sim.setup.vars = sim_setup_var_dict\n",
    "\n",
    "    gui.rebuild()\n",
    "    gui.autoscale()\n",
    "\n",
    "    # aedt = Hfss(projectname=hfss.pinfo.project_name, \n",
    "    #             designname=hfss.pinfo.design.name, \n",
    "    #             solution_type='eigenmode',\n",
    "    #             new_desktop_session=False, \n",
    "    #             close_on_exit=False)\n",
    "    # materials = aedt.materials\n",
    "    # silicon = materials.checkifmaterialexists('silicon')\n",
    "    # silicon.permittivity = 11.45\n",
    "    # silicon.dielectric_loss_tangent = 1E-7\n",
    "    \n",
    "    qubit_name = \"Q\"\n",
    "    feedline_name = \"cpw\"\n",
    "    cavity_name = \"clt\"\n",
    "    mesh_lengths = {'mesh1': {\"objects\": [f\"cross_{'qubit_name'}\",f\"readout_connector_arm_{qubit_name}\",f\"prime_cpw_{feedline_name}\", f\"second_cpw_{feedline_name}\", f\"trace_{cavity_name}\", f\"readout_connector_arm_{feedline_name}\"], \"MaxLength\": '4um'},\n",
    "                    'mesh2': {'objects': [f\"JJ_rect_Lj_{qubit_name}_rect_jj\"], \"MaxLength\": '2um'}\n",
    "                    }\n",
    "    add_ground_strip_and_mesh(hfss.pinfo.design.modeler, clt, mesh_lengths)\n",
    "\n",
    "\n",
    "    eig_q12bus.sim.run(name='full_device_v1.0',\n",
    "                    components=['Q', 'cpw', 'clt'],\n",
    "                    open_terminations = [('clt', 'prime_start'), ('clt', 'prime_end')],\n",
    "                    port_list = [('clt', 'prime_start', '50'), ('clt', 'prime_end', '50')]\n",
    "                    )\n",
    "    \n",
    "    f = eig_q12bus.get_frequencies()\n",
    "\n",
    "    freq = f.values[0][0] * 1e9 # in linear Hz\n",
    "    Q = f.values[0][1]\n",
    "    kappa_emode = {round(freq/Q/1e6, 3)} # in linear MHz\n",
    "\n",
    "    return f,Q,kappa_emode"
   ]
  },
  {
   "cell_type": "code",
   "execution_count": 6,
   "metadata": {},
   "outputs": [
    {
     "name": "stdout",
     "output_type": "stream",
     "text": [
      "223.9903460465\n"
     ]
    }
   ],
   "source": [
    "print(round(cplr_lengths[0], 10))"
   ]
  },
  {
   "cell_type": "code",
   "execution_count": 7,
   "metadata": {},
   "outputs": [
    {
     "name": "stderr",
     "output_type": "stream",
     "text": [
      "INFO 07:21PM [connect_project]: Connecting to Ansys Desktop API...\n"
     ]
    },
    {
     "name": "stdout",
     "output_type": "stream",
     "text": [
      "Starting the Simulation\n"
     ]
    },
    {
     "name": "stderr",
     "output_type": "stream",
     "text": [
      "INFO 07:21PM [load_ansys_project]: \tOpened Ansys App\n",
      "INFO 07:21PM [load_ansys_project]: \tOpened Ansys Desktop v2021.1.0\n",
      "INFO 07:21PM [load_ansys_project]: \tOpened Ansys Project\n",
      "\tFolder:    d:/andre/paper_sweeps/project_storage/\n",
      "\tProject:   clt_sweep_3970um_220um\n",
      "INFO 07:21PM [connect_design]: \tOpened active design\n",
      "\tDesign:    CavitySweep_hfss [Solution type: Eigenmode]\n",
      "INFO 07:21PM [get_setup]: \tOpened setup `Setup`  (<class 'pyEPR.ansys.HfssEMSetup'>)\n",
      "INFO 07:21PM [connect]: \tConnected to project \"clt_sweep_3970um_220um\" and design \"CavitySweep_hfss\" 😀 \n",
      "\n",
      "INFO 07:21PM [connect_design]: \tOpened active design\n",
      "\tDesign:    CavitySweep16 [Solution type: Eigenmode]\n",
      "WARNING 07:21PM [connect_setup]: \tNo design setup detected.\n",
      "WARNING 07:21PM [connect_setup]: \tCreating eigenmode default setup.\n",
      "INFO 07:21PM [get_setup]: \tOpened setup `Setup`  (<class 'pyEPR.ansys.HfssEMSetup'>)\n",
      "INFO 07:21PM [connect_design]: \tOpened active design\n",
      "\tDesign:    CavitySweep_hfss [Solution type: Eigenmode]\n"
     ]
    },
    {
     "name": "stdout",
     "output_type": "stream",
     "text": [
      "Sim rendered into HFSS!\n",
      "pyaedt INFO: using existing logger.\n"
     ]
    },
    {
     "name": "stderr",
     "output_type": "stream",
     "text": [
      "INFO:Global:using existing logger.\n"
     ]
    },
    {
     "name": "stdout",
     "output_type": "stream",
     "text": [
      "pyaedt INFO: Launching PyAEDT outside AEDT with CPython and PythonNET.\n"
     ]
    },
    {
     "name": "stderr",
     "output_type": "stream",
     "text": [
      "INFO:Global:Launching PyAEDT outside AEDT with CPython and PythonNET.\n"
     ]
    },
    {
     "name": "stdout",
     "output_type": "stream",
     "text": [
      "pyaedt INFO: AEDT installation Path C:\\Program Files\\AnsysEM\\AnsysEM21.1\\Win64.\n"
     ]
    },
    {
     "name": "stderr",
     "output_type": "stream",
     "text": [
      "INFO:Global:AEDT installation Path C:\\Program Files\\AnsysEM\\AnsysEM21.1\\Win64.\n"
     ]
    },
    {
     "name": "stdout",
     "output_type": "stream",
     "text": [
      "pyaedt INFO: Launching AEDT with module PythonNET.\n"
     ]
    },
    {
     "name": "stderr",
     "output_type": "stream",
     "text": [
      "INFO:Global:Launching AEDT with module PythonNET.\n"
     ]
    },
    {
     "name": "stdout",
     "output_type": "stream",
     "text": [
      "pyaedt WARNING: PyAEDT is not supported in AEDT versions earlier than 2021 R2. Trying to launch PyAEDT with PyWin32.\n"
     ]
    },
    {
     "name": "stderr",
     "output_type": "stream",
     "text": [
      "WARNING:Global:PyAEDT is not supported in AEDT versions earlier than 2021 R2. Trying to launch PyAEDT with PyWin32.\n"
     ]
    },
    {
     "name": "stdout",
     "output_type": "stream",
     "text": [
      "pyaedt INFO: pyaedt v0.6.46\n"
     ]
    },
    {
     "name": "stderr",
     "output_type": "stream",
     "text": [
      "INFO:Global:pyaedt v0.6.46\n"
     ]
    },
    {
     "name": "stdout",
     "output_type": "stream",
     "text": [
      "pyaedt INFO: Python version 3.11.3 | packaged by conda-forge | (main, Apr  6 2023, 08:50:54) [MSC v.1934 64 bit (AMD64)]\n"
     ]
    },
    {
     "name": "stderr",
     "output_type": "stream",
     "text": [
      "INFO:Global:Python version 3.11.3 | packaged by conda-forge | (main, Apr  6 2023, 08:50:54) [MSC v.1934 64 bit (AMD64)]\n"
     ]
    },
    {
     "name": "stdout",
     "output_type": "stream",
     "text": [
      "pyaedt INFO: Project clt_sweep_3970um_220um set to active.\n"
     ]
    },
    {
     "name": "stderr",
     "output_type": "stream",
     "text": [
      "INFO:Global:Project clt_sweep_3970um_220um set to active.\n"
     ]
    },
    {
     "name": "stdout",
     "output_type": "stream",
     "text": [
      "pyaedt INFO: Aedt Objects initialized\n"
     ]
    },
    {
     "name": "stderr",
     "output_type": "stream",
     "text": [
      "INFO:Global:Aedt Objects initialized\n"
     ]
    },
    {
     "name": "stdout",
     "output_type": "stream",
     "text": [
      "pyaedt INFO: Variable Manager initialized\n"
     ]
    },
    {
     "name": "stderr",
     "output_type": "stream",
     "text": [
      "INFO:Global:Variable Manager initialized\n"
     ]
    },
    {
     "name": "stdout",
     "output_type": "stream",
     "text": [
      "pyaedt INFO: Design Loaded\n"
     ]
    },
    {
     "name": "stderr",
     "output_type": "stream",
     "text": [
      "INFO:Global:Design Loaded\n"
     ]
    },
    {
     "name": "stdout",
     "output_type": "stream",
     "text": [
      "pyaedt INFO: Successfully loaded project materials !\n"
     ]
    },
    {
     "name": "stderr",
     "output_type": "stream",
     "text": [
      "INFO:Global:Successfully loaded project materials !\n"
     ]
    },
    {
     "name": "stdout",
     "output_type": "stream",
     "text": [
      "pyaedt INFO: Materials Loaded\n"
     ]
    },
    {
     "name": "stderr",
     "output_type": "stream",
     "text": [
      "INFO:Global:Materials Loaded\n"
     ]
    },
    {
     "name": "stdout",
     "output_type": "stream",
     "text": [
      "pyaedt INFO: aedt file load time 0.047009944915771484\n"
     ]
    },
    {
     "name": "stderr",
     "output_type": "stream",
     "text": [
      "INFO:Global:aedt file load time 0.047009944915771484\n"
     ]
    },
    {
     "name": "stdout",
     "output_type": "stream",
     "text": [
      "pyaedt ERROR: Error in :   File \"c:\\Users\\lfl\\AppData\\Local\\miniconda3\\envs\\qiskit_metal\\Lib\\site-packages\\pyaedt\\modeler\\cad\\Primitives.py\", line 2775, in _refresh_planes\n"
     ]
    },
    {
     "name": "stderr",
     "output_type": "stream",
     "text": [
      "ERROR:Global:Error in :   File \"c:\\Users\\lfl\\AppData\\Local\\miniconda3\\envs\\qiskit_metal\\Lib\\site-packages\\pyaedt\\modeler\\cad\\Primitives.py\", line 2775, in _refresh_planes\n"
     ]
    },
    {
     "name": "stdout",
     "output_type": "stream",
     "text": [
      "pyaedt ERROR: (-2147352567, 'Exception occurred.', (0, None, None, None, 0, -2147024383), None) - _refresh_planes -  GENERAL OR AEDT ERROR.\n"
     ]
    },
    {
     "name": "stderr",
     "output_type": "stream",
     "text": [
      "ERROR:Global:(-2147352567, 'Exception occurred.', (0, None, None, None, 0, -2147024383), None) - _refresh_planes -  GENERAL OR AEDT ERROR.\n"
     ]
    },
    {
     "name": "stdout",
     "output_type": "stream",
     "text": [
      "pyaedt ERROR: Project: clt_sweep_3970um_220um, Design: CavitySweep_hfss (Eigenmode), [error] Script macro error: testing feature is NOT enabled. (7:22:11 PM  Nov 14, 2023)\n",
      "\n"
     ]
    },
    {
     "name": "stderr",
     "output_type": "stream",
     "text": [
      "ERROR:Global:Project: clt_sweep_3970um_220um, Design: CavitySweep_hfss (Eigenmode), [error] Script macro error: testing feature is NOT enabled. (7:22:11 PM  Nov 14, 2023)\n",
      "\n"
     ]
    },
    {
     "name": "stdout",
     "output_type": "stream",
     "text": [
      "pyaedt ERROR: Arguments with values: \n"
     ]
    },
    {
     "name": "stderr",
     "output_type": "stream",
     "text": [
      "ERROR:Global:Arguments with values: \n"
     ]
    },
    {
     "name": "stdout",
     "output_type": "stream",
     "text": [
      "pyaedt ERROR: Check Online documentation on: https://aedt.docs.pyansys.com/search.html?q=_refresh_planes\n"
     ]
    },
    {
     "name": "stderr",
     "output_type": "stream",
     "text": [
      "ERROR:Global:Check Online documentation on: https://aedt.docs.pyansys.com/search.html?q=_refresh_planes\n"
     ]
    },
    {
     "name": "stdout",
     "output_type": "stream",
     "text": [
      "pyaedt ERROR: Error in :   File \"c:\\Users\\lfl\\AppData\\Local\\miniconda3\\envs\\qiskit_metal\\Lib\\site-packages\\pyaedt\\modeler\\cad\\Primitives.py\", line 2807, in _create_object\n"
     ]
    },
    {
     "name": "stderr",
     "output_type": "stream",
     "text": [
      "ERROR:Global:Error in :   File \"c:\\Users\\lfl\\AppData\\Local\\miniconda3\\envs\\qiskit_metal\\Lib\\site-packages\\pyaedt\\modeler\\cad\\Primitives.py\", line 2807, in _create_object\n"
     ]
    },
    {
     "name": "stdout",
     "output_type": "stream",
     "text": [
      "pyaedt ERROR: (-2147352567, 'Exception occurred.', (0, None, None, None, 0, -2147024383), None) - _create_object -  GENERAL OR AEDT ERROR.\n"
     ]
    },
    {
     "name": "stderr",
     "output_type": "stream",
     "text": [
      "ERROR:Global:(-2147352567, 'Exception occurred.', (0, None, None, None, 0, -2147024383), None) - _create_object -  GENERAL OR AEDT ERROR.\n"
     ]
    },
    {
     "name": "stdout",
     "output_type": "stream",
     "text": [
      "pyaedt ERROR: Project: clt_sweep_3970um_220um, Design: CavitySweep_hfss (Eigenmode), [error] Script macro error: testing feature is NOT enabled. (7:22:11 PM  Nov 14, 2023)\n",
      "\n"
     ]
    },
    {
     "name": "stderr",
     "output_type": "stream",
     "text": [
      "ERROR:Global:Project: clt_sweep_3970um_220um, Design: CavitySweep_hfss (Eigenmode), [error] Script macro error: testing feature is NOT enabled. (7:22:11 PM  Nov 14, 2023)\n",
      "\n"
     ]
    },
    {
     "name": "stdout",
     "output_type": "stream",
     "text": [
      "pyaedt ERROR: Arguments with values: \n"
     ]
    },
    {
     "name": "stderr",
     "output_type": "stream",
     "text": [
      "ERROR:Global:Arguments with values: \n"
     ]
    },
    {
     "name": "stdout",
     "output_type": "stream",
     "text": [
      "pyaedt ERROR:     name = prime_cpw_cplr \n"
     ]
    },
    {
     "name": "stderr",
     "output_type": "stream",
     "text": [
      "ERROR:Global:    name = prime_cpw_cplr \n"
     ]
    },
    {
     "name": "stdout",
     "output_type": "stream",
     "text": [
      "pyaedt ERROR:     pid = 11 \n"
     ]
    },
    {
     "name": "stderr",
     "output_type": "stream",
     "text": [
      "ERROR:Global:    pid = 11 \n"
     ]
    },
    {
     "name": "stdout",
     "output_type": "stream",
     "text": [
      "pyaedt ERROR: Check Online documentation on: https://aedt.docs.pyansys.com/search.html?q=_create_object\n"
     ]
    },
    {
     "name": "stderr",
     "output_type": "stream",
     "text": [
      "ERROR:Global:Check Online documentation on: https://aedt.docs.pyansys.com/search.html?q=_create_object\n"
     ]
    },
    {
     "name": "stdout",
     "output_type": "stream",
     "text": [
      "pyaedt ERROR: Error in :   File \"c:\\Users\\lfl\\AppData\\Local\\miniconda3\\envs\\qiskit_metal\\Lib\\site-packages\\pyaedt\\modeler\\cad\\Primitives.py\", line 2885, in _refresh_all_ids_from_aedt_file\n"
     ]
    },
    {
     "name": "stderr",
     "output_type": "stream",
     "text": [
      "ERROR:Global:Error in :   File \"c:\\Users\\lfl\\AppData\\Local\\miniconda3\\envs\\qiskit_metal\\Lib\\site-packages\\pyaedt\\modeler\\cad\\Primitives.py\", line 2885, in _refresh_all_ids_from_aedt_file\n"
     ]
    },
    {
     "name": "stdout",
     "output_type": "stream",
     "text": [
      "pyaedt ERROR: 'bool' object has no attribute '_part_coordinate_system' - _refresh_all_ids_from_aedt_file -  ATTRIBUTE ERROR.\n"
     ]
    },
    {
     "name": "stderr",
     "output_type": "stream",
     "text": [
      "ERROR:Global:'bool' object has no attribute '_part_coordinate_system' - _refresh_all_ids_from_aedt_file -  ATTRIBUTE ERROR.\n"
     ]
    },
    {
     "name": "stdout",
     "output_type": "stream",
     "text": [
      "pyaedt ERROR: Project: clt_sweep_3970um_220um, Design: CavitySweep_hfss (Eigenmode), [error] Script macro error: testing feature is NOT enabled. (7:22:11 PM  Nov 14, 2023)\n",
      "\n"
     ]
    },
    {
     "name": "stderr",
     "output_type": "stream",
     "text": [
      "ERROR:Global:Project: clt_sweep_3970um_220um, Design: CavitySweep_hfss (Eigenmode), [error] Script macro error: testing feature is NOT enabled. (7:22:11 PM  Nov 14, 2023)\n",
      "\n"
     ]
    },
    {
     "name": "stdout",
     "output_type": "stream",
     "text": [
      "pyaedt ERROR: Arguments with values: \n"
     ]
    },
    {
     "name": "stderr",
     "output_type": "stream",
     "text": [
      "ERROR:Global:Arguments with values: \n"
     ]
    },
    {
     "name": "stdout",
     "output_type": "stream",
     "text": [
      "pyaedt ERROR: Check Online documentation on: https://aedt.docs.pyansys.com/search.html?q=_refresh_all_ids_from_aedt_file\n"
     ]
    },
    {
     "name": "stderr",
     "output_type": "stream",
     "text": [
      "ERROR:Global:Check Online documentation on: https://aedt.docs.pyansys.com/search.html?q=_refresh_all_ids_from_aedt_file\n"
     ]
    },
    {
     "name": "stdout",
     "output_type": "stream",
     "text": [
      "pyaedt ERROR: Error in :   File \"c:\\Users\\lfl\\AppData\\Local\\miniconda3\\envs\\qiskit_metal\\Lib\\site-packages\\pyaedt\\modeler\\cad\\Primitives.py\", line 2775, in _refresh_planes\n"
     ]
    },
    {
     "name": "stderr",
     "output_type": "stream",
     "text": [
      "ERROR:Global:Error in :   File \"c:\\Users\\lfl\\AppData\\Local\\miniconda3\\envs\\qiskit_metal\\Lib\\site-packages\\pyaedt\\modeler\\cad\\Primitives.py\", line 2775, in _refresh_planes\n"
     ]
    },
    {
     "name": "stdout",
     "output_type": "stream",
     "text": [
      "pyaedt ERROR: (-2147352567, 'Exception occurred.', (0, None, None, None, 0, -2147024383), None) - _refresh_planes -  GENERAL OR AEDT ERROR.\n"
     ]
    },
    {
     "name": "stderr",
     "output_type": "stream",
     "text": [
      "ERROR:Global:(-2147352567, 'Exception occurred.', (0, None, None, None, 0, -2147024383), None) - _refresh_planes -  GENERAL OR AEDT ERROR.\n"
     ]
    },
    {
     "name": "stdout",
     "output_type": "stream",
     "text": [
      "pyaedt ERROR: Project: clt_sweep_3970um_220um, Design: CavitySweep_hfss (Eigenmode), [error] Script macro error: testing feature is NOT enabled. (7:22:11 PM  Nov 14, 2023)\n",
      "\n"
     ]
    },
    {
     "name": "stderr",
     "output_type": "stream",
     "text": [
      "ERROR:Global:Project: clt_sweep_3970um_220um, Design: CavitySweep_hfss (Eigenmode), [error] Script macro error: testing feature is NOT enabled. (7:22:11 PM  Nov 14, 2023)\n",
      "\n"
     ]
    },
    {
     "name": "stdout",
     "output_type": "stream",
     "text": [
      "pyaedt ERROR: Arguments with values: \n"
     ]
    },
    {
     "name": "stderr",
     "output_type": "stream",
     "text": [
      "ERROR:Global:Arguments with values: \n"
     ]
    },
    {
     "name": "stdout",
     "output_type": "stream",
     "text": [
      "pyaedt ERROR: Check Online documentation on: https://aedt.docs.pyansys.com/search.html?q=_refresh_planes\n"
     ]
    },
    {
     "name": "stderr",
     "output_type": "stream",
     "text": [
      "ERROR:Global:Check Online documentation on: https://aedt.docs.pyansys.com/search.html?q=_refresh_planes\n"
     ]
    },
    {
     "name": "stdout",
     "output_type": "stream",
     "text": [
      "pyaedt ERROR: Error in :   File \"c:\\Users\\lfl\\AppData\\Local\\miniconda3\\envs\\qiskit_metal\\Lib\\site-packages\\pyaedt\\modeler\\cad\\Primitives.py\", line 2807, in _create_object\n"
     ]
    },
    {
     "name": "stderr",
     "output_type": "stream",
     "text": [
      "ERROR:Global:Error in :   File \"c:\\Users\\lfl\\AppData\\Local\\miniconda3\\envs\\qiskit_metal\\Lib\\site-packages\\pyaedt\\modeler\\cad\\Primitives.py\", line 2807, in _create_object\n"
     ]
    },
    {
     "name": "stdout",
     "output_type": "stream",
     "text": [
      "pyaedt ERROR: (-2147352567, 'Exception occurred.', (0, None, None, None, 0, -2147024383), None) - _create_object -  GENERAL OR AEDT ERROR.\n"
     ]
    },
    {
     "name": "stderr",
     "output_type": "stream",
     "text": [
      "ERROR:Global:(-2147352567, 'Exception occurred.', (0, None, None, None, 0, -2147024383), None) - _create_object -  GENERAL OR AEDT ERROR.\n"
     ]
    },
    {
     "name": "stdout",
     "output_type": "stream",
     "text": [
      "pyaedt ERROR: Project: clt_sweep_3970um_220um, Design: CavitySweep_hfss (Eigenmode), [error] Script macro error: testing feature is NOT enabled. (7:22:11 PM  Nov 14, 2023)\n",
      "\n"
     ]
    },
    {
     "name": "stderr",
     "output_type": "stream",
     "text": [
      "ERROR:Global:Project: clt_sweep_3970um_220um, Design: CavitySweep_hfss (Eigenmode), [error] Script macro error: testing feature is NOT enabled. (7:22:11 PM  Nov 14, 2023)\n",
      "\n"
     ]
    },
    {
     "name": "stdout",
     "output_type": "stream",
     "text": [
      "pyaedt ERROR: Arguments with values: \n"
     ]
    },
    {
     "name": "stderr",
     "output_type": "stream",
     "text": [
      "ERROR:Global:Arguments with values: \n"
     ]
    },
    {
     "name": "stdout",
     "output_type": "stream",
     "text": [
      "pyaedt ERROR:     name = main \n"
     ]
    },
    {
     "name": "stderr",
     "output_type": "stream",
     "text": [
      "ERROR:Global:    name = main \n"
     ]
    },
    {
     "name": "stdout",
     "output_type": "stream",
     "text": [
      "pyaedt ERROR:     pid = None \n"
     ]
    },
    {
     "name": "stderr",
     "output_type": "stream",
     "text": [
      "ERROR:Global:    pid = None \n"
     ]
    },
    {
     "name": "stdout",
     "output_type": "stream",
     "text": [
      "pyaedt ERROR: Check Online documentation on: https://aedt.docs.pyansys.com/search.html?q=_create_object\n"
     ]
    },
    {
     "name": "stderr",
     "output_type": "stream",
     "text": [
      "ERROR:Global:Check Online documentation on: https://aedt.docs.pyansys.com/search.html?q=_create_object\n"
     ]
    },
    {
     "name": "stdout",
     "output_type": "stream",
     "text": [
      "pyaedt ERROR: Error in :   File \"c:\\Users\\lfl\\AppData\\Local\\miniconda3\\envs\\qiskit_metal\\Lib\\site-packages\\pyaedt\\modeler\\cad\\Primitives.py\", line 2807, in _create_object\n"
     ]
    },
    {
     "name": "stderr",
     "output_type": "stream",
     "text": [
      "ERROR:Global:Error in :   File \"c:\\Users\\lfl\\AppData\\Local\\miniconda3\\envs\\qiskit_metal\\Lib\\site-packages\\pyaedt\\modeler\\cad\\Primitives.py\", line 2807, in _create_object\n"
     ]
    },
    {
     "name": "stdout",
     "output_type": "stream",
     "text": [
      "pyaedt ERROR: (-2147352567, 'Exception occurred.', (0, None, None, None, 0, -2147024383), None) - _create_object -  GENERAL OR AEDT ERROR.\n"
     ]
    },
    {
     "name": "stderr",
     "output_type": "stream",
     "text": [
      "ERROR:Global:(-2147352567, 'Exception occurred.', (0, None, None, None, 0, -2147024383), None) - _create_object -  GENERAL OR AEDT ERROR.\n"
     ]
    },
    {
     "name": "stdout",
     "output_type": "stream",
     "text": [
      "pyaedt ERROR: Project: clt_sweep_3970um_220um, Design: CavitySweep_hfss (Eigenmode), [error] Script macro error: testing feature is NOT enabled. (7:22:11 PM  Nov 14, 2023)\n",
      "\n"
     ]
    },
    {
     "name": "stderr",
     "output_type": "stream",
     "text": [
      "ERROR:Global:Project: clt_sweep_3970um_220um, Design: CavitySweep_hfss (Eigenmode), [error] Script macro error: testing feature is NOT enabled. (7:22:11 PM  Nov 14, 2023)\n",
      "\n"
     ]
    },
    {
     "name": "stdout",
     "output_type": "stream",
     "text": [
      "pyaedt ERROR: Arguments with values: \n"
     ]
    },
    {
     "name": "stderr",
     "output_type": "stream",
     "text": [
      "ERROR:Global:Arguments with values: \n"
     ]
    },
    {
     "name": "stdout",
     "output_type": "stream",
     "text": [
      "pyaedt ERROR:     name = sample_holder \n"
     ]
    },
    {
     "name": "stderr",
     "output_type": "stream",
     "text": [
      "ERROR:Global:    name = sample_holder \n"
     ]
    },
    {
     "name": "stdout",
     "output_type": "stream",
     "text": [
      "pyaedt ERROR:     pid = None \n"
     ]
    },
    {
     "name": "stderr",
     "output_type": "stream",
     "text": [
      "ERROR:Global:    pid = None \n"
     ]
    },
    {
     "name": "stdout",
     "output_type": "stream",
     "text": [
      "pyaedt ERROR: Check Online documentation on: https://aedt.docs.pyansys.com/search.html?q=_create_object\n"
     ]
    },
    {
     "name": "stderr",
     "output_type": "stream",
     "text": [
      "ERROR:Global:Check Online documentation on: https://aedt.docs.pyansys.com/search.html?q=_create_object\n"
     ]
    },
    {
     "name": "stdout",
     "output_type": "stream",
     "text": [
      "pyaedt ERROR: Error in :   File \"c:\\Users\\lfl\\AppData\\Local\\miniconda3\\envs\\qiskit_metal\\Lib\\site-packages\\pyaedt\\modeler\\cad\\Primitives.py\", line 2807, in _create_object\n"
     ]
    },
    {
     "name": "stderr",
     "output_type": "stream",
     "text": [
      "ERROR:Global:Error in :   File \"c:\\Users\\lfl\\AppData\\Local\\miniconda3\\envs\\qiskit_metal\\Lib\\site-packages\\pyaedt\\modeler\\cad\\Primitives.py\", line 2807, in _create_object\n"
     ]
    },
    {
     "name": "stdout",
     "output_type": "stream",
     "text": [
      "pyaedt ERROR: (-2147352567, 'Exception occurred.', (0, None, None, None, 0, -2147024383), None) - _create_object -  GENERAL OR AEDT ERROR.\n"
     ]
    },
    {
     "name": "stderr",
     "output_type": "stream",
     "text": [
      "ERROR:Global:(-2147352567, 'Exception occurred.', (0, None, None, None, 0, -2147024383), None) - _create_object -  GENERAL OR AEDT ERROR.\n"
     ]
    },
    {
     "name": "stdout",
     "output_type": "stream",
     "text": [
      "pyaedt ERROR: Project: clt_sweep_3970um_220um, Design: CavitySweep_hfss (Eigenmode), [error] Script macro error: testing feature is NOT enabled. (7:22:11 PM  Nov 14, 2023)\n",
      "\n"
     ]
    },
    {
     "name": "stderr",
     "output_type": "stream",
     "text": [
      "ERROR:Global:Project: clt_sweep_3970um_220um, Design: CavitySweep_hfss (Eigenmode), [error] Script macro error: testing feature is NOT enabled. (7:22:11 PM  Nov 14, 2023)\n",
      "\n"
     ]
    },
    {
     "name": "stdout",
     "output_type": "stream",
     "text": [
      "pyaedt ERROR: Arguments with values: \n"
     ]
    },
    {
     "name": "stderr",
     "output_type": "stream",
     "text": [
      "ERROR:Global:Arguments with values: \n"
     ]
    },
    {
     "name": "stdout",
     "output_type": "stream",
     "text": [
      "pyaedt ERROR:     name = prime_cpw_clt \n"
     ]
    },
    {
     "name": "stderr",
     "output_type": "stream",
     "text": [
      "ERROR:Global:    name = prime_cpw_clt \n"
     ]
    },
    {
     "name": "stdout",
     "output_type": "stream",
     "text": [
      "pyaedt ERROR:     pid = None \n"
     ]
    },
    {
     "name": "stderr",
     "output_type": "stream",
     "text": [
      "ERROR:Global:    pid = None \n"
     ]
    },
    {
     "name": "stdout",
     "output_type": "stream",
     "text": [
      "pyaedt ERROR: Check Online documentation on: https://aedt.docs.pyansys.com/search.html?q=_create_object\n"
     ]
    },
    {
     "name": "stderr",
     "output_type": "stream",
     "text": [
      "ERROR:Global:Check Online documentation on: https://aedt.docs.pyansys.com/search.html?q=_create_object\n"
     ]
    },
    {
     "name": "stdout",
     "output_type": "stream",
     "text": [
      "pyaedt ERROR: Error in :   File \"c:\\Users\\lfl\\AppData\\Local\\miniconda3\\envs\\qiskit_metal\\Lib\\site-packages\\pyaedt\\modeler\\cad\\Primitives.py\", line 2807, in _create_object\n"
     ]
    },
    {
     "name": "stderr",
     "output_type": "stream",
     "text": [
      "ERROR:Global:Error in :   File \"c:\\Users\\lfl\\AppData\\Local\\miniconda3\\envs\\qiskit_metal\\Lib\\site-packages\\pyaedt\\modeler\\cad\\Primitives.py\", line 2807, in _create_object\n"
     ]
    },
    {
     "name": "stdout",
     "output_type": "stream",
     "text": [
      "pyaedt ERROR: (-2147352567, 'Exception occurred.', (0, None, None, None, 0, -2147024383), None) - _create_object -  GENERAL OR AEDT ERROR.\n"
     ]
    },
    {
     "name": "stderr",
     "output_type": "stream",
     "text": [
      "ERROR:Global:(-2147352567, 'Exception occurred.', (0, None, None, None, 0, -2147024383), None) - _create_object -  GENERAL OR AEDT ERROR.\n"
     ]
    },
    {
     "name": "stdout",
     "output_type": "stream",
     "text": [
      "pyaedt ERROR: Project: clt_sweep_3970um_220um, Design: CavitySweep_hfss (Eigenmode), [error] Script macro error: testing feature is NOT enabled. (7:22:11 PM  Nov 14, 2023)\n",
      "\n"
     ]
    },
    {
     "name": "stderr",
     "output_type": "stream",
     "text": [
      "ERROR:Global:Project: clt_sweep_3970um_220um, Design: CavitySweep_hfss (Eigenmode), [error] Script macro error: testing feature is NOT enabled. (7:22:11 PM  Nov 14, 2023)\n",
      "\n"
     ]
    },
    {
     "name": "stdout",
     "output_type": "stream",
     "text": [
      "pyaedt ERROR: Arguments with values: \n"
     ]
    },
    {
     "name": "stderr",
     "output_type": "stream",
     "text": [
      "ERROR:Global:Arguments with values: \n"
     ]
    },
    {
     "name": "stdout",
     "output_type": "stream",
     "text": [
      "pyaedt ERROR:     name = second_cpw_clt \n"
     ]
    },
    {
     "name": "stderr",
     "output_type": "stream",
     "text": [
      "ERROR:Global:    name = second_cpw_clt \n"
     ]
    },
    {
     "name": "stdout",
     "output_type": "stream",
     "text": [
      "pyaedt ERROR:     pid = None \n"
     ]
    },
    {
     "name": "stderr",
     "output_type": "stream",
     "text": [
      "ERROR:Global:    pid = None \n"
     ]
    },
    {
     "name": "stdout",
     "output_type": "stream",
     "text": [
      "pyaedt ERROR: Check Online documentation on: https://aedt.docs.pyansys.com/search.html?q=_create_object\n"
     ]
    },
    {
     "name": "stderr",
     "output_type": "stream",
     "text": [
      "ERROR:Global:Check Online documentation on: https://aedt.docs.pyansys.com/search.html?q=_create_object\n"
     ]
    },
    {
     "name": "stdout",
     "output_type": "stream",
     "text": [
      "pyaedt ERROR: Error in :   File \"c:\\Users\\lfl\\AppData\\Local\\miniconda3\\envs\\qiskit_metal\\Lib\\site-packages\\pyaedt\\modeler\\cad\\Primitives.py\", line 2807, in _create_object\n"
     ]
    },
    {
     "name": "stderr",
     "output_type": "stream",
     "text": [
      "ERROR:Global:Error in :   File \"c:\\Users\\lfl\\AppData\\Local\\miniconda3\\envs\\qiskit_metal\\Lib\\site-packages\\pyaedt\\modeler\\cad\\Primitives.py\", line 2807, in _create_object\n"
     ]
    },
    {
     "name": "stdout",
     "output_type": "stream",
     "text": [
      "pyaedt ERROR: (-2147352567, 'Exception occurred.', (0, None, None, None, 0, -2147024383), None) - _create_object -  GENERAL OR AEDT ERROR.\n"
     ]
    },
    {
     "name": "stderr",
     "output_type": "stream",
     "text": [
      "ERROR:Global:(-2147352567, 'Exception occurred.', (0, None, None, None, 0, -2147024383), None) - _create_object -  GENERAL OR AEDT ERROR.\n"
     ]
    },
    {
     "name": "stdout",
     "output_type": "stream",
     "text": [
      "pyaedt ERROR: Project: clt_sweep_3970um_220um, Design: CavitySweep_hfss (Eigenmode), [error] Script macro error: testing feature is NOT enabled. (7:22:11 PM  Nov 14, 2023)\n",
      "\n"
     ]
    },
    {
     "name": "stderr",
     "output_type": "stream",
     "text": [
      "ERROR:Global:Project: clt_sweep_3970um_220um, Design: CavitySweep_hfss (Eigenmode), [error] Script macro error: testing feature is NOT enabled. (7:22:11 PM  Nov 14, 2023)\n",
      "\n"
     ]
    },
    {
     "name": "stdout",
     "output_type": "stream",
     "text": [
      "pyaedt ERROR: Arguments with values: \n"
     ]
    },
    {
     "name": "stderr",
     "output_type": "stream",
     "text": [
      "ERROR:Global:Arguments with values: \n"
     ]
    },
    {
     "name": "stdout",
     "output_type": "stream",
     "text": [
      "pyaedt ERROR:     name = prime_cpw_cplr \n"
     ]
    },
    {
     "name": "stderr",
     "output_type": "stream",
     "text": [
      "ERROR:Global:    name = prime_cpw_cplr \n"
     ]
    },
    {
     "name": "stdout",
     "output_type": "stream",
     "text": [
      "pyaedt ERROR:     pid = None \n"
     ]
    },
    {
     "name": "stderr",
     "output_type": "stream",
     "text": [
      "ERROR:Global:    pid = None \n"
     ]
    },
    {
     "name": "stdout",
     "output_type": "stream",
     "text": [
      "pyaedt ERROR: Check Online documentation on: https://aedt.docs.pyansys.com/search.html?q=_create_object\n"
     ]
    },
    {
     "name": "stderr",
     "output_type": "stream",
     "text": [
      "ERROR:Global:Check Online documentation on: https://aedt.docs.pyansys.com/search.html?q=_create_object\n"
     ]
    },
    {
     "name": "stdout",
     "output_type": "stream",
     "text": [
      "pyaedt ERROR: Error in :   File \"c:\\Users\\lfl\\AppData\\Local\\miniconda3\\envs\\qiskit_metal\\Lib\\site-packages\\pyaedt\\modeler\\cad\\Primitives.py\", line 2807, in _create_object\n"
     ]
    },
    {
     "name": "stderr",
     "output_type": "stream",
     "text": [
      "ERROR:Global:Error in :   File \"c:\\Users\\lfl\\AppData\\Local\\miniconda3\\envs\\qiskit_metal\\Lib\\site-packages\\pyaedt\\modeler\\cad\\Primitives.py\", line 2807, in _create_object\n"
     ]
    },
    {
     "name": "stdout",
     "output_type": "stream",
     "text": [
      "pyaedt ERROR: (-2147352567, 'Exception occurred.', (0, None, None, None, 0, -2147024383), None) - _create_object -  GENERAL OR AEDT ERROR.\n"
     ]
    },
    {
     "name": "stderr",
     "output_type": "stream",
     "text": [
      "ERROR:Global:(-2147352567, 'Exception occurred.', (0, None, None, None, 0, -2147024383), None) - _create_object -  GENERAL OR AEDT ERROR.\n"
     ]
    },
    {
     "name": "stdout",
     "output_type": "stream",
     "text": [
      "pyaedt ERROR: Project: clt_sweep_3970um_220um, Design: CavitySweep_hfss (Eigenmode), [error] Script macro error: testing feature is NOT enabled. (7:22:11 PM  Nov 14, 2023)\n",
      "\n"
     ]
    },
    {
     "name": "stderr",
     "output_type": "stream",
     "text": [
      "ERROR:Global:Project: clt_sweep_3970um_220um, Design: CavitySweep_hfss (Eigenmode), [error] Script macro error: testing feature is NOT enabled. (7:22:11 PM  Nov 14, 2023)\n",
      "\n"
     ]
    },
    {
     "name": "stdout",
     "output_type": "stream",
     "text": [
      "pyaedt ERROR: Arguments with values: \n"
     ]
    },
    {
     "name": "stderr",
     "output_type": "stream",
     "text": [
      "ERROR:Global:Arguments with values: \n"
     ]
    },
    {
     "name": "stdout",
     "output_type": "stream",
     "text": [
      "pyaedt ERROR:     name = second_cpw_cplr \n"
     ]
    },
    {
     "name": "stderr",
     "output_type": "stream",
     "text": [
      "ERROR:Global:    name = second_cpw_cplr \n"
     ]
    },
    {
     "name": "stdout",
     "output_type": "stream",
     "text": [
      "pyaedt ERROR:     pid = None \n"
     ]
    },
    {
     "name": "stderr",
     "output_type": "stream",
     "text": [
      "ERROR:Global:    pid = None \n"
     ]
    },
    {
     "name": "stdout",
     "output_type": "stream",
     "text": [
      "pyaedt ERROR: Check Online documentation on: https://aedt.docs.pyansys.com/search.html?q=_create_object\n"
     ]
    },
    {
     "name": "stderr",
     "output_type": "stream",
     "text": [
      "ERROR:Global:Check Online documentation on: https://aedt.docs.pyansys.com/search.html?q=_create_object\n"
     ]
    },
    {
     "name": "stdout",
     "output_type": "stream",
     "text": [
      "pyaedt ERROR: Error in :   File \"c:\\Users\\lfl\\AppData\\Local\\miniconda3\\envs\\qiskit_metal\\Lib\\site-packages\\pyaedt\\modeler\\cad\\Primitives.py\", line 2807, in _create_object\n"
     ]
    },
    {
     "name": "stderr",
     "output_type": "stream",
     "text": [
      "ERROR:Global:Error in :   File \"c:\\Users\\lfl\\AppData\\Local\\miniconda3\\envs\\qiskit_metal\\Lib\\site-packages\\pyaedt\\modeler\\cad\\Primitives.py\", line 2807, in _create_object\n"
     ]
    },
    {
     "name": "stdout",
     "output_type": "stream",
     "text": [
      "pyaedt ERROR: (-2147352567, 'Exception occurred.', (0, None, None, None, 0, -2147024383), None) - _create_object -  GENERAL OR AEDT ERROR.\n"
     ]
    },
    {
     "name": "stderr",
     "output_type": "stream",
     "text": [
      "ERROR:Global:(-2147352567, 'Exception occurred.', (0, None, None, None, 0, -2147024383), None) - _create_object -  GENERAL OR AEDT ERROR.\n"
     ]
    },
    {
     "name": "stdout",
     "output_type": "stream",
     "text": [
      "pyaedt ERROR: Project: clt_sweep_3970um_220um, Design: CavitySweep_hfss (Eigenmode), [error] Script macro error: testing feature is NOT enabled. (7:22:11 PM  Nov 14, 2023)\n",
      "\n"
     ]
    },
    {
     "name": "stderr",
     "output_type": "stream",
     "text": [
      "ERROR:Global:Project: clt_sweep_3970um_220um, Design: CavitySweep_hfss (Eigenmode), [error] Script macro error: testing feature is NOT enabled. (7:22:11 PM  Nov 14, 2023)\n",
      "\n"
     ]
    },
    {
     "name": "stdout",
     "output_type": "stream",
     "text": [
      "pyaedt ERROR: Arguments with values: \n"
     ]
    },
    {
     "name": "stderr",
     "output_type": "stream",
     "text": [
      "ERROR:Global:Arguments with values: \n"
     ]
    },
    {
     "name": "stdout",
     "output_type": "stream",
     "text": [
      "pyaedt ERROR:     name = trace_cpw \n"
     ]
    },
    {
     "name": "stderr",
     "output_type": "stream",
     "text": [
      "ERROR:Global:    name = trace_cpw \n"
     ]
    },
    {
     "name": "stdout",
     "output_type": "stream",
     "text": [
      "pyaedt ERROR:     pid = None \n"
     ]
    },
    {
     "name": "stderr",
     "output_type": "stream",
     "text": [
      "ERROR:Global:    pid = None \n"
     ]
    },
    {
     "name": "stdout",
     "output_type": "stream",
     "text": [
      "pyaedt ERROR: Check Online documentation on: https://aedt.docs.pyansys.com/search.html?q=_create_object\n"
     ]
    },
    {
     "name": "stderr",
     "output_type": "stream",
     "text": [
      "ERROR:Global:Check Online documentation on: https://aedt.docs.pyansys.com/search.html?q=_create_object\n"
     ]
    },
    {
     "name": "stdout",
     "output_type": "stream",
     "text": [
      "pyaedt ERROR: Error in :   File \"c:\\Users\\lfl\\AppData\\Local\\miniconda3\\envs\\qiskit_metal\\Lib\\site-packages\\pyaedt\\modeler\\cad\\Primitives.py\", line 2807, in _create_object\n"
     ]
    },
    {
     "name": "stderr",
     "output_type": "stream",
     "text": [
      "ERROR:Global:Error in :   File \"c:\\Users\\lfl\\AppData\\Local\\miniconda3\\envs\\qiskit_metal\\Lib\\site-packages\\pyaedt\\modeler\\cad\\Primitives.py\", line 2807, in _create_object\n"
     ]
    },
    {
     "name": "stdout",
     "output_type": "stream",
     "text": [
      "pyaedt ERROR: (-2147352567, 'Exception occurred.', (0, None, None, None, 0, -2147024383), None) - _create_object -  GENERAL OR AEDT ERROR.\n"
     ]
    },
    {
     "name": "stderr",
     "output_type": "stream",
     "text": [
      "ERROR:Global:(-2147352567, 'Exception occurred.', (0, None, None, None, 0, -2147024383), None) - _create_object -  GENERAL OR AEDT ERROR.\n"
     ]
    },
    {
     "name": "stdout",
     "output_type": "stream",
     "text": [
      "pyaedt ERROR: Project: clt_sweep_3970um_220um, Design: CavitySweep_hfss (Eigenmode), [error] Script macro error: testing feature is NOT enabled. (7:22:11 PM  Nov 14, 2023)\n",
      "\n"
     ]
    },
    {
     "name": "stderr",
     "output_type": "stream",
     "text": [
      "ERROR:Global:Project: clt_sweep_3970um_220um, Design: CavitySweep_hfss (Eigenmode), [error] Script macro error: testing feature is NOT enabled. (7:22:11 PM  Nov 14, 2023)\n",
      "\n"
     ]
    },
    {
     "name": "stdout",
     "output_type": "stream",
     "text": [
      "pyaedt ERROR: Arguments with values: \n"
     ]
    },
    {
     "name": "stderr",
     "output_type": "stream",
     "text": [
      "ERROR:Global:Arguments with values: \n"
     ]
    },
    {
     "name": "stdout",
     "output_type": "stream",
     "text": [
      "pyaedt ERROR:     name = readout_connector_arm_Q \n"
     ]
    },
    {
     "name": "stderr",
     "output_type": "stream",
     "text": [
      "ERROR:Global:    name = readout_connector_arm_Q \n"
     ]
    },
    {
     "name": "stdout",
     "output_type": "stream",
     "text": [
      "pyaedt ERROR:     pid = None \n"
     ]
    },
    {
     "name": "stderr",
     "output_type": "stream",
     "text": [
      "ERROR:Global:    pid = None \n"
     ]
    },
    {
     "name": "stdout",
     "output_type": "stream",
     "text": [
      "pyaedt ERROR: Check Online documentation on: https://aedt.docs.pyansys.com/search.html?q=_create_object\n"
     ]
    },
    {
     "name": "stderr",
     "output_type": "stream",
     "text": [
      "ERROR:Global:Check Online documentation on: https://aedt.docs.pyansys.com/search.html?q=_create_object\n"
     ]
    },
    {
     "name": "stdout",
     "output_type": "stream",
     "text": [
      "pyaedt ERROR: Error in :   File \"c:\\Users\\lfl\\AppData\\Local\\miniconda3\\envs\\qiskit_metal\\Lib\\site-packages\\pyaedt\\modeler\\cad\\Primitives.py\", line 2807, in _create_object\n"
     ]
    },
    {
     "name": "stderr",
     "output_type": "stream",
     "text": [
      "ERROR:Global:Error in :   File \"c:\\Users\\lfl\\AppData\\Local\\miniconda3\\envs\\qiskit_metal\\Lib\\site-packages\\pyaedt\\modeler\\cad\\Primitives.py\", line 2807, in _create_object\n"
     ]
    },
    {
     "name": "stdout",
     "output_type": "stream",
     "text": [
      "pyaedt ERROR: (-2147352567, 'Exception occurred.', (0, None, None, None, 0, -2147024383), None) - _create_object -  GENERAL OR AEDT ERROR.\n"
     ]
    },
    {
     "name": "stderr",
     "output_type": "stream",
     "text": [
      "ERROR:Global:(-2147352567, 'Exception occurred.', (0, None, None, None, 0, -2147024383), None) - _create_object -  GENERAL OR AEDT ERROR.\n"
     ]
    },
    {
     "name": "stdout",
     "output_type": "stream",
     "text": [
      "pyaedt ERROR: Project: clt_sweep_3970um_220um, Design: CavitySweep_hfss (Eigenmode), [error] Script macro error: testing feature is NOT enabled. (7:22:11 PM  Nov 14, 2023)\n",
      "\n"
     ]
    },
    {
     "name": "stderr",
     "output_type": "stream",
     "text": [
      "ERROR:Global:Project: clt_sweep_3970um_220um, Design: CavitySweep_hfss (Eigenmode), [error] Script macro error: testing feature is NOT enabled. (7:22:11 PM  Nov 14, 2023)\n",
      "\n"
     ]
    },
    {
     "name": "stdout",
     "output_type": "stream",
     "text": [
      "pyaedt ERROR: Arguments with values: \n"
     ]
    },
    {
     "name": "stderr",
     "output_type": "stream",
     "text": [
      "ERROR:Global:Arguments with values: \n"
     ]
    },
    {
     "name": "stdout",
     "output_type": "stream",
     "text": [
      "pyaedt ERROR:     name = readout_connector_arm_claw \n"
     ]
    },
    {
     "name": "stderr",
     "output_type": "stream",
     "text": [
      "ERROR:Global:    name = readout_connector_arm_claw \n"
     ]
    },
    {
     "name": "stdout",
     "output_type": "stream",
     "text": [
      "pyaedt ERROR:     pid = None \n"
     ]
    },
    {
     "name": "stderr",
     "output_type": "stream",
     "text": [
      "ERROR:Global:    pid = None \n"
     ]
    },
    {
     "name": "stdout",
     "output_type": "stream",
     "text": [
      "pyaedt ERROR: Check Online documentation on: https://aedt.docs.pyansys.com/search.html?q=_create_object\n"
     ]
    },
    {
     "name": "stderr",
     "output_type": "stream",
     "text": [
      "ERROR:Global:Check Online documentation on: https://aedt.docs.pyansys.com/search.html?q=_create_object\n"
     ]
    },
    {
     "name": "stdout",
     "output_type": "stream",
     "text": [
      "pyaedt ERROR: Error in :   File \"c:\\Users\\lfl\\AppData\\Local\\miniconda3\\envs\\qiskit_metal\\Lib\\site-packages\\pyaedt\\modeler\\cad\\Primitives.py\", line 2807, in _create_object\n"
     ]
    },
    {
     "name": "stderr",
     "output_type": "stream",
     "text": [
      "ERROR:Global:Error in :   File \"c:\\Users\\lfl\\AppData\\Local\\miniconda3\\envs\\qiskit_metal\\Lib\\site-packages\\pyaedt\\modeler\\cad\\Primitives.py\", line 2807, in _create_object\n"
     ]
    },
    {
     "name": "stdout",
     "output_type": "stream",
     "text": [
      "pyaedt ERROR: (-2147352567, 'Exception occurred.', (0, None, None, None, 0, -2147024383), None) - _create_object -  GENERAL OR AEDT ERROR.\n"
     ]
    },
    {
     "name": "stderr",
     "output_type": "stream",
     "text": [
      "ERROR:Global:(-2147352567, 'Exception occurred.', (0, None, None, None, 0, -2147024383), None) - _create_object -  GENERAL OR AEDT ERROR.\n"
     ]
    },
    {
     "name": "stdout",
     "output_type": "stream",
     "text": [
      "pyaedt ERROR: Project: clt_sweep_3970um_220um, Design: CavitySweep_hfss (Eigenmode), [error] Script macro error: testing feature is NOT enabled. (7:22:11 PM  Nov 14, 2023)\n",
      "\n"
     ]
    },
    {
     "name": "stderr",
     "output_type": "stream",
     "text": [
      "ERROR:Global:Project: clt_sweep_3970um_220um, Design: CavitySweep_hfss (Eigenmode), [error] Script macro error: testing feature is NOT enabled. (7:22:11 PM  Nov 14, 2023)\n",
      "\n"
     ]
    },
    {
     "name": "stdout",
     "output_type": "stream",
     "text": [
      "pyaedt ERROR: Arguments with values: \n"
     ]
    },
    {
     "name": "stderr",
     "output_type": "stream",
     "text": [
      "ERROR:Global:Arguments with values: \n"
     ]
    },
    {
     "name": "stdout",
     "output_type": "stream",
     "text": [
      "pyaedt ERROR:     name = endcap_cplr_prime_start_1 \n"
     ]
    },
    {
     "name": "stderr",
     "output_type": "stream",
     "text": [
      "ERROR:Global:    name = endcap_cplr_prime_start_1 \n"
     ]
    },
    {
     "name": "stdout",
     "output_type": "stream",
     "text": [
      "pyaedt ERROR:     pid = None \n"
     ]
    },
    {
     "name": "stderr",
     "output_type": "stream",
     "text": [
      "ERROR:Global:    pid = None \n"
     ]
    },
    {
     "name": "stdout",
     "output_type": "stream",
     "text": [
      "pyaedt ERROR: Check Online documentation on: https://aedt.docs.pyansys.com/search.html?q=_create_object\n"
     ]
    },
    {
     "name": "stderr",
     "output_type": "stream",
     "text": [
      "ERROR:Global:Check Online documentation on: https://aedt.docs.pyansys.com/search.html?q=_create_object\n"
     ]
    },
    {
     "name": "stdout",
     "output_type": "stream",
     "text": [
      "pyaedt ERROR: Error in :   File \"c:\\Users\\lfl\\AppData\\Local\\miniconda3\\envs\\qiskit_metal\\Lib\\site-packages\\pyaedt\\modeler\\cad\\Primitives.py\", line 2807, in _create_object\n"
     ]
    },
    {
     "name": "stderr",
     "output_type": "stream",
     "text": [
      "ERROR:Global:Error in :   File \"c:\\Users\\lfl\\AppData\\Local\\miniconda3\\envs\\qiskit_metal\\Lib\\site-packages\\pyaedt\\modeler\\cad\\Primitives.py\", line 2807, in _create_object\n"
     ]
    },
    {
     "name": "stdout",
     "output_type": "stream",
     "text": [
      "pyaedt ERROR: (-2147352567, 'Exception occurred.', (0, None, None, None, 0, -2147024383), None) - _create_object -  GENERAL OR AEDT ERROR.\n"
     ]
    },
    {
     "name": "stderr",
     "output_type": "stream",
     "text": [
      "ERROR:Global:(-2147352567, 'Exception occurred.', (0, None, None, None, 0, -2147024383), None) - _create_object -  GENERAL OR AEDT ERROR.\n"
     ]
    },
    {
     "name": "stdout",
     "output_type": "stream",
     "text": [
      "pyaedt ERROR: Project: clt_sweep_3970um_220um, Design: CavitySweep_hfss (Eigenmode), [error] Script macro error: testing feature is NOT enabled. (7:22:11 PM  Nov 14, 2023)\n",
      "\n"
     ]
    },
    {
     "name": "stderr",
     "output_type": "stream",
     "text": [
      "ERROR:Global:Project: clt_sweep_3970um_220um, Design: CavitySweep_hfss (Eigenmode), [error] Script macro error: testing feature is NOT enabled. (7:22:11 PM  Nov 14, 2023)\n",
      "\n"
     ]
    },
    {
     "name": "stdout",
     "output_type": "stream",
     "text": [
      "pyaedt ERROR: Arguments with values: \n"
     ]
    },
    {
     "name": "stderr",
     "output_type": "stream",
     "text": [
      "ERROR:Global:Arguments with values: \n"
     ]
    },
    {
     "name": "stdout",
     "output_type": "stream",
     "text": [
      "pyaedt ERROR:     name = endcap_cplr_prime_end_1 \n"
     ]
    },
    {
     "name": "stderr",
     "output_type": "stream",
     "text": [
      "ERROR:Global:    name = endcap_cplr_prime_end_1 \n"
     ]
    },
    {
     "name": "stdout",
     "output_type": "stream",
     "text": [
      "pyaedt ERROR:     pid = None \n"
     ]
    },
    {
     "name": "stderr",
     "output_type": "stream",
     "text": [
      "ERROR:Global:    pid = None \n"
     ]
    },
    {
     "name": "stdout",
     "output_type": "stream",
     "text": [
      "pyaedt ERROR: Check Online documentation on: https://aedt.docs.pyansys.com/search.html?q=_create_object\n"
     ]
    },
    {
     "name": "stderr",
     "output_type": "stream",
     "text": [
      "ERROR:Global:Check Online documentation on: https://aedt.docs.pyansys.com/search.html?q=_create_object\n"
     ]
    },
    {
     "name": "stdout",
     "output_type": "stream",
     "text": [
      "pyaedt ERROR: Error in :   File \"c:\\Users\\lfl\\AppData\\Local\\miniconda3\\envs\\qiskit_metal\\Lib\\site-packages\\pyaedt\\modeler\\cad\\Primitives.py\", line 2807, in _create_object\n"
     ]
    },
    {
     "name": "stderr",
     "output_type": "stream",
     "text": [
      "ERROR:Global:Error in :   File \"c:\\Users\\lfl\\AppData\\Local\\miniconda3\\envs\\qiskit_metal\\Lib\\site-packages\\pyaedt\\modeler\\cad\\Primitives.py\", line 2807, in _create_object\n"
     ]
    },
    {
     "name": "stdout",
     "output_type": "stream",
     "text": [
      "pyaedt ERROR: (-2147352567, 'Exception occurred.', (0, None, None, None, 0, -2147024383), None) - _create_object -  GENERAL OR AEDT ERROR.\n"
     ]
    },
    {
     "name": "stderr",
     "output_type": "stream",
     "text": [
      "ERROR:Global:(-2147352567, 'Exception occurred.', (0, None, None, None, 0, -2147024383), None) - _create_object -  GENERAL OR AEDT ERROR.\n"
     ]
    },
    {
     "name": "stdout",
     "output_type": "stream",
     "text": [
      "pyaedt ERROR: Project: clt_sweep_3970um_220um, Design: CavitySweep_hfss (Eigenmode), [error] Script macro error: testing feature is NOT enabled. (7:22:11 PM  Nov 14, 2023)\n",
      "\n"
     ]
    },
    {
     "name": "stderr",
     "output_type": "stream",
     "text": [
      "ERROR:Global:Project: clt_sweep_3970um_220um, Design: CavitySweep_hfss (Eigenmode), [error] Script macro error: testing feature is NOT enabled. (7:22:11 PM  Nov 14, 2023)\n",
      "\n"
     ]
    },
    {
     "name": "stdout",
     "output_type": "stream",
     "text": [
      "pyaedt ERROR: Arguments with values: \n"
     ]
    },
    {
     "name": "stderr",
     "output_type": "stream",
     "text": [
      "ERROR:Global:Arguments with values: \n"
     ]
    },
    {
     "name": "stdout",
     "output_type": "stream",
     "text": [
      "pyaedt ERROR:     name = ground_main_plane \n"
     ]
    },
    {
     "name": "stderr",
     "output_type": "stream",
     "text": [
      "ERROR:Global:    name = ground_main_plane \n"
     ]
    },
    {
     "name": "stdout",
     "output_type": "stream",
     "text": [
      "pyaedt ERROR:     pid = None \n"
     ]
    },
    {
     "name": "stderr",
     "output_type": "stream",
     "text": [
      "ERROR:Global:    pid = None \n"
     ]
    },
    {
     "name": "stdout",
     "output_type": "stream",
     "text": [
      "pyaedt ERROR: Check Online documentation on: https://aedt.docs.pyansys.com/search.html?q=_create_object\n"
     ]
    },
    {
     "name": "stderr",
     "output_type": "stream",
     "text": [
      "ERROR:Global:Check Online documentation on: https://aedt.docs.pyansys.com/search.html?q=_create_object\n"
     ]
    },
    {
     "name": "stdout",
     "output_type": "stream",
     "text": [
      "pyaedt ERROR: Error in :   File \"c:\\Users\\lfl\\AppData\\Local\\miniconda3\\envs\\qiskit_metal\\Lib\\site-packages\\pyaedt\\modeler\\cad\\Primitives.py\", line 2807, in _create_object\n"
     ]
    },
    {
     "name": "stderr",
     "output_type": "stream",
     "text": [
      "ERROR:Global:Error in :   File \"c:\\Users\\lfl\\AppData\\Local\\miniconda3\\envs\\qiskit_metal\\Lib\\site-packages\\pyaedt\\modeler\\cad\\Primitives.py\", line 2807, in _create_object\n"
     ]
    },
    {
     "name": "stdout",
     "output_type": "stream",
     "text": [
      "pyaedt ERROR: (-2147352567, 'Exception occurred.', (0, None, None, None, 0, -2147024383), None) - _create_object -  GENERAL OR AEDT ERROR.\n"
     ]
    },
    {
     "name": "stderr",
     "output_type": "stream",
     "text": [
      "ERROR:Global:(-2147352567, 'Exception occurred.', (0, None, None, None, 0, -2147024383), None) - _create_object -  GENERAL OR AEDT ERROR.\n"
     ]
    },
    {
     "name": "stdout",
     "output_type": "stream",
     "text": [
      "pyaedt ERROR: Project: clt_sweep_3970um_220um, Design: CavitySweep_hfss (Eigenmode), [error] Script macro error: testing feature is NOT enabled. (7:22:11 PM  Nov 14, 2023)\n",
      "\n"
     ]
    },
    {
     "name": "stderr",
     "output_type": "stream",
     "text": [
      "ERROR:Global:Project: clt_sweep_3970um_220um, Design: CavitySweep_hfss (Eigenmode), [error] Script macro error: testing feature is NOT enabled. (7:22:11 PM  Nov 14, 2023)\n",
      "\n"
     ]
    },
    {
     "name": "stdout",
     "output_type": "stream",
     "text": [
      "pyaedt ERROR: Arguments with values: \n"
     ]
    },
    {
     "name": "stderr",
     "output_type": "stream",
     "text": [
      "ERROR:Global:Arguments with values: \n"
     ]
    },
    {
     "name": "stdout",
     "output_type": "stream",
     "text": [
      "pyaedt ERROR:     name = Port_cplr_prime_start \n"
     ]
    },
    {
     "name": "stderr",
     "output_type": "stream",
     "text": [
      "ERROR:Global:    name = Port_cplr_prime_start \n"
     ]
    },
    {
     "name": "stdout",
     "output_type": "stream",
     "text": [
      "pyaedt ERROR:     pid = None \n"
     ]
    },
    {
     "name": "stderr",
     "output_type": "stream",
     "text": [
      "ERROR:Global:    pid = None \n"
     ]
    },
    {
     "name": "stdout",
     "output_type": "stream",
     "text": [
      "pyaedt ERROR: Check Online documentation on: https://aedt.docs.pyansys.com/search.html?q=_create_object\n"
     ]
    },
    {
     "name": "stderr",
     "output_type": "stream",
     "text": [
      "ERROR:Global:Check Online documentation on: https://aedt.docs.pyansys.com/search.html?q=_create_object\n"
     ]
    },
    {
     "name": "stdout",
     "output_type": "stream",
     "text": [
      "pyaedt ERROR: Error in :   File \"c:\\Users\\lfl\\AppData\\Local\\miniconda3\\envs\\qiskit_metal\\Lib\\site-packages\\pyaedt\\modeler\\cad\\Primitives.py\", line 2807, in _create_object\n"
     ]
    },
    {
     "name": "stderr",
     "output_type": "stream",
     "text": [
      "ERROR:Global:Error in :   File \"c:\\Users\\lfl\\AppData\\Local\\miniconda3\\envs\\qiskit_metal\\Lib\\site-packages\\pyaedt\\modeler\\cad\\Primitives.py\", line 2807, in _create_object\n"
     ]
    },
    {
     "name": "stdout",
     "output_type": "stream",
     "text": [
      "pyaedt ERROR: (-2147352567, 'Exception occurred.', (0, None, None, None, 0, -2147024383), None) - _create_object -  GENERAL OR AEDT ERROR.\n"
     ]
    },
    {
     "name": "stderr",
     "output_type": "stream",
     "text": [
      "ERROR:Global:(-2147352567, 'Exception occurred.', (0, None, None, None, 0, -2147024383), None) - _create_object -  GENERAL OR AEDT ERROR.\n"
     ]
    },
    {
     "name": "stdout",
     "output_type": "stream",
     "text": [
      "pyaedt ERROR: Project: clt_sweep_3970um_220um, Design: CavitySweep_hfss (Eigenmode), [error] Script macro error: testing feature is NOT enabled. (7:22:11 PM  Nov 14, 2023)\n",
      "\n"
     ]
    },
    {
     "name": "stderr",
     "output_type": "stream",
     "text": [
      "ERROR:Global:Project: clt_sweep_3970um_220um, Design: CavitySweep_hfss (Eigenmode), [error] Script macro error: testing feature is NOT enabled. (7:22:11 PM  Nov 14, 2023)\n",
      "\n"
     ]
    },
    {
     "name": "stdout",
     "output_type": "stream",
     "text": [
      "pyaedt ERROR: Arguments with values: \n"
     ]
    },
    {
     "name": "stderr",
     "output_type": "stream",
     "text": [
      "ERROR:Global:Arguments with values: \n"
     ]
    },
    {
     "name": "stdout",
     "output_type": "stream",
     "text": [
      "pyaedt ERROR:     name = Port_cplr_prime_end \n"
     ]
    },
    {
     "name": "stderr",
     "output_type": "stream",
     "text": [
      "ERROR:Global:    name = Port_cplr_prime_end \n"
     ]
    },
    {
     "name": "stdout",
     "output_type": "stream",
     "text": [
      "pyaedt ERROR:     pid = None \n"
     ]
    },
    {
     "name": "stderr",
     "output_type": "stream",
     "text": [
      "ERROR:Global:    pid = None \n"
     ]
    },
    {
     "name": "stdout",
     "output_type": "stream",
     "text": [
      "pyaedt ERROR: Check Online documentation on: https://aedt.docs.pyansys.com/search.html?q=_create_object\n"
     ]
    },
    {
     "name": "stderr",
     "output_type": "stream",
     "text": [
      "ERROR:Global:Check Online documentation on: https://aedt.docs.pyansys.com/search.html?q=_create_object\n"
     ]
    },
    {
     "name": "stdout",
     "output_type": "stream",
     "text": [
      "pyaedt ERROR: Error in :   File \"c:\\Users\\lfl\\AppData\\Local\\miniconda3\\envs\\qiskit_metal\\Lib\\site-packages\\pyaedt\\modeler\\cad\\Primitives.py\", line 2807, in _create_object\n"
     ]
    },
    {
     "name": "stderr",
     "output_type": "stream",
     "text": [
      "ERROR:Global:Error in :   File \"c:\\Users\\lfl\\AppData\\Local\\miniconda3\\envs\\qiskit_metal\\Lib\\site-packages\\pyaedt\\modeler\\cad\\Primitives.py\", line 2807, in _create_object\n"
     ]
    },
    {
     "name": "stdout",
     "output_type": "stream",
     "text": [
      "pyaedt ERROR: (-2147352567, 'Exception occurred.', (0, None, None, None, 0, -2147024383), None) - _create_object -  GENERAL OR AEDT ERROR.\n"
     ]
    },
    {
     "name": "stderr",
     "output_type": "stream",
     "text": [
      "ERROR:Global:(-2147352567, 'Exception occurred.', (0, None, None, None, 0, -2147024383), None) - _create_object -  GENERAL OR AEDT ERROR.\n"
     ]
    },
    {
     "name": "stdout",
     "output_type": "stream",
     "text": [
      "pyaedt ERROR: Project: clt_sweep_3970um_220um, Design: CavitySweep_hfss (Eigenmode), [error] Script macro error: testing feature is NOT enabled. (7:22:11 PM  Nov 14, 2023)\n",
      "\n"
     ]
    },
    {
     "name": "stderr",
     "output_type": "stream",
     "text": [
      "ERROR:Global:Project: clt_sweep_3970um_220um, Design: CavitySweep_hfss (Eigenmode), [error] Script macro error: testing feature is NOT enabled. (7:22:11 PM  Nov 14, 2023)\n",
      "\n"
     ]
    },
    {
     "name": "stdout",
     "output_type": "stream",
     "text": [
      "pyaedt ERROR: Arguments with values: \n"
     ]
    },
    {
     "name": "stderr",
     "output_type": "stream",
     "text": [
      "ERROR:Global:Arguments with values: \n"
     ]
    },
    {
     "name": "stdout",
     "output_type": "stream",
     "text": [
      "pyaedt ERROR:     name = ground_strip \n"
     ]
    },
    {
     "name": "stderr",
     "output_type": "stream",
     "text": [
      "ERROR:Global:    name = ground_strip \n"
     ]
    },
    {
     "name": "stdout",
     "output_type": "stream",
     "text": [
      "pyaedt ERROR:     pid = None \n"
     ]
    },
    {
     "name": "stderr",
     "output_type": "stream",
     "text": [
      "ERROR:Global:    pid = None \n"
     ]
    },
    {
     "name": "stdout",
     "output_type": "stream",
     "text": [
      "pyaedt ERROR: Check Online documentation on: https://aedt.docs.pyansys.com/search.html?q=_create_object\n"
     ]
    },
    {
     "name": "stderr",
     "output_type": "stream",
     "text": [
      "ERROR:Global:Check Online documentation on: https://aedt.docs.pyansys.com/search.html?q=_create_object\n"
     ]
    },
    {
     "name": "stdout",
     "output_type": "stream",
     "text": [
      "pyaedt ERROR: Error in :   File \"c:\\Users\\lfl\\AppData\\Local\\miniconda3\\envs\\qiskit_metal\\Lib\\site-packages\\pyaedt\\modeler\\cad\\Primitives.py\", line 2807, in _create_object\n"
     ]
    },
    {
     "name": "stderr",
     "output_type": "stream",
     "text": [
      "ERROR:Global:Error in :   File \"c:\\Users\\lfl\\AppData\\Local\\miniconda3\\envs\\qiskit_metal\\Lib\\site-packages\\pyaedt\\modeler\\cad\\Primitives.py\", line 2807, in _create_object\n"
     ]
    },
    {
     "name": "stdout",
     "output_type": "stream",
     "text": [
      "pyaedt ERROR: (-2147352567, 'Exception occurred.', (0, None, None, None, 0, -2147024383), None) - _create_object -  GENERAL OR AEDT ERROR.\n"
     ]
    },
    {
     "name": "stderr",
     "output_type": "stream",
     "text": [
      "ERROR:Global:(-2147352567, 'Exception occurred.', (0, None, None, None, 0, -2147024383), None) - _create_object -  GENERAL OR AEDT ERROR.\n"
     ]
    },
    {
     "name": "stdout",
     "output_type": "stream",
     "text": [
      "pyaedt ERROR: Project: clt_sweep_3970um_220um, Design: CavitySweep_hfss (Eigenmode), [error] Script macro error: testing feature is NOT enabled. (7:22:11 PM  Nov 14, 2023)\n",
      "\n"
     ]
    },
    {
     "name": "stderr",
     "output_type": "stream",
     "text": [
      "ERROR:Global:Project: clt_sweep_3970um_220um, Design: CavitySweep_hfss (Eigenmode), [error] Script macro error: testing feature is NOT enabled. (7:22:11 PM  Nov 14, 2023)\n",
      "\n"
     ]
    },
    {
     "name": "stdout",
     "output_type": "stream",
     "text": [
      "pyaedt ERROR: Arguments with values: \n"
     ]
    },
    {
     "name": "stderr",
     "output_type": "stream",
     "text": [
      "ERROR:Global:Arguments with values: \n"
     ]
    },
    {
     "name": "stdout",
     "output_type": "stream",
     "text": [
      "pyaedt ERROR:     name = voltage_line_Port_cplr_prime_start \n"
     ]
    },
    {
     "name": "stderr",
     "output_type": "stream",
     "text": [
      "ERROR:Global:    name = voltage_line_Port_cplr_prime_start \n"
     ]
    },
    {
     "name": "stdout",
     "output_type": "stream",
     "text": [
      "pyaedt ERROR:     pid = None \n"
     ]
    },
    {
     "name": "stderr",
     "output_type": "stream",
     "text": [
      "ERROR:Global:    pid = None \n"
     ]
    },
    {
     "name": "stdout",
     "output_type": "stream",
     "text": [
      "pyaedt ERROR: Check Online documentation on: https://aedt.docs.pyansys.com/search.html?q=_create_object\n"
     ]
    },
    {
     "name": "stderr",
     "output_type": "stream",
     "text": [
      "ERROR:Global:Check Online documentation on: https://aedt.docs.pyansys.com/search.html?q=_create_object\n"
     ]
    },
    {
     "name": "stdout",
     "output_type": "stream",
     "text": [
      "pyaedt ERROR: Error in :   File \"c:\\Users\\lfl\\AppData\\Local\\miniconda3\\envs\\qiskit_metal\\Lib\\site-packages\\pyaedt\\modeler\\cad\\Primitives.py\", line 2807, in _create_object\n"
     ]
    },
    {
     "name": "stderr",
     "output_type": "stream",
     "text": [
      "ERROR:Global:Error in :   File \"c:\\Users\\lfl\\AppData\\Local\\miniconda3\\envs\\qiskit_metal\\Lib\\site-packages\\pyaedt\\modeler\\cad\\Primitives.py\", line 2807, in _create_object\n"
     ]
    },
    {
     "name": "stdout",
     "output_type": "stream",
     "text": [
      "pyaedt ERROR: (-2147352567, 'Exception occurred.', (0, None, None, None, 0, -2147024383), None) - _create_object -  GENERAL OR AEDT ERROR.\n"
     ]
    },
    {
     "name": "stderr",
     "output_type": "stream",
     "text": [
      "ERROR:Global:(-2147352567, 'Exception occurred.', (0, None, None, None, 0, -2147024383), None) - _create_object -  GENERAL OR AEDT ERROR.\n"
     ]
    },
    {
     "name": "stdout",
     "output_type": "stream",
     "text": [
      "pyaedt ERROR: Project: clt_sweep_3970um_220um, Design: CavitySweep_hfss (Eigenmode), [error] Script macro error: testing feature is NOT enabled. (7:22:11 PM  Nov 14, 2023)\n",
      "\n"
     ]
    },
    {
     "name": "stderr",
     "output_type": "stream",
     "text": [
      "ERROR:Global:Project: clt_sweep_3970um_220um, Design: CavitySweep_hfss (Eigenmode), [error] Script macro error: testing feature is NOT enabled. (7:22:11 PM  Nov 14, 2023)\n",
      "\n"
     ]
    },
    {
     "name": "stdout",
     "output_type": "stream",
     "text": [
      "pyaedt ERROR: Arguments with values: \n"
     ]
    },
    {
     "name": "stderr",
     "output_type": "stream",
     "text": [
      "ERROR:Global:Arguments with values: \n"
     ]
    },
    {
     "name": "stdout",
     "output_type": "stream",
     "text": [
      "pyaedt ERROR:     name = voltage_line_Port_cplr_prime_end \n"
     ]
    },
    {
     "name": "stderr",
     "output_type": "stream",
     "text": [
      "ERROR:Global:    name = voltage_line_Port_cplr_prime_end \n"
     ]
    },
    {
     "name": "stdout",
     "output_type": "stream",
     "text": [
      "pyaedt ERROR:     pid = None \n"
     ]
    },
    {
     "name": "stderr",
     "output_type": "stream",
     "text": [
      "ERROR:Global:    pid = None \n"
     ]
    },
    {
     "name": "stdout",
     "output_type": "stream",
     "text": [
      "pyaedt ERROR: Check Online documentation on: https://aedt.docs.pyansys.com/search.html?q=_create_object\n"
     ]
    },
    {
     "name": "stderr",
     "output_type": "stream",
     "text": [
      "ERROR:Global:Check Online documentation on: https://aedt.docs.pyansys.com/search.html?q=_create_object\n"
     ]
    },
    {
     "name": "stdout",
     "output_type": "stream",
     "text": [
      "pyaedt ERROR: Error in :   File \"c:\\Users\\lfl\\AppData\\Local\\miniconda3\\envs\\qiskit_metal\\Lib\\site-packages\\pyaedt\\modeler\\cad\\Primitives.py\", line 2775, in _refresh_planes\n"
     ]
    },
    {
     "name": "stderr",
     "output_type": "stream",
     "text": [
      "ERROR:Global:Error in :   File \"c:\\Users\\lfl\\AppData\\Local\\miniconda3\\envs\\qiskit_metal\\Lib\\site-packages\\pyaedt\\modeler\\cad\\Primitives.py\", line 2775, in _refresh_planes\n"
     ]
    },
    {
     "name": "stdout",
     "output_type": "stream",
     "text": [
      "pyaedt ERROR: (-2147352567, 'Exception occurred.', (0, None, None, None, 0, -2147024383), None) - _refresh_planes -  GENERAL OR AEDT ERROR.\n"
     ]
    },
    {
     "name": "stderr",
     "output_type": "stream",
     "text": [
      "ERROR:Global:(-2147352567, 'Exception occurred.', (0, None, None, None, 0, -2147024383), None) - _refresh_planes -  GENERAL OR AEDT ERROR.\n"
     ]
    },
    {
     "name": "stdout",
     "output_type": "stream",
     "text": [
      "pyaedt ERROR: Project: clt_sweep_3970um_220um, Design: CavitySweep_hfss (Eigenmode), [error] Script macro error: testing feature is NOT enabled. (7:22:11 PM  Nov 14, 2023)\n",
      "\n"
     ]
    },
    {
     "name": "stderr",
     "output_type": "stream",
     "text": [
      "ERROR:Global:Project: clt_sweep_3970um_220um, Design: CavitySweep_hfss (Eigenmode), [error] Script macro error: testing feature is NOT enabled. (7:22:11 PM  Nov 14, 2023)\n",
      "\n"
     ]
    },
    {
     "name": "stdout",
     "output_type": "stream",
     "text": [
      "pyaedt ERROR: Arguments with values: \n"
     ]
    },
    {
     "name": "stderr",
     "output_type": "stream",
     "text": [
      "ERROR:Global:Arguments with values: \n"
     ]
    },
    {
     "name": "stdout",
     "output_type": "stream",
     "text": [
      "pyaedt ERROR: Check Online documentation on: https://aedt.docs.pyansys.com/search.html?q=_refresh_planes\n"
     ]
    },
    {
     "name": "stderr",
     "output_type": "stream",
     "text": [
      "ERROR:Global:Check Online documentation on: https://aedt.docs.pyansys.com/search.html?q=_refresh_planes\n"
     ]
    },
    {
     "name": "stdout",
     "output_type": "stream",
     "text": [
      "pyaedt INFO: Project files removed from handlers.\n"
     ]
    },
    {
     "name": "stderr",
     "output_type": "stream",
     "text": [
      "INFO:Global:Project files removed from handlers.\n",
      "INFO 07:22PM [get_setup]: \tOpened setup `Setup`  (<class 'pyEPR.ansys.HfssEMSetup'>)\n",
      "INFO 07:22PM [analyze]: Analyzing setup Setup\n"
     ]
    }
   ],
   "source": [
    "%matplotlib inline\n",
    "eig_q12bus = EPRanalysis(design, \"hfss\")\n",
    "hfss = eig_q12bus.sim.renderer\n",
    "\n",
    "# i = 4\n",
    "# setups, hfsss = [], []\n",
    "\n",
    "# do_eigenmode(predicted_claw_length[1], Lj_vals[1])\n",
    "\n",
    "\n",
    "\n",
    "for i, (cross_length, claw_length, Lj, cpw_len, cplr_len) in enumerate(zip(predicted_cross_length, predicted_claw_length, Lj_vals, cpw_lengths, cplr_lengths)):\n",
    "    if i != 0:\n",
    "        break\n",
    "\n",
    "    xmon1_options[\"connection_pads\"][\"readout\"][\"claw_length\"] = f\"{claw_length}um\"\n",
    "    xmon1_options[\"aedt_hfss_inductance\"]=Lj,\n",
    "    xmon1_options[\"hfss_inductance\"]=Lj, \n",
    "    xmon1_options[\"q3d_inductance\"]=Lj,\n",
    "    xmon1_options[\"aedt_q3d_inductance\"]=Lj\n",
    "\n",
    "    cpw1_opts[\"total_length\"] = f\"{cpw_len}um\"\n",
    "    clt1_opts[\"coupling_length\"] = f\"{int(round(cplr_len, 0))}um\"\n",
    "    \n",
    "    v2_opts = Dict(\n",
    "        claw_opts = xmon1_options,\n",
    "        cplr_opts = clt1_opts,\n",
    "        cpw_opts = cpw1_opts\n",
    "    )\n",
    "    # pprint.pprint(v2_opts)\n",
    "    now = datetime.now()\n",
    "    CLT_epr_sweep(design = design, sweep_opts=v2_opts, filename = f\"cavity_claw_num{i}_{now.strftime('%d_%m_%Y_%H_%M_%S')}_v2\")\n"
   ]
  },
  {
   "cell_type": "markdown",
   "metadata": {},
   "source": [
    "# LOM Analysis"
   ]
  },
  {
   "cell_type": "code",
   "execution_count": null,
   "metadata": {},
   "outputs": [],
   "source": [
    "xmon = TransmonCross(design = design, options = xmon1_options, name = \"xmon\")"
   ]
  },
  {
   "cell_type": "code",
   "execution_count": null,
   "metadata": {},
   "outputs": [],
   "source": [
    "from qiskit_metal.analyses.quantization import LOManalysis\n",
    "c1 = LOManalysis(design, \"q3d\")"
   ]
  },
  {
   "cell_type": "code",
   "execution_count": null,
   "metadata": {},
   "outputs": [],
   "source": [
    "from qiskit_metal.analyses.quantization import LOManalysis\n",
    "c1 = LOManalysis(design, \"q3d\")"
   ]
  },
  {
   "cell_type": "code",
   "execution_count": null,
   "metadata": {},
   "outputs": [],
   "source": [
    "c1.sim.setup.reuse_selected_design = False\n",
    "c1.sim.setup.reuse_setup = False\n",
    "\n",
    "# example: update single setting\n",
    "c1.sim.setup.max_passes = 30\n",
    "c1.sim.setup.min_converged_passes = 1\n",
    "c1.sim.setup.percent_error = 0.1\n",
    "c1.sim.setup.name = 'sweep_setup'"
   ]
  },
  {
   "cell_type": "code",
   "execution_count": null,
   "metadata": {},
   "outputs": [],
   "source": [
    "def do_LOM_qubitonly(cross_length, claw_length, Lj, i):\n",
    "    qname = 'xmon'\n",
    "    cname = 'readout'\n",
    "\n",
    "    design.components[qname].options['connection_pads']['readout']['claw_length'] = f'{claw_length}um'\n",
    "    design.components[qname].options['cross_length'] = f'{cross_length}um'\n",
    "    design.components[qname].options['hfss_inductance'] = Lj\n",
    "    design.components[qname].options['aedt_hfss_inductance'] = Lj\n",
    "    design.components[qname].options['q3d_inductance'] = Lj\n",
    "    design.components[qname].options['aedt_q3d_inductance'] = Lj\n",
    "    design.rebuild()\n",
    "\n",
    "    selection = [qname]\n",
    "    open_pins = [(qname, cname)]\n",
    "\n",
    "\n",
    "    c1.sim.run(name = 'LOMv2.0', components=selection,\n",
    "               open_terminations=open_pins)\n",
    "    cap_df = c1.sim.capacitance_matrix\n",
    "\n",
    "    print(f'For Qubit_{i}, the cap matrix is...')\n",
    "    print(cap_df)\n",
    "\n",
    "    data = {\n",
    "        \"design_options\": design.components[qname].options,\n",
    "        \"data\": {\n",
    "            \"cross_to_ground\": cap_df.loc[f'cross_{qname}']['ground_main_plane'],\n",
    "            \"claw_to_ground\": cap_df.loc[f'{cname}_connector_arm_{qname}']['ground_main_plane'],\n",
    "            \"cross_to_claw\": cap_df.loc[f'cross_{qname}'][f'{cname}_connector_arm_{qname}'],\n",
    "            \"cross_to_cross\": cap_df.loc[f'cross_{qname}']['ground_main_plane'],\n",
    "            \"claw_to_claw\": cap_df.loc[f'{cname}_connector_arm_{qname}'][f'{cname}_connector_arm_{qname}'],\n",
    "            \"ground_to_ground\": cap_df.loc['ground_main_plane']['ground_main_plane']\n",
    "        },\n",
    "        \"sim_info\": {\n",
    "            \"setup\": c1.sim.setup,\n",
    "            \"renderer_options\": c1.sim.renderer.options\n",
    "        }\n",
    "    }\n",
    "    save_simulation_data_to_json(data, filename = f\"qubitonly_{i}\")\n"
   ]
  },
  {
   "cell_type": "code",
   "execution_count": null,
   "metadata": {},
   "outputs": [],
   "source": [
    "all_cap_matricies = []\n",
    "\n",
    "for i, (cross_length, claw_length, Lj) in enumerate(zip(predicted_cross_length, predicted_claw_length, Lj_vals)):\n",
    "    if i == 1:\n",
    "        continue\n",
    "    do_LOM_qubitonly(cross_length, claw_length, Lj, i)"
   ]
  },
  {
   "cell_type": "code",
   "execution_count": null,
   "metadata": {},
   "outputs": [],
   "source": []
  }
 ],
 "metadata": {
  "kernelspec": {
   "display_name": "qiskit_metal",
   "language": "python",
   "name": "python3"
  },
  "language_info": {
   "codemirror_mode": {
    "name": "ipython",
    "version": 3
   },
   "file_extension": ".py",
   "mimetype": "text/x-python",
   "name": "python",
   "nbconvert_exporter": "python",
   "pygments_lexer": "ipython3",
   "version": "3.11.3"
  }
 },
 "nbformat": 4,
 "nbformat_minor": 4
}
