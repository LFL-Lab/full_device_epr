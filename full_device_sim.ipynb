{
 "cells": [
  {
   "cell_type": "code",
   "execution_count": 1,
   "metadata": {},
   "outputs": [],
   "source": [
    "%load_ext autoreload\n",
    "%autoreload 2\n",
    "from qiskit_metal import draw, Dict, designs, MetalGUI\n",
    "from qiskit_metal.toolbox_metal import math_and_overrides\n",
    "from qiskit_metal.qlibrary.core import QComponent\n",
    "import qiskit_metal as metal\n",
    "from just_claw import TransmonClaw\n",
    "# ?metal.qlibrary.core.QComponent.add_qgeometry\n",
    "\n",
    "design = metal.designs.design_planar.DesignPlanar()\n",
    "gui = metal.MetalGUI(design)\n",
    "design.overwrite_enabled = True\n",
    "\n",
    "# dir(QComponent)\n",
    "cpw_width = '11.7um'\n",
    "\n",
    "design._chips.main.size.size_x = '5mm'\n",
    "design._chips.main.size.size_y = '5mm'\n",
    "from qiskit_metal.qlibrary.terminations.launchpad_wb import LaunchpadWirebond\n",
    "from qiskit_metal.qlibrary.terminations.short_to_ground import ShortToGround\n",
    "from qiskit_metal.qlibrary.tlines.straight_path import RouteStraight\n",
    "from qiskit_metal.qlibrary.tlines.anchored_path import RouteAnchors\n",
    "from qiskit_metal.qlibrary.tlines.mixed_path import RouteMixed\n",
    "from qiskit_metal.qlibrary.qubits.transmon_cross import TransmonCross\n",
    "from qiskit_metal.qlibrary.tlines.meandered import RouteMeander\n",
    "from qiskit_metal.qlibrary.terminations.open_to_ground import OpenToGround\n",
    "from qiskit_metal.qlibrary.couplers.coupled_line_tee import CoupledLineTee\n",
    "from qiskit_metal.qlibrary.couplers.cap_n_interdigital_tee import CapNInterdigitalTee\n",
    "from qiskit_metal.qlibrary.couplers.line_tee import LineTee\n",
    "\n",
    "from collections import OrderedDict\n",
    "\n",
    "import numpy as np\n",
    "\n",
    "xmon1_options = dict(\n",
    "    connection_pads = dict(\n",
    "        readout = dict(\n",
    "            connector_location='90',\n",
    "            connector_type='0',\n",
    "            claw_length=\"150um\",\n",
    "            ground_spacing='4.1um',\n",
    "            claw_gap='5.1um',\n",
    "            claw_width='15um',\n",
    "            claw_cpw_length=0\n",
    "        ),\n",
    "    ),\n",
    "    cross_width='30um',\n",
    "    cross_length=\"100um\",\n",
    "    cross_gap='30um',\n",
    "    orientation='-90',\n",
    "    pos_x='-1500um',\n",
    "    pos_y='1200um',\n",
    "    # aedt_hfss_inductance=inductance,\n",
    "    # hfss_inductance=inductance, \n",
    "    # q3d_inductance=inductance,\n",
    "    # aedt_q3d_inductance=inductance\n",
    ")\n",
    "\n",
    "# Create a new Transmon Cross object with name 'Q1'\n",
    "q = TransmonClaw(design, 'Q', options=xmon1_options)\n",
    "\n",
    "clt1_opts = Dict(prime_width = cpw_width,\n",
    "                prime_gap = '5.1um',\n",
    "                second_width = cpw_width,\n",
    "                second_gap = '5.1um',\n",
    "                coupling_space = '7.9um',\n",
    "                coupling_length = '223.5um',\n",
    "                open_termination = False,\n",
    "                orientation = '-90',\n",
    "                pos_y = '1200um',\n",
    "                down_length = '50um')\n",
    "\n",
    "clt = CoupledLineTee(design, 'clt', clt1_opts)\n",
    "\n",
    "cpw_total_length = 5160 + 716 + 300 + 1881.18568\n",
    "cpw_total_length = str(cpw_total_length) + 'um'\n",
    "cpw1_opts = Dict(pin_inputs = Dict(start_pin = Dict(component = 'clt',\n",
    "                                                    pin = 'second_end'),\n",
    "                                   end_pin = Dict(component = 'Q',\n",
    "                                                  pin = 'readout')),\n",
    "                lead = Dict(end_straight = '70um',\n",
    "                            # start_jogged_extension = jogsS),\n",
    "                ),\n",
    "                fillet = '49.9um',\n",
    "                total_length = '3885.5930858724796um',#'3893.8166um', # '6776um',\n",
    "                trace_width = cpw_width,\n",
    "                meander = Dict(spacing = '100um',\n",
    "                               asymmetry = '-150um'),\n",
    "                trace_gap = '5.1um',)\n",
    "cpw = RouteMeander(design, 'cpw', options = cpw1_opts)\n",
    "\n",
    "gui.rebuild()\n",
    "gui.autoscale()\n",
    "# gui.zoom_on_components(['clt5', 'Q5'])\n",
    "# gui.screenshot()"
   ]
  },
  {
   "cell_type": "code",
   "execution_count": 2,
   "metadata": {},
   "outputs": [],
   "source": [
    "Lj_vals = [7.787483288705593, 13.718569825172352, 10.604792316112832, 10.239079033569906, 13.486697743893782]\n",
    "predicted_cross_length =[342.0865779292096, 195.99952114493456, 255.55983130919657, 245.04239525447915, 191.7345553371159]\n",
    "predicted_claw_length = [139.9894606623791, 164.9145006086016, 191.71794573570122, 226.54389700646453, 185.4717375669839]\n",
    "cpw_lengths = [4003.1506098739133, 4136.77058745202, 3814.030950465423, 3969.343867727171, 3966.76333325094]\n",
    "cplr_lengths = [222.7353692409204, 216.77980078542294, 193.76867187770986, 245.49630118591415, 238.76782202920322]"
   ]
  },
  {
   "cell_type": "code",
   "execution_count": 3,
   "metadata": {},
   "outputs": [],
   "source": [
    "indexes = ( 1 , 4 )\n",
    "version = 7"
   ]
  },
  {
   "attachments": {},
   "cell_type": "markdown",
   "metadata": {},
   "source": [
    "# Eigenmode Sim (CLT + CPW + Claw)"
   ]
  },
  {
   "cell_type": "code",
   "execution_count": 4,
   "metadata": {},
   "outputs": [],
   "source": [
    "from qiskit_metal.analyses.quantization import EPRanalysis\n",
    "import pyEPR as epr\n",
    "from pyaedt import Hfss\n",
    "from utils import *\n",
    "from objects import *\n",
    "from datetime import datetime\n",
    "import pprint"
   ]
  },
  {
   "cell_type": "code",
   "execution_count": 5,
   "metadata": {},
   "outputs": [],
   "source": [
    "eig_q12bus = EPRanalysis(design, \"hfss\")"
   ]
  },
  {
   "cell_type": "code",
   "execution_count": 6,
   "metadata": {},
   "outputs": [
    {
     "name": "stderr",
     "output_type": "stream",
     "text": [
      "INFO 10:39PM [connect_project]: Connecting to Ansys Desktop API...\n",
      "INFO 10:39PM [load_ansys_project]: \tOpened Ansys App\n",
      "INFO 10:39PM [load_ansys_project]: \tOpened Ansys Desktop v2021.1.0\n",
      "INFO 10:39PM [load_ansys_project]: \tOpened Ansys Project\n",
      "\tFolder:    d:/andre/paper_sweeps/project_storage/\n",
      "\tProject:   clt_sweep_3970um_220um\n"
     ]
    },
    {
     "name": "stdout",
     "output_type": "stream",
     "text": [
      "Starting the Simulation\n"
     ]
    },
    {
     "name": "stderr",
     "output_type": "stream",
     "text": [
      "INFO 10:39PM [connect_design]: \tOpened active design\n",
      "\tDesign:    LOMv2.0_q3d11 [Solution type: Q3D]\n",
      "INFO 10:39PM [get_setup]: \tOpened setup `Setup`  (<class 'pyEPR.ansys.AnsysQ3DSetup'>)\n",
      "INFO 10:39PM [connect]: \tConnected to project \"clt_sweep_3970um_220um\" and design \"LOMv2.0_q3d11\" 😀 \n",
      "\n",
      "INFO 10:39PM [connect_design]: \tOpened active design\n",
      "\tDesign:    CavitySweep26 [Solution type: Eigenmode]\n",
      "WARNING 10:39PM [connect_setup]: \tNo design setup detected.\n",
      "WARNING 10:39PM [connect_setup]: \tCreating eigenmode default setup.\n",
      "INFO 10:39PM [get_setup]: \tOpened setup `Setup`  (<class 'pyEPR.ansys.HfssEMSetup'>)\n",
      "INFO 10:39PM [connect_design]: \tOpened active design\n",
      "\tDesign:    CavitySweep_hfss [Solution type: Eigenmode]\n"
     ]
    }
   ],
   "source": [
    "%matplotlib inline\n",
    "eig_q12bus = EPRanalysis(design, \"hfss\")\n",
    "hfss = eig_q12bus.sim.renderer\n",
    "\n",
    "for i, (cross_length, claw_length, Lj, cpw_len, cplr_len) in enumerate(zip(predicted_cross_length, predicted_claw_length, Lj_vals, cpw_lengths, cplr_lengths)):\n",
    "    if i not in indexes:\n",
    "        continue\n",
    "\n",
    "    xmon1_options[\"connection_pads\"][\"readout\"][\"claw_length\"] = f\"{claw_length}um\"\n",
    "    xmon1_options[\"aedt_hfss_inductance\"]=Lj,\n",
    "    xmon1_options[\"hfss_inductance\"]=Lj, \n",
    "    xmon1_options[\"q3d_inductance\"]=Lj,\n",
    "    xmon1_options[\"aedt_q3d_inductance\"]=Lj\n",
    "\n",
    "    cpw1_opts[\"total_length\"] = f\"{cpw_len}um\"\n",
    "    clt1_opts[\"coupling_length\"] = f\"{int(round(cplr_len, 0))}um\"\n",
    "    \n",
    "    v2_opts = Dict(\n",
    "        claw_opts = xmon1_options,\n",
    "        cplr_opts = clt1_opts,\n",
    "        cpw_opts = cpw1_opts\n",
    "    )\n",
    "    # pprint.pprint(v2_opts)\n",
    "    now = datetime.now()\n",
    "    CLT_epr_sweep(design = design, sweep_opts=v2_opts, filename = f\"cavity_claw_num{i}_v{version}\")\n"
   ]
  },
  {
   "cell_type": "markdown",
   "metadata": {},
   "source": [
    "# LOM Analysis"
   ]
  },
  {
   "cell_type": "code",
   "execution_count": null,
   "metadata": {},
   "outputs": [],
   "source": [
    "xmon = TransmonCross(design = design, options = xmon1_options, name = \"xmon\")"
   ]
  },
  {
   "cell_type": "code",
   "execution_count": null,
   "metadata": {},
   "outputs": [],
   "source": [
    "from qiskit_metal.analyses.quantization import LOManalysis\n",
    "c1 = LOManalysis(design, \"q3d\")"
   ]
  },
  {
   "cell_type": "code",
   "execution_count": null,
   "metadata": {},
   "outputs": [],
   "source": [
    "from qiskit_metal.analyses.quantization import LOManalysis\n",
    "c1 = LOManalysis(design, \"q3d\")"
   ]
  },
  {
   "cell_type": "code",
   "execution_count": null,
   "metadata": {},
   "outputs": [],
   "source": [
    "c1.sim.setup.reuse_selected_design = False\n",
    "c1.sim.setup.reuse_setup = False\n",
    "\n",
    "# example: update single setting\n",
    "c1.sim.setup.max_passes = 30\n",
    "c1.sim.setup.min_converged_passes = 1\n",
    "c1.sim.setup.percent_error = 0.1\n",
    "c1.sim.setup.name = 'sweep_setup'"
   ]
  },
  {
   "cell_type": "code",
   "execution_count": null,
   "metadata": {},
   "outputs": [],
   "source": [
    "def do_LOM_qubitonly(cross_length, claw_length, Lj, i):\n",
    "    qname = 'xmon'\n",
    "    cname = 'readout'\n",
    "\n",
    "    design.components[qname].options['connection_pads']['readout']['claw_length'] = f'{claw_length}um'\n",
    "    design.components[qname].options['cross_length'] = f'{cross_length}um'\n",
    "    design.components[qname].options['hfss_inductance'] = Lj\n",
    "    design.components[qname].options['aedt_hfss_inductance'] = Lj\n",
    "    design.components[qname].options['q3d_inductance'] = Lj\n",
    "    design.components[qname].options['aedt_q3d_inductance'] = Lj\n",
    "    design.rebuild()\n",
    "\n",
    "    selection = [qname]\n",
    "    open_pins = [(qname, cname)]\n",
    "\n",
    "\n",
    "    c1.sim.run(name = 'LOMv2.0', components=selection,\n",
    "               open_terminations=open_pins)\n",
    "    cap_df = c1.sim.capacitance_matrix\n",
    "\n",
    "    print(f'For Qubit_{i}, the cap matrix is...')\n",
    "    print(cap_df)\n",
    "\n",
    "    data = {\n",
    "        \"design_options\": design.components[qname].options,\n",
    "        \"data\": {\n",
    "            \"cross_to_ground\": 0 if 'ground_main_plane' not in cap_df.loc[f'cross_{qname}'] else cap_df.loc[f'cross_{qname}']['ground_main_plane'],\n",
    "            \"claw_to_ground\": 0 if 'ground_main_plane' not in cap_df.loc[f'{cname}_connector_arm_{qname}'] else cap_df.loc[f'{cname}_connector_arm_{qname}']['ground_main_plane'],\n",
    "            \"cross_to_claw\": cap_df.loc[f'cross_{qname}'][f'{cname}_connector_arm_{qname}'],\n",
    "            \"cross_to_cross\": cap_df.loc[f'cross_{qname}'][f'cross_{qname}'],\n",
    "            \"claw_to_claw\": cap_df.loc[f'{cname}_connector_arm_{qname}'][f'{cname}_connector_arm_{qname}'],\n",
    "            \"ground_to_ground\": 0 if 'ground_main_plane' not in cap_df.loc[f'cross_{qname}'] else cap_df.loc['ground_main_plane']['ground_main_plane']\n",
    "        },\n",
    "        \"sim_info\": {\n",
    "            \"setup\": c1.sim.setup,\n",
    "            \"renderer_options\": c1.sim.renderer.options\n",
    "        }\n",
    "    }\n",
    "    save_simulation_data_to_json(data, filename = f\"qubitonly_num{i}_v{version}\")\n"
   ]
  },
  {
   "cell_type": "code",
   "execution_count": null,
   "metadata": {},
   "outputs": [
    {
     "name": "stderr",
     "output_type": "stream",
     "text": [
      "INFO 10:33PM [connect_design]: \tOpened active design\n",
      "\tDesign:    LOMv2.0_q3d11 [Solution type: Q3D]\n",
      "WARNING 10:33PM [connect_setup]: \tNo design setup detected.\n",
      "WARNING 10:33PM [connect_setup]: \tCreating Q3D default setup.\n",
      "INFO 10:33PM [get_setup]: \tOpened setup `Setup`  (<class 'pyEPR.ansys.AnsysQ3DSetup'>)\n",
      "INFO 10:33PM [get_setup]: \tOpened setup `sweep_setup`  (<class 'pyEPR.ansys.AnsysQ3DSetup'>)\n",
      "INFO 10:33PM [analyze]: Analyzing setup sweep_setup\n",
      "INFO 10:35PM [get_matrix]: Exporting matrix data to (C:\\Users\\lfl\\AppData\\Local\\Temp\\tmp26h3zm55.txt, C, , sweep_setup:LastAdaptive, \"Original\", \"ohm\", \"nH\", \"fF\", \"mSie\", 5000000000, Maxwell, 1, False\n",
      "INFO 10:35PM [get_matrix]: Exporting matrix data to (C:\\Users\\lfl\\AppData\\Local\\Temp\\tmpfv_fh80n.txt, C, , sweep_setup:AdaptivePass, \"Original\", \"ohm\", \"nH\", \"fF\", \"mSie\", 5000000000, Maxwell, 1, False\n",
      "INFO 10:35PM [get_matrix]: Exporting matrix data to (C:\\Users\\lfl\\AppData\\Local\\Temp\\tmp2n77lr4w.txt, C, , sweep_setup:AdaptivePass, \"Original\", \"ohm\", \"nH\", \"fF\", \"mSie\", 5000000000, Maxwell, 2, False\n",
      "INFO 10:35PM [get_matrix]: Exporting matrix data to (C:\\Users\\lfl\\AppData\\Local\\Temp\\tmpd7scvkdn.txt, C, , sweep_setup:AdaptivePass, \"Original\", \"ohm\", \"nH\", \"fF\", \"mSie\", 5000000000, Maxwell, 3, False\n",
      "INFO 10:35PM [get_matrix]: Exporting matrix data to (C:\\Users\\lfl\\AppData\\Local\\Temp\\tmpcc_p8t5c.txt, C, , sweep_setup:AdaptivePass, \"Original\", \"ohm\", \"nH\", \"fF\", \"mSie\", 5000000000, Maxwell, 4, False\n",
      "INFO 10:35PM [get_matrix]: Exporting matrix data to (C:\\Users\\lfl\\AppData\\Local\\Temp\\tmpjxl_kph_.txt, C, , sweep_setup:AdaptivePass, \"Original\", \"ohm\", \"nH\", \"fF\", \"mSie\", 5000000000, Maxwell, 5, False\n",
      "INFO 10:35PM [get_matrix]: Exporting matrix data to (C:\\Users\\lfl\\AppData\\Local\\Temp\\tmpj6pdoiui.txt, C, , sweep_setup:AdaptivePass, \"Original\", \"ohm\", \"nH\", \"fF\", \"mSie\", 5000000000, Maxwell, 6, False\n",
      "INFO 10:35PM [get_matrix]: Exporting matrix data to (C:\\Users\\lfl\\AppData\\Local\\Temp\\tmpamuwr0j4.txt, C, , sweep_setup:AdaptivePass, \"Original\", \"ohm\", \"nH\", \"fF\", \"mSie\", 5000000000, Maxwell, 7, False\n",
      "INFO 10:35PM [get_matrix]: Exporting matrix data to (C:\\Users\\lfl\\AppData\\Local\\Temp\\tmpcly6fqga.txt, C, , sweep_setup:AdaptivePass, \"Original\", \"ohm\", \"nH\", \"fF\", \"mSie\", 5000000000, Maxwell, 8, False\n",
      "INFO 10:35PM [get_matrix]: Exporting matrix data to (C:\\Users\\lfl\\AppData\\Local\\Temp\\tmp2jixatwv.txt, C, , sweep_setup:AdaptivePass, \"Original\", \"ohm\", \"nH\", \"fF\", \"mSie\", 5000000000, Maxwell, 9, False\n",
      "INFO 10:35PM [get_matrix]: Exporting matrix data to (C:\\Users\\lfl\\AppData\\Local\\Temp\\tmp7tote7_9.txt, C, , sweep_setup:AdaptivePass, \"Original\", \"ohm\", \"nH\", \"fF\", \"mSie\", 5000000000, Maxwell, 10, False\n",
      "INFO 10:35PM [get_matrix]: Exporting matrix data to (C:\\Users\\lfl\\AppData\\Local\\Temp\\tmp272c60zw.txt, C, , sweep_setup:AdaptivePass, \"Original\", \"ohm\", \"nH\", \"fF\", \"mSie\", 5000000000, Maxwell, 11, False\n",
      "INFO 10:35PM [get_matrix]: Exporting matrix data to (C:\\Users\\lfl\\AppData\\Local\\Temp\\tmpeys0wcx1.txt, C, , sweep_setup:AdaptivePass, \"Original\", \"ohm\", \"nH\", \"fF\", \"mSie\", 5000000000, Maxwell, 12, False\n",
      "INFO 10:35PM [get_matrix]: Exporting matrix data to (C:\\Users\\lfl\\AppData\\Local\\Temp\\tmpat1wfv92.txt, C, , sweep_setup:AdaptivePass, \"Original\", \"ohm\", \"nH\", \"fF\", \"mSie\", 5000000000, Maxwell, 13, False\n",
      "INFO 10:35PM [get_matrix]: Exporting matrix data to (C:\\Users\\lfl\\AppData\\Local\\Temp\\tmp885xgie8.txt, C, , sweep_setup:AdaptivePass, \"Original\", \"ohm\", \"nH\", \"fF\", \"mSie\", 5000000000, Maxwell, 14, False\n",
      "INFO 10:35PM [get_matrix]: Exporting matrix data to (C:\\Users\\lfl\\AppData\\Local\\Temp\\tmp6_lr3isz.txt, C, , sweep_setup:AdaptivePass, \"Original\", \"ohm\", \"nH\", \"fF\", \"mSie\", 5000000000, Maxwell, 15, False\n",
      "INFO 10:35PM [get_matrix]: Exporting matrix data to (C:\\Users\\lfl\\AppData\\Local\\Temp\\tmp9p40drsm.txt, C, , sweep_setup:AdaptivePass, \"Original\", \"ohm\", \"nH\", \"fF\", \"mSie\", 5000000000, Maxwell, 16, False\n",
      "INFO 10:35PM [get_matrix]: Exporting matrix data to (C:\\Users\\lfl\\AppData\\Local\\Temp\\tmphgobeer0.txt, C, , sweep_setup:AdaptivePass, \"Original\", \"ohm\", \"nH\", \"fF\", \"mSie\", 5000000000, Maxwell, 17, False\n",
      "INFO 10:35PM [get_matrix]: Exporting matrix data to (C:\\Users\\lfl\\AppData\\Local\\Temp\\tmp4a2toicl.txt, C, , sweep_setup:AdaptivePass, \"Original\", \"ohm\", \"nH\", \"fF\", \"mSie\", 5000000000, Maxwell, 18, False\n"
     ]
    },
    {
     "name": "stdout",
     "output_type": "stream",
     "text": [
      "For Qubit_4, the cap matrix is...\n",
      "                            cross_xmon  readout_connector_arm_xmon\n",
      "cross_xmon                    97.82501                    -8.33882\n",
      "readout_connector_arm_xmon    -8.33882                    94.83572\n"
     ]
    }
   ],
   "source": [
    "all_cap_matricies = []\n",
    "\n",
    "for i, (cross_length, claw_length, Lj) in enumerate(zip(predicted_cross_length, predicted_claw_length, Lj_vals)):\n",
    "    if i not in indexes:\n",
    "        continue\n",
    "    do_LOM_qubitonly(cross_length, claw_length, Lj, i)"
   ]
  },
  {
   "cell_type": "code",
   "execution_count": null,
   "metadata": {},
   "outputs": [],
   "source": []
  }
 ],
 "metadata": {
  "kernelspec": {
   "display_name": "qiskit_metal",
   "language": "python",
   "name": "python3"
  },
  "language_info": {
   "codemirror_mode": {
    "name": "ipython",
    "version": 3
   },
   "file_extension": ".py",
   "mimetype": "text/x-python",
   "name": "python",
   "nbconvert_exporter": "python",
   "pygments_lexer": "ipython3",
   "version": "3.11.3"
  }
 },
 "nbformat": 4,
 "nbformat_minor": 4
}
